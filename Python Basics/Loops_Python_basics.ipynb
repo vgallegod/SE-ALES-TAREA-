{
  "nbformat": 4,
  "nbformat_minor": 0,
  "metadata": {
    "colab": {
      "provenance": []
    },
    "kernelspec": {
      "name": "python3",
      "display_name": "Python 3"
    },
    "language_info": {
      "name": "python"
    }
  },
  "cells": [
    {
      "cell_type": "markdown",
      "source": [
        "##Ejercicio 1\n",
        "\n",
        "Escriba un código que le solicite al usuario que ingrese un número entero cada vez, y el proceso se repetirá con más números hasta que el usuario ingrese un cero.\n",
        "\n",
        "Al final (cuando se ingresa el cero), muestra la cantidad de números ingresados."
      ],
      "metadata": {
        "id": "5FTvbhhUstDv"
      }
    },
    {
      "cell_type": "code",
      "execution_count": 1,
      "metadata": {
        "colab": {
          "base_uri": "https://localhost:8080/"
        },
        "id": "lnKfjKN-sigD",
        "outputId": "4990c776-0040-4744-b646-440dbd978211"
      },
      "outputs": [
        {
          "output_type": "stream",
          "name": "stdout",
          "text": [
            "Ingresa un número entero. \n",
            " Si quieres terminar el programa, ingresa 0 5\n",
            "Ingresa un número entero. \n",
            " Si quieres terminar el programa, ingresa 0 5\n",
            "Ingresa un número entero. \n",
            " Si quieres terminar el programa, ingresa 0 4\n",
            "Ingresa un número entero. \n",
            " Si quieres terminar el programa, ingresa 0 5\n",
            "Ingresa un número entero. \n",
            " Si quieres terminar el programa, ingresa 0 4\n",
            "Ingresa un número entero. \n",
            " Si quieres terminar el programa, ingresa 0 0\n",
            "Total de numeros ingresados: 5\n"
          ]
        }
      ],
      "source": [
        "count = 0\n",
        "num = 1\n",
        "while num != 0:\n",
        "    num = int(input(\"Ingresa un número entero. \\n Si quieres terminar, ingresa 0 \"))\n",
        "\n",
        "    if num != 0:\n",
        "        count += 1\n",
        "\n",
        "print(f\"Total de numeros ingresados: {count}\")"
      ]
    },
    {
      "cell_type": "markdown",
      "source": [
        "##Ejercicio 2\n",
        "\n",
        "Utilice la función input() para pedirle al usuario que ingrese un número entero. Sólo si el número es par se acumulará.\n",
        "\n",
        "El programa debe finalizar si la suma de los números supera 50 o si el usuario introduce un máximo de 10 números.\n"
      ],
      "metadata": {
        "id": "2wUf5wIetOz1"
      }
    },
    {
      "cell_type": "code",
      "source": [
        "total_sum = 0\n",
        "numbers = 0\n",
        "\n",
        "while total_sum <= 50 and numbers < 10:\n",
        "    num = int(input(\"Ingresa un número entero: \"))\n",
        "\n",
        "    if num % 2 == 0:\n",
        "        total_sum += num\n",
        "\n",
        "    numbers += 1\n",
        "\n",
        "print(f\"Suma total de los números: {total_sum}\")"
      ],
      "metadata": {
        "colab": {
          "base_uri": "https://localhost:8080/"
        },
        "id": "Q-OMuYh7taHv",
        "outputId": "508ec59e-604d-4672-8a68-40f231e81214"
      },
      "execution_count": 3,
      "outputs": [
        {
          "output_type": "stream",
          "name": "stdout",
          "text": [
            "Ingresa un número entero: 44\n",
            "Ingresa un número entero: 8\n",
            "Suma total de los números: 52\n"
          ]
        }
      ]
    }
  ]
}