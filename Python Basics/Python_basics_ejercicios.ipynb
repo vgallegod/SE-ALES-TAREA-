{
  "nbformat": 4,
  "nbformat_minor": 0,
  "metadata": {
    "colab": {
      "provenance": []
    },
    "kernelspec": {
      "name": "python3",
      "display_name": "Python 3"
    },
    "language_info": {
      "name": "python"
    }
  },
  "cells": [
    {
      "cell_type": "markdown",
      "source": [
        "#Cuaderno 1 - Ejercicios Python\n",
        "#Valeria Gallego Duque 2024 1\n",
        "#Introduction to Python Notebooks - Google Colab\n",
        "\n",
        "\n",
        "\n"
      ],
      "metadata": {
        "id": "CY3REa3O8ldU"
      }
    },
    {
      "cell_type": "markdown",
      "source": [
        "In Python, you don't have to declare the data type for variables like in other programming languages. When you assign a value to a variable, Python automatically determines its data type based on the assigned value. However, the basic data types in Python are as follows:\n",
        "\n",
        "1. Integer (int): Represents whole numbers without decimals, such as 5, -10, or 0.\n",
        "\n",
        "2. Float: Represents numbers with decimal points, such as 3.14, -2.5, or 0.0.\n",
        "\n",
        "3. String (str): Represents a sequence of characters enclosed in single quotes ('') or double quotes (\"\"). For example, \"Hello, World!\" or 'Python'.\n",
        "\n",
        "4. Boolean (bool): Represents either True or False. It is used for logical operations and conditional statements.\n",
        "\n",
        "5. List: Represents an ordered collection of items enclosed in square brackets ([]). Lists can contain elements of different data types and are mutable (modifiable).\n",
        "\n",
        "6. Tuple: Similar to lists, tuples are also ordered collections of items, but they are enclosed in parentheses (()). Tuples are immutable (cannot be modified).\n",
        "\n",
        "7. Dictionary (dict): Represents a collection of key-value pairs enclosed in curly braces ({}). Each value is associated with a unique key, allowing fast retrieval of values.\n",
        "\n",
        "8. Set: Represents an unordered collection of unique elements enclosed in curly braces ({}). Sets are useful for eliminating duplicate values and performing mathematical set operations.\n",
        "\n",
        "These are the basic data types in Python, and they provide the foundation for more complex data structures and objects."
      ],
      "metadata": {
        "id": "qePyAGJG8sZF"
      }
    },
    {
      "cell_type": "code",
      "source": [
        "a = 2  # Integer type\n",
        "b = a + 3\n",
        "\n",
        "f = 0.176  # Float type\n",
        "\n",
        "condition = True  # Boolean type\n",
        "\n",
        "s = \"Hello\"  # String type"
      ],
      "metadata": {
        "id": "rSWRG-M_9BQr"
      },
      "execution_count": null,
      "outputs": []
    },
    {
      "cell_type": "code",
      "source": [
        "type(a) #type function print the variable type"
      ],
      "metadata": {
        "colab": {
          "base_uri": "https://localhost:8080/"
        },
        "id": "2kGCqjPnAhYg",
        "outputId": "959fb372-ea76-4e05-a355-268230907f6b"
      },
      "execution_count": null,
      "outputs": [
        {
          "output_type": "execute_result",
          "data": {
            "text/plain": [
              "int"
            ]
          },
          "metadata": {},
          "execution_count": 2
        }
      ]
    },
    {
      "cell_type": "code",
      "source": [
        "type(b)"
      ],
      "metadata": {
        "colab": {
          "base_uri": "https://localhost:8080/"
        },
        "id": "Jcif8WDhBWJ3",
        "outputId": "c940fac2-2770-4fd0-f615-e812af78a4d1"
      },
      "execution_count": null,
      "outputs": [
        {
          "output_type": "execute_result",
          "data": {
            "text/plain": [
              "int"
            ]
          },
          "metadata": {},
          "execution_count": 3
        }
      ]
    },
    {
      "cell_type": "code",
      "source": [
        "type(f)"
      ],
      "metadata": {
        "colab": {
          "base_uri": "https://localhost:8080/"
        },
        "id": "X7UjciSnBAdL",
        "outputId": "88e489cb-bb47-4859-c3f2-a8beb6aac991"
      },
      "execution_count": null,
      "outputs": [
        {
          "output_type": "execute_result",
          "data": {
            "text/plain": [
              "float"
            ]
          },
          "metadata": {},
          "execution_count": 4
        }
      ]
    },
    {
      "cell_type": "code",
      "source": [
        "type(condition)"
      ],
      "metadata": {
        "colab": {
          "base_uri": "https://localhost:8080/"
        },
        "id": "vPQm2VaBBCni",
        "outputId": "a7006903-451a-4332-a365-b5e189766951"
      },
      "execution_count": null,
      "outputs": [
        {
          "output_type": "execute_result",
          "data": {
            "text/plain": [
              "bool"
            ]
          },
          "metadata": {},
          "execution_count": 6
        }
      ]
    },
    {
      "cell_type": "code",
      "source": [
        "type(s)"
      ],
      "metadata": {
        "colab": {
          "base_uri": "https://localhost:8080/"
        },
        "id": "6TTtTmCkBHNL",
        "outputId": "66495d18-44e3-40ba-e0e8-50f71a07c144"
      },
      "execution_count": null,
      "outputs": [
        {
          "output_type": "execute_result",
          "data": {
            "text/plain": [
              "str"
            ]
          },
          "metadata": {},
          "execution_count": 5
        }
      ]
    },
    {
      "cell_type": "markdown",
      "source": [
        "What happens if we add an int with a float?"
      ],
      "metadata": {
        "id": "nzJTHGf8Bers"
      }
    },
    {
      "cell_type": "code",
      "source": [
        "x = b + f\n",
        "x"
      ],
      "metadata": {
        "colab": {
          "base_uri": "https://localhost:8080/"
        },
        "id": "fxiyqBVlBYrZ",
        "outputId": "6467f59f-6081-4da5-bdb5-339d7b0c5f3e"
      },
      "execution_count": null,
      "outputs": [
        {
          "output_type": "execute_result",
          "data": {
            "text/plain": [
              "5.176"
            ]
          },
          "metadata": {},
          "execution_count": 7
        }
      ]
    },
    {
      "cell_type": "code",
      "source": [
        "type(x)"
      ],
      "metadata": {
        "colab": {
          "base_uri": "https://localhost:8080/"
        },
        "id": "n0dSEoBEBbiT",
        "outputId": "aefe30b3-6da0-4dd2-d633-191a64436734"
      },
      "execution_count": null,
      "outputs": [
        {
          "output_type": "execute_result",
          "data": {
            "text/plain": [
              "float"
            ]
          },
          "metadata": {},
          "execution_count": 8
        }
      ]
    },
    {
      "cell_type": "markdown",
      "source": [
        "Another handy tool is the ability to convert data types.\n",
        "For instance, by converting x to an integer, we obtain only its integer part."
      ],
      "metadata": {
        "id": "qhmzXdWEBkts"
      }
    },
    {
      "cell_type": "code",
      "source": [
        "x2 = int(x) #variable casting\n",
        "x2"
      ],
      "metadata": {
        "colab": {
          "base_uri": "https://localhost:8080/"
        },
        "id": "9urmEVBeB2O7",
        "outputId": "4f492881-ed56-4359-fc2e-b926988190c5"
      },
      "execution_count": null,
      "outputs": [
        {
          "output_type": "execute_result",
          "data": {
            "text/plain": [
              "5"
            ]
          },
          "metadata": {},
          "execution_count": 10
        }
      ]
    },
    {
      "cell_type": "code",
      "source": [
        "type(x2)"
      ],
      "metadata": {
        "colab": {
          "base_uri": "https://localhost:8080/"
        },
        "id": "5vO6QIlA2YJC",
        "outputId": "52446be0-845c-4b5c-ac04-fb92593a4c9c"
      },
      "execution_count": null,
      "outputs": [
        {
          "output_type": "execute_result",
          "data": {
            "text/plain": [
              "int"
            ]
          },
          "metadata": {},
          "execution_count": 11
        }
      ]
    },
    {
      "cell_type": "markdown",
      "source": [
        "For boolean variables, their representation as integers can be useful for certain applications. The correspondence is as follows:\n",
        "\n",
        "True $\\neq$ 0 (More commonly represented as 1)\n",
        "\n",
        "False = 0"
      ],
      "metadata": {
        "id": "hUTYPuqRB7JS"
      }
    },
    {
      "cell_type": "code",
      "source": [
        "condicion_int = int(condition)\n",
        "condicion_int"
      ],
      "metadata": {
        "colab": {
          "base_uri": "https://localhost:8080/"
        },
        "id": "m7aHnSweB6Yy",
        "outputId": "35c48507-6ed9-4afd-d24d-f51d7257789c"
      },
      "execution_count": null,
      "outputs": [
        {
          "output_type": "execute_result",
          "data": {
            "text/plain": [
              "1"
            ]
          },
          "metadata": {},
          "execution_count": 9
        }
      ]
    },
    {
      "cell_type": "code",
      "source": [
        "c = 5\n",
        "condicion_2 = bool(c)\n",
        "condicion_2"
      ],
      "metadata": {
        "colab": {
          "base_uri": "https://localhost:8080/"
        },
        "id": "7fswi5YgCP1x",
        "outputId": "a142ad15-bb19-4be8-b6be-606b2609f21f"
      },
      "execution_count": null,
      "outputs": [
        {
          "output_type": "execute_result",
          "data": {
            "text/plain": [
              "True"
            ]
          },
          "metadata": {},
          "execution_count": 10
        }
      ]
    },
    {
      "cell_type": "code",
      "source": [
        "c = 0\n",
        "condicion_2 = bool(c)\n",
        "condicion_2"
      ],
      "metadata": {
        "colab": {
          "base_uri": "https://localhost:8080/"
        },
        "id": "14KqhWnGCwgP",
        "outputId": "29817d1a-6529-4393-ca93-e4053c796ccb"
      },
      "execution_count": null,
      "outputs": [
        {
          "output_type": "execute_result",
          "data": {
            "text/plain": [
              "False"
            ]
          },
          "metadata": {},
          "execution_count": 11
        }
      ]
    },
    {
      "cell_type": "markdown",
      "source": [
        "Two of the main commands used to interact with the console are: print() and input()."
      ],
      "metadata": {
        "id": "ZhNkkPAAIDDO"
      }
    },
    {
      "cell_type": "markdown",
      "source": [
        "The print() command allows us to display variables as well as the text that is provided as an argument on the screen."
      ],
      "metadata": {
        "id": "W5sOen9pJXY0"
      }
    },
    {
      "cell_type": "code",
      "source": [
        "print(\"This is the message to be printed.\\nIn this case, it has two lines.\") #\\n print a new line"
      ],
      "metadata": {
        "colab": {
          "base_uri": "https://localhost:8080/"
        },
        "id": "BU-dHeM0Jl7l",
        "outputId": "f81189ad-ae7e-486d-f747-49416b92dc2a"
      },
      "execution_count": null,
      "outputs": [
        {
          "output_type": "stream",
          "name": "stdout",
          "text": [
            "This is the message to be printed.\n",
            "In this case, it has two lines.\n"
          ]
        }
      ]
    },
    {
      "cell_type": "code",
      "source": [
        "print(b)"
      ],
      "metadata": {
        "colab": {
          "base_uri": "https://localhost:8080/"
        },
        "id": "vk4hdmzRJ6R-",
        "outputId": "51d0cd27-c848-438e-8dc4-ce1cc4dcbfa2"
      },
      "execution_count": null,
      "outputs": [
        {
          "output_type": "stream",
          "name": "stdout",
          "text": [
            "5\n"
          ]
        }
      ]
    },
    {
      "cell_type": "code",
      "source": [
        "print(condition)"
      ],
      "metadata": {
        "colab": {
          "base_uri": "https://localhost:8080/"
        },
        "id": "fzPS0Fh_KCig",
        "outputId": "639704fa-9f58-40f9-c696-de2f5e3ecb2d"
      },
      "execution_count": null,
      "outputs": [
        {
          "output_type": "stream",
          "name": "stdout",
          "text": [
            "True\n"
          ]
        }
      ]
    },
    {
      "cell_type": "markdown",
      "source": [
        "On the other hand, the input() command can also display a message on the screen, but it will be displayed before the input field where the value, which will be stored in a string variable, is entered."
      ],
      "metadata": {
        "id": "4Mrq_tb6KYEw"
      }
    },
    {
      "cell_type": "code",
      "source": [
        "y = input(\"Input a number please: \")\n",
        "y"
      ],
      "metadata": {
        "colab": {
          "base_uri": "https://localhost:8080/",
          "height": 53
        },
        "id": "BVX98Bx8LPs_",
        "outputId": "1933b803-927d-4637-8b72-7b6787506e60"
      },
      "execution_count": null,
      "outputs": [
        {
          "name": "stdout",
          "output_type": "stream",
          "text": [
            "Input a number please: 5\n"
          ]
        },
        {
          "output_type": "execute_result",
          "data": {
            "text/plain": [
              "'5'"
            ],
            "application/vnd.google.colaboratory.intrinsic+json": {
              "type": "string"
            }
          },
          "metadata": {},
          "execution_count": 18
        }
      ]
    },
    {
      "cell_type": "code",
      "source": [
        "type(y) #note that a str is captured, you need to privide a casting to convert it to a number if needed"
      ],
      "metadata": {
        "colab": {
          "base_uri": "https://localhost:8080/"
        },
        "id": "9JbU9M5rN_Vt",
        "outputId": "1048e3e1-e9b9-45c5-e1a4-450f6ac4310b"
      },
      "execution_count": null,
      "outputs": [
        {
          "output_type": "execute_result",
          "data": {
            "text/plain": [
              "str"
            ]
          },
          "metadata": {},
          "execution_count": 20
        }
      ]
    },
    {
      "cell_type": "markdown",
      "source": [
        "\n",
        "Basic arithmetic operations:"
      ],
      "metadata": {
        "id": "QG5TxjW-OWqY"
      }
    },
    {
      "cell_type": "code",
      "source": [
        "a = 2 + 4.5 + 3\n",
        "b = a - 2.5 # . holds decimal operator\n",
        "b"
      ],
      "metadata": {
        "colab": {
          "base_uri": "https://localhost:8080/"
        },
        "id": "AUJtIrleRIdQ",
        "outputId": "4256889c-66cf-4b69-e0a4-39a22c58cb9b"
      },
      "execution_count": null,
      "outputs": [
        {
          "output_type": "execute_result",
          "data": {
            "text/plain": [
              "7.0"
            ]
          },
          "metadata": {},
          "execution_count": 21
        }
      ]
    },
    {
      "cell_type": "code",
      "source": [
        "a = 3*8 # Multiplication maintains the data type if it is an integer\n",
        "b = a/6 # Division automatically converts it to a float even if it is exact\n",
        "a, b"
      ],
      "metadata": {
        "colab": {
          "base_uri": "https://localhost:8080/"
        },
        "id": "pzLN54zIRPMw",
        "outputId": "943c6c0c-eb24-4919-a75c-f351baff4ba9"
      },
      "execution_count": null,
      "outputs": [
        {
          "output_type": "execute_result",
          "data": {
            "text/plain": [
              "(24, 4.0)"
            ]
          },
          "metadata": {},
          "execution_count": 22
        }
      ]
    },
    {
      "cell_type": "code",
      "source": [
        "a = 2**2 # ** power operator\n",
        "a"
      ],
      "metadata": {
        "colab": {
          "base_uri": "https://localhost:8080/"
        },
        "id": "hPtAUG8ASYWB",
        "outputId": "1879901a-c276-40c6-ea54-4a0271052b65"
      },
      "execution_count": null,
      "outputs": [
        {
          "output_type": "execute_result",
          "data": {
            "text/plain": [
              "4"
            ]
          },
          "metadata": {},
          "execution_count": 24
        }
      ]
    },
    {
      "cell_type": "code",
      "source": [
        "b = 9**(1/2)\n",
        "b"
      ],
      "metadata": {
        "colab": {
          "base_uri": "https://localhost:8080/"
        },
        "id": "cxjxYCBVSbp0",
        "outputId": "98b17fbb-3e7f-4556-f9e0-8aa939e8d8be"
      },
      "execution_count": null,
      "outputs": [
        {
          "output_type": "execute_result",
          "data": {
            "text/plain": [
              "3.0"
            ]
          },
          "metadata": {},
          "execution_count": 25
        }
      ]
    },
    {
      "cell_type": "markdown",
      "source": [
        "\n",
        "This is a way to calculate square roots without using any library.\n",
        "In general, for more advanced calculations, numpy and sympy are commonly used."
      ],
      "metadata": {
        "id": "Q-Zz-FXuSkuC"
      }
    },
    {
      "cell_type": "markdown",
      "source": [
        "## Exercises"
      ],
      "metadata": {
        "id": "fe0JX6B0TEjG"
      }
    },
    {
      "cell_type": "markdown",
      "source": [
        "\n",
        "1. Write a program that displays the result of the following arithmetic operation on the screen: $x(t) = \\left(\\frac{3+2}{2.5}\\right)^2$\n",
        "\n",
        "2. Write a program that asks the user for the number of hours worked and the hourly rate. Then, it should display on the screen the corresponding payment.\n",
        "\n",
        "3. Write a program that asks the user for their weight (in kg) and height (in meters), calculates the body mass index (BMI), stores it in a variable, and displays the message \"Your body mass index is imc\" on the screen, where imc is the calculated BMI rounded to two decimal places."
      ],
      "metadata": {
        "id": "96blkWptzDmu"
      }
    },
    {
      "cell_type": "markdown",
      "source": [
        "Developed by:\n",
        "\n",
        "- Brian Patino Agudelo - bpatinoa@unal.edu.co\n",
        "\n",
        "- Andrés Marino Álvarez Meza - amalvarezme@unal.edu.co\n",
        "\n",
        "- César Germán Castellanos Domínguez - cgcastellanosd@unal.edu.co\n",
        "\n",
        "\n",
        "\n",
        "\n"
      ],
      "metadata": {
        "id": "pwWLNV4zz5di"
      }
    },
    {
      "cell_type": "markdown",
      "source": [
        "RESPUESTA 1:"
      ],
      "metadata": {
        "id": "zgfGDMz_tXN-"
      }
    },
    {
      "cell_type": "code",
      "source": [
        "x= (((3+2)/2.5))**2\n",
        "print(\"el resultado de la operacion es:\",x)\n"
      ],
      "metadata": {
        "colab": {
          "base_uri": "https://localhost:8080/"
        },
        "id": "j03p0CIirxUZ",
        "outputId": "ed403e3f-9d71-428a-9150-a7335a038995"
      },
      "execution_count": null,
      "outputs": [
        {
          "output_type": "stream",
          "name": "stdout",
          "text": [
            "el resultado de la operacion es: 4.0\n"
          ]
        }
      ]
    },
    {
      "cell_type": "markdown",
      "source": [
        "RESPUESTA 2:"
      ],
      "metadata": {
        "id": "2MBLsObxtQkl"
      }
    },
    {
      "cell_type": "code",
      "source": [
        "x=int(input(\"ingrese la cantidad de horqas trabajadas: \"))\n",
        "p= x*6000\n",
        "print(\"Su pago por las horas tranajadas es de:\",p)"
      ],
      "metadata": {
        "colab": {
          "base_uri": "https://localhost:8080/"
        },
        "id": "D_3n_z-2tUa0",
        "outputId": "e7aa535d-0dc7-45de-c431-3c1127a6d705"
      },
      "execution_count": null,
      "outputs": [
        {
          "output_type": "stream",
          "name": "stdout",
          "text": [
            "ingrese la cantidad de horqas trabajadas: 8\n",
            "Su pago por las horas tranajadas es de: 48000\n"
          ]
        }
      ]
    },
    {
      "cell_type": "markdown",
      "source": [
        "RESPUESTA 3:\n"
      ],
      "metadata": {
        "id": "_41KTpD8wdNR"
      }
    },
    {
      "cell_type": "code",
      "source": [
        "peso=float(input(\"ingrese su peso en kilogramos:\"))\n",
        "altura=float(input(\"ingrese su altura en metros\"))\n",
        "imc=round(peso/altura,2)\n",
        "print(\"su indice de masa corporal es de:\",imc)"
      ],
      "metadata": {
        "colab": {
          "base_uri": "https://localhost:8080/"
        },
        "id": "ieqRIyarwfsR",
        "outputId": "cd521737-b357-4903-8d36-804ec44b861e"
      },
      "execution_count": null,
      "outputs": [
        {
          "output_type": "stream",
          "name": "stdout",
          "text": [
            "ingrese su peso en kilogramos:55\n",
            "ingrese su altura en metros1.65\n",
            "su indice de masa corporal es de: 33.33\n"
          ]
        }
      ]
    },
    {
      "cell_type": "markdown",
      "source": [],
      "metadata": {
        "id": "940BYnRcyv93"
      }
    }
  ]
}