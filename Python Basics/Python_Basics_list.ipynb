{
  "nbformat": 4,
  "nbformat_minor": 0,
  "metadata": {
    "colab": {
      "provenance": []
    },
    "kernelspec": {
      "name": "python3",
      "display_name": "Python 3"
    },
    "language_info": {
      "name": "python"
    }
  },
  "cells": [
    {
      "cell_type": "markdown",
      "source": [
        "##Ejercicio 1\n",
        "\n",
        "Escriba una función que tome una lista de números como entrada y devuelva la suma de todos los números impares de la lista. Por ejemplo, si la entrada es [1, 2, 3, 4, 5, 6], la función debería devolver 9 (que es la suma de 1, 3 y 5)."
      ],
      "metadata": {
        "id": "y9DzXi5awaUd"
      }
    },
    {
      "cell_type": "code",
      "execution_count": 1,
      "metadata": {
        "colab": {
          "base_uri": "https://localhost:8080/"
        },
        "id": "cy_jPs25wZQT",
        "outputId": "9729450c-0d99-41e8-a098-56c8b6dea1f6"
      },
      "outputs": [
        {
          "output_type": "stream",
          "name": "stdout",
          "text": [
            "la suma de los números impares es \n"
          ]
        },
        {
          "output_type": "execute_result",
          "data": {
            "text/plain": [
              "25"
            ]
          },
          "metadata": {},
          "execution_count": 1
        }
      ],
      "source": [
        "def lista(n):\n",
        "  suma = 0\n",
        "  for i in n:\n",
        "    if i%2 != 0:\n",
        "      suma += i\n",
        "  return suma\n",
        "\n",
        "numbers = [1,2,3,4,5,6,7,8,9]\n",
        "suma = lista(numbers)\n",
        "print(\"la suma de los números impares es \")\n",
        "suma\n",
        "\n"
      ]
    },
    {
      "cell_type": "markdown",
      "source": [
        "##Ejercicio 2\n",
        "\n",
        "Escriba una función que tome una lista de palabras como entrada y devuelva un diccionario que cuente el número de veces que aparece cada palabra en la lista. Por ejemplo, si la entrada es ['manzana', 'plátano', 'manzana', 'cereza', 'cereza', 'cereza'], la función debería devolver {'manzana': 2, 'plátano': 1, 'cereza': 3}."
      ],
      "metadata": {
        "id": "nB0xqMifw80t"
      }
    },
    {
      "cell_type": "code",
      "source": [
        "def count(lista):\n",
        "    word_count = {}\n",
        "\n",
        "    for word in lista:\n",
        "        if word in word_count:\n",
        "            word_count[word] += 1\n",
        "        else:\n",
        "            word_count[word] = 1\n",
        "\n",
        "    return word_count\n",
        "\n",
        "word_list = ['mango', 'mango', 'banano', 'banano', 'naranja']\n",
        "word_counts = count(word_list)\n",
        "print(word_counts)"
      ],
      "metadata": {
        "colab": {
          "base_uri": "https://localhost:8080/"
        },
        "id": "_b6vlAlww_pf",
        "outputId": "4637b2b9-b4bd-4b56-e21b-7be3b31a381d"
      },
      "execution_count": 2,
      "outputs": [
        {
          "output_type": "stream",
          "name": "stdout",
          "text": [
            "{'mango': 2, 'banano': 2, 'naranja': 1}\n"
          ]
        }
      ]
    }
  ]
}