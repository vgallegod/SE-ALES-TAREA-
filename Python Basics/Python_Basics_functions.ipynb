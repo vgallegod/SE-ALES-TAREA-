{
  "nbformat": 4,
  "nbformat_minor": 0,
  "metadata": {
    "colab": {
      "provenance": []
    },
    "kernelspec": {
      "name": "python3",
      "display_name": "Python 3"
    },
    "language_info": {
      "name": "python"
    }
  },
  "cells": [
    {
      "cell_type": "markdown",
      "source": [
        "##Ejercicio 1\n",
        "\n",
        "El área de un triángulo se puede calcular cuando se conoce la longitud de sus lados. Teniendo en cuenta que s1, s2 y s3 ​​son las longitudes de los lados del triángulo, se puede calcular el subperímetro s = (s1+s2+s3)/2, y con este valor se puede calcular el área del triángulo. de lo siguiente: área = √( s * (s-s1) * (s-s2) * (s-s3) ).\n",
        "\n",
        "Crea una función que tome la longitud de los lados del triángulo y devuelva el área del triángulo, redondeada a un decimal.\n",
        "\n",
        "El módulo de matemáticas puede ayudarte a calcular la raíz cuadrada."
      ],
      "metadata": {
        "id": "U8kkypvPuSLw"
      }
    },
    {
      "cell_type": "code",
      "source": [
        "import math\n",
        "def area(s1,s2,s3):\n",
        "  s = (s1 + s2 + s3)/2\n",
        "  a = math.sqrt(s*(s - s1)*(s - s2)*(s - s3))\n",
        "  return round(a,1)\n",
        "\n",
        "\n",
        "\n",
        "s1 = int(input(\"Por favor ingresa el lado 1: \"))\n",
        "s2 = int(input(\"Por favor ingresa el lado 2: \"))\n",
        "s3 = int(input(\"Por favor ingresar el lado 3: \"))\n",
        "\n",
        "print(\"El área del triangulo es: \")\n",
        "a = area(s1,s2,s3)\n",
        "a"
      ],
      "metadata": {
        "colab": {
          "base_uri": "https://localhost:8080/"
        },
        "id": "EdDtgRs7uYjF",
        "outputId": "5e8a9c20-83c7-40e4-e3ad-3a6432dd435e"
      },
      "execution_count": 1,
      "outputs": [
        {
          "output_type": "stream",
          "name": "stdout",
          "text": [
            "Por favor ingresa el lado 1: 5\n",
            "Por favor ingresa el lado 2: 5\n",
            "Por favor ingresar el lado 3: 5\n",
            "El área del triangulo es: \n"
          ]
        },
        {
          "output_type": "execute_result",
          "data": {
            "text/plain": [
              "10.8"
            ]
          },
          "metadata": {},
          "execution_count": 1
        }
      ]
    },
    {
      "cell_type": "markdown",
      "source": [
        "##Ejercicio 2\n",
        "\n",
        "Cree una función que pueda calcular el índice de masa corporal (IMC) de una persona.\n",
        "\n",
        "La fórmula para calcular el IMC es la siguiente:\n",
        "\n",
        "IMC = peso/(altura^2)\n",
        "\n",
        "En esta fórmula el peso está en kilogramos y la altura en metros. Tenga en cuenta que el peso y la altura recibidos por su función estarán en libras y pulgadas respectivamente, ya que su función se utilizará en los Estados Unidos.\n",
        "\n",
        "Recuerda eso:\n",
        "\n",
        "1 libra corresponde a 0,45 kg.\n",
        "\n",
        "1 pulgada corresponde a 0,025 metros.\n",
        "\n",
        "El valor devuelto debe redondearse a dos decimales."
      ],
      "metadata": {
        "id": "qaUjc35VvCqh"
      }
    },
    {
      "cell_type": "code",
      "source": [
        "def convertir(w):\n",
        "  w1 = w*0.45\n",
        "  return w1\n",
        "\n",
        "def convertir2(h):\n",
        "    h1 = h*0.025\n",
        "    return h1\n",
        "\n",
        "def BMI(w, h):\n",
        "  bmi = w/(h**2)\n",
        "  return bmi\n",
        "\n",
        "\n",
        "w = float(input(\"Ingrese su peso \"))\n",
        "h = float(input(\"Ingrese su estatura\"))\n",
        "\n",
        "w1 = convertir(w)\n",
        "h1 = convertir2(h)\n",
        "\n",
        "bmi = BMI(w1,h1)\n",
        "print(\"Su indice de masa corporal es \")\n",
        "bmi\n",
        ""
      ],
      "metadata": {
        "colab": {
          "base_uri": "https://localhost:8080/"
        },
        "id": "d7TsscWDvY5U",
        "outputId": "a28db99e-521c-422c-f534-346f51e7eb41"
      },
      "execution_count": 2,
      "outputs": [
        {
          "output_type": "stream",
          "name": "stdout",
          "text": [
            "Ingrese su peso 70\n",
            "Ingrese su estatura1.53\n",
            "Su indice de masa corporal es \n"
          ]
        },
        {
          "output_type": "execute_result",
          "data": {
            "text/plain": [
              "21530.180699730867"
            ]
          },
          "metadata": {},
          "execution_count": 2
        }
      ]
    }
  ]
}