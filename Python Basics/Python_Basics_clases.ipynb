{
  "nbformat": 4,
  "nbformat_minor": 0,
  "metadata": {
    "colab": {
      "provenance": []
    },
    "kernelspec": {
      "name": "python3",
      "display_name": "Python 3"
    },
    "language_info": {
      "name": "python"
    }
  },
  "cells": [
    {
      "cell_type": "markdown",
      "source": [
        "Crea una clase \"Persona\" que tenga atributos como nombre, edad, género y métodos para presentarse y saludar a otras personas."
      ],
      "metadata": {
        "id": "QqvTJGeEyqLn"
      }
    },
    {
      "cell_type": "code",
      "execution_count": 2,
      "metadata": {
        "colab": {
          "base_uri": "https://localhost:8080/"
        },
        "id": "fhWlCA-yyeIS",
        "outputId": "a5150251-1776-41d1-b302-467b56d5a85d"
      },
      "outputs": [
        {
          "output_type": "stream",
          "name": "stdout",
          "text": [
            "¡Hola, soy Juan! Tengo 23 años y soy genero masculino.\n",
            "¡Hola, soy Alicia! Tengo 50 años y soy genero femenino.\n",
            "Hola, Alicia. Soy genero Juan y quiero saludarte.\n"
          ]
        }
      ],
      "source": [
        "class Persona:\n",
        "    def __init__(self, nombre, edad, genero):\n",
        "        self.nombre = nombre\n",
        "        self.edad = edad\n",
        "        self.genero = genero\n",
        "\n",
        "    def presentarse(self):\n",
        "        return f\"¡Hola, soy {self.nombre}! Tengo {self.edad} años y soy genero {self.genero}.\"\n",
        "\n",
        "    def saludar(self, otra_persona):\n",
        "        return f\"Hola, {otra_persona.nombre}. Soy genero {self.nombre} y quiero saludarte.\"\n",
        "\n",
        "persona1 = Persona(\"Juan\", 23, \"masculino\")\n",
        "persona2 = Persona(\"Alicia\", 50, \"femenino\")\n",
        "\n",
        "print(persona1.presentarse())\n",
        "print(persona2.presentarse())\n",
        "\n",
        "saludo = persona1.saludar(persona2)\n",
        "print(saludo)"
      ]
    },
    {
      "cell_type": "markdown",
      "source": [
        "Crea una clase \"Coche\" que tenga atributos como marca, modelo, año, kilometraje y métodos para arrancar, acelerar y frena"
      ],
      "metadata": {
        "id": "Ra56ZCvJzAGO"
      }
    },
    {
      "cell_type": "code",
      "source": [
        "class Coche:\n",
        "    def __init__(self, marca, modelo, año, kilometraje):\n",
        "        self.marca = marca\n",
        "        self.modelo = modelo\n",
        "        self.año = año\n",
        "        self.kilometraje = kilometraje\n",
        "        self.encendido = 1\n",
        "        self.velocidad = 0\n",
        "\n",
        "    def arrancar(self):\n",
        "        if self.encendido == 1:\n",
        "            print(self.marca, self.modelo, \"está en marcha\")\n",
        "        else:\n",
        "            print(self.marca, self.modelo, \"debe ser encendido\")\n",
        "\n",
        "    def acelerar(self, incremento):\n",
        "        if self.encendido == 1:\n",
        "            self.velocidad += incremento\n",
        "            print(f\"Acelerando. Velocidad actual: {self.velocidad} km/h\")\n",
        "        else:\n",
        "            print(f\"{self.marca} {self.modelo} el coche está apagado.\")\n",
        "\n",
        "    def frenar(self, decremento):\n",
        "        if self.encendido == 1:\n",
        "            if self.velocidad >= decremento:\n",
        "              self.velocidad -= decremento\n",
        "              print(f\"Frenando. Velocidad actual: {self.velocidad} km/h\")\n",
        "            else:\n",
        "                self.velocidad = 0\n",
        "                print(f\"El coche se detuvo por completo.\")\n",
        "        else:\n",
        "            print(f\"{self.marca} {self.modelo} no puede frenar, el coche está apagado.\")\n",
        "\n",
        "mi_coche = Coche(\"Jeep\", \"Wrangler\", 2020, 5000)\n",
        "\n",
        "mi_coche.arrancar()\n",
        "mi_coche.acelerar(30)\n",
        "mi_coche.frenar(10)"
      ],
      "metadata": {
        "colab": {
          "base_uri": "https://localhost:8080/"
        },
        "id": "kJQTXkTrzDOK",
        "outputId": "b35f3e72-4377-496b-e174-b0887f79ad25"
      },
      "execution_count": 4,
      "outputs": [
        {
          "output_type": "stream",
          "name": "stdout",
          "text": [
            "Jeep Wrangler está en marcha\n",
            "Acelerando. Velocidad actual: 30 km/h\n",
            "Frenando. Velocidad actual: 20 km/h\n"
          ]
        }
      ]
    },
    {
      "cell_type": "markdown",
      "source": [
        "Crea una clase \"Rectángulo\" que tenga atributos como longitud y ancho y métodos para calcular el área y el perímetro."
      ],
      "metadata": {
        "id": "m47EP2a5zmxG"
      }
    },
    {
      "cell_type": "code",
      "source": [
        "class Rectangulo:\n",
        "    def __init__(self, longitud, ancho):\n",
        "        self.longitud = longitud\n",
        "        self.ancho = ancho\n",
        "\n",
        "    def calcular_area(self):\n",
        "        area = self.longitud * self.ancho\n",
        "        return area\n",
        "\n",
        "    def calcular_perimetro(self):\n",
        "        perimetro = 2 * (self.longitud + self.ancho)\n",
        "        return perimetro\n",
        "\n",
        "# Ejemplo de uso:\n",
        "mi_rectangulo = Rectangulo(10, 6)\n",
        "\n",
        "area = mi_rectangulo.calcular_area()\n",
        "perimetro = mi_rectangulo.calcular_perimetro()\n",
        "\n",
        "print(f\"Área del rectángulo: {area}\")\n",
        "print(f\"Perímetro del rectángulo: {perimetro}\")"
      ],
      "metadata": {
        "colab": {
          "base_uri": "https://localhost:8080/"
        },
        "id": "dvfYiAPzzqTa",
        "outputId": "88ae516c-ed18-4af2-caf3-d9e2f80e5be7"
      },
      "execution_count": 5,
      "outputs": [
        {
          "output_type": "stream",
          "name": "stdout",
          "text": [
            "Área del rectángulo: 60\n",
            "Perímetro del rectángulo: 32\n"
          ]
        }
      ]
    },
    {
      "cell_type": "markdown",
      "source": [
        "Crea una clase \"Banco\" que tenga atributos como nombre, dirección y métodos para abrir una cuenta, depositar dinero, retirar dinero y revisar el saldo."
      ],
      "metadata": {
        "id": "Z62YNU2Vz8g1"
      }
    },
    {
      "cell_type": "code",
      "source": [
        "class banco:\n",
        "\n",
        "  def __init__(self, nombre, direccion):\n",
        "     self.nombre = nombre\n",
        "     self.direccion = direccion\n",
        "     self.saldo = 0\n",
        "\n",
        "  def cuenta(self, respuesta):\n",
        "    if respuesta == 1:\n",
        "      print(\"Cuenta creada\")\n",
        "    else:\n",
        "      print(\"Gracias por su visita\")\n",
        "\n",
        "  def depositar(self,ingreso ):\n",
        "    if ingreso < 0:\n",
        "      print(\"Número inválido\")\n",
        "    else:\n",
        "      self.saldo += ingreso\n",
        "      print(\"Su saldo actual es de \" , self.saldo, \"pesos\")\n",
        "\n",
        "  def retirar(self, retiro):\n",
        "    if retiro > self.saldo:\n",
        "      print(\"No tiene saldo disponible\")\n",
        "    else:\n",
        "      self.saldo -= retiro\n",
        "      print(\"Su saldo actual es \", self.saldo, \"y su retiro fue de \",retiro)\n",
        "\n",
        "  def saldo_disponible(self):\n",
        "    print(\"Su saldo es \", self.saldo)\n",
        "\n",
        "#Ejemplo de uso\n",
        "\n",
        "Nombre = str(input(\"Escriba el nombre del banco \"))\n",
        "Direccion = str(input(\"Escriba la direccion \"))\n",
        "\n",
        "mi_banco= banco(Nombre,Direccion)\n",
        "print(\"Desea crear una cuenta? Escriba 1 si su respuesta es si y escriba 0 si su respuesta es no\")\n",
        "r = int(input())\n",
        "\n",
        "\n",
        "mi_cuenta= mi_banco.cuenta(r)\n",
        "mi_banco.depositar(100)\n",
        "mi_banco.retirar(50)\n",
        "mi_banco.saldo_disponible()\n"
      ],
      "metadata": {
        "colab": {
          "base_uri": "https://localhost:8080/"
        },
        "id": "vAdY5XRIz9KI",
        "outputId": "5df587e0-6af0-4060-b5c4-e273a33c4820"
      },
      "execution_count": 6,
      "outputs": [
        {
          "output_type": "stream",
          "name": "stdout",
          "text": [
            "Escriba el nombre del banco BANCO\n",
            "Escriba la direccion 12574\n",
            "Desea crear una cuenta? Escribs 1 si su respuesta es si y escriba 0 si su respuesta es no\n",
            "1\n",
            "Cuenta creada\n",
            "Su saldo actual es de  100 pesos\n",
            "Su saldo actual es  50 y su retiro fue de  50\n",
            "Su saldo es  50\n"
          ]
        }
      ]
    },
    {
      "cell_type": "markdown",
      "source": [
        "Crea una clase \"Estudiante\" que tenga atributos como nombre, edad, promedio y métodos para estudiar, hacer tareas y presentar exámenes."
      ],
      "metadata": {
        "id": "MQskPGRn0u_j"
      }
    },
    {
      "cell_type": "code",
      "source": [
        "class Estudiante:\n",
        "\n",
        "    def __init__(self, nombre, edad):\n",
        "        self.nombre = nombre\n",
        "        self.edad = edad\n",
        "\n",
        "    def tiempo_estudio(self, tiempo):\n",
        "        if tiempo <= 0:\n",
        "            print(\"Valor inválido\")\n",
        "        else:\n",
        "            print(\"Las notificaciones se bloquearán por\", tiempo, \"minutos\")\n",
        "\n",
        "    def pendientes(self, completado):\n",
        "        while completado != 1:\n",
        "            print(\"Tarea incompleta\")\n",
        "            completado = int(input(\"¿Terminaste tus tareas? Ingresa 1 si es así, 0 de lo contrario: \"))\n",
        "        print(\"Tarea completada\")\n",
        "\n",
        "    def fecha(self, dia, mes):\n",
        "        print(\"El examen propuesto está programado para la fecha\", dia, mes)\n",
        "\n",
        "    def examen(self, nota):\n",
        "        suma = 0\n",
        "        contador = 0\n",
        "        while nota >= 0 and nota <= 5:\n",
        "            suma += nota\n",
        "            contador += 1\n",
        "            nota = float(input(\"Ingresa la calificación de tus parciales (ingresa un valor negativo para salir): \"))\n",
        "        if contador > 0:\n",
        "            promedio = suma / contador\n",
        "            print(\"Su promedio es:\", promedio)\n",
        "\n",
        "name = input(\"Por favor, ingrese su nombre: \")\n",
        "age = int(input(\"Ingrese su edad: \"))\n",
        "\n",
        "student = Estudiante(name, age)\n",
        "\n",
        "t = int(input(\"Ingrese el tiempo de estudio: \"))\n",
        "student.tiempo_estudio(t)\n",
        "\n",
        "tareas = int(input(\"¿Terminaste tus tareas? Ingresa 1 si es así, 0 de lo contrario: \"))\n",
        "student.pendientes(tareas)\n",
        "\n",
        "dia_parcial = int(input(\"Ingresa el día de tu parcial: \"))\n",
        "mes_parcial = input(\"Ingresa el mes de tu parcial: \")\n",
        "student.fecha(dia_parcial, mes_parcial)\n",
        "\n",
        "calificacion = float(input(\"Ingresa la calificación de tus parciales (ingresa un valor negativo para salir): \"))\n",
        "student.examen(calificacion)\n"
      ],
      "metadata": {
        "colab": {
          "base_uri": "https://localhost:8080/"
        },
        "id": "dXtNUWeA0eMz",
        "outputId": "d959d219-6e82-478e-b171-ef43f81e38ac"
      },
      "execution_count": 7,
      "outputs": [
        {
          "output_type": "stream",
          "name": "stdout",
          "text": [
            "Por favor, ingrese su nombre: Juan\n",
            "Ingrese su edad: 23\n",
            "Ingrese el tiempo de estudio: 16\n",
            "Las notificaciones se bloquearán por 16 minutos\n",
            "¿Terminaste tus tareas? Ingresa 1 si es así, 0 de lo contrario: 1\n",
            "Tarea completada\n",
            "Ingresa el día de tu parcial: 21\n",
            "Ingresa el mes de tu parcial: 03\n",
            "El examen propuesto está programado para la fecha 21 03\n",
            "Ingresa la calificación de tus parciales (ingresa un valor negativo para salir): 3.0\n",
            "Ingresa la calificación de tus parciales (ingresa un valor negativo para salir): 2.5\n",
            "Ingresa la calificación de tus parciales (ingresa un valor negativo para salir): 4.5\n",
            "Ingresa la calificación de tus parciales (ingresa un valor negativo para salir): -1\n",
            "Su promedio es: 3.3333333333333335\n"
          ]
        }
      ]
    }
  ]
}