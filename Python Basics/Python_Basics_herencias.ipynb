{
  "nbformat": 4,
  "nbformat_minor": 0,
  "metadata": {
    "colab": {
      "provenance": []
    },
    "kernelspec": {
      "name": "python3",
      "display_name": "Python 3"
    },
    "language_info": {
      "name": "python"
    }
  },
  "cells": [
    {
      "cell_type": "markdown",
      "source": [
        "##Ejercicio_1.\n",
        "\n",
        "Crea un sistema de manejo de figuras geométricas utilizando clases y herencia. Debes tener una clase base llamada \"FiguraGeometrica\" con un método abstracto llamado \"calcular_area()\". Luego, crea clases derivadas para diferentes tipos de figuras geométricas, como \"Círculo\", \"Rectángulo\" y \"Triángulo\". Cada clase derivada debe implementar el método \"calcular_area()\" de acuerdo con la fórmula correspondiente para el cálculo del área de esa figura."
      ],
      "metadata": {
        "id": "VMfyOAs11uhQ"
      }
    },
    {
      "cell_type": "code",
      "execution_count": 1,
      "metadata": {
        "colab": {
          "base_uri": "https://localhost:8080/"
        },
        "id": "bqJN7W3v1tr2",
        "outputId": "722b131e-57ff-4486-fea0-98987e23694b"
      },
      "outputs": [
        {
          "output_type": "stream",
          "name": "stdout",
          "text": [
            "Área del círculo:  314.1592653589793\n",
            "Área del rectángulo:  96\n",
            "Área del triángulo:  7.0\n"
          ]
        }
      ],
      "source": [
        "import math\n",
        "from abc import ABC, abstractmethod\n",
        "\n",
        "class FiguraGeometrica(ABC):\n",
        "    @abstractmethod\n",
        "    def calcular_area(self):\n",
        "        pass\n",
        "\n",
        "class Circulo(FiguraGeometrica):\n",
        "    def __init__(self, radio):\n",
        "        self.radio = radio\n",
        "\n",
        "    def calcular_area(self):\n",
        "        return math.pi * self.radio**2\n",
        "\n",
        "class Rectangulo(FiguraGeometrica):\n",
        "    def __init__(self, base, altura):\n",
        "        self.base = base\n",
        "        self.altura = altura\n",
        "\n",
        "    def calcular_area(self):\n",
        "        return self.base * self.altura\n",
        "\n",
        "class Triangulo(FiguraGeometrica):\n",
        "    def __init__(self, base, altura):\n",
        "        self.base = base\n",
        "        self.altura = altura\n",
        "\n",
        "    def calcular_area(self):\n",
        "        return (self.base * self.altura) / 2\n",
        "\n",
        "circulo = Circulo(10)\n",
        "rectangulo = Rectangulo(8, 12)\n",
        "triangulo = Triangulo(2, 7)\n",
        "\n",
        "print(\"Área del círculo: \", circulo.calcular_area())\n",
        "print(\"Área del rectángulo: \", rectangulo.calcular_area())\n",
        "print(\"Área del triángulo: \" , triangulo.calcular_area())\n",
        "\n",
        "\n"
      ]
    },
    {
      "cell_type": "markdown",
      "source": [
        "##Ejercicio_2\n",
        "\n",
        "Crea un sistema de reserva de vuelos utilizando clases y herencia. Debes tener una clase base llamada \"Vuelo\" con los siguientes atributos: número de vuelo, origen, destino, y capacidad máxima de pasajeros. Luego, crea una clase derivada llamada \"VueloEconomico\" que herede de la clase base y agregue un atributo adicional llamado \"tarifa\". Además, agrega métodos en ambas clases para mostrar la información del vuelo y realizar una reserva de asientos.\n",
        "\n",
        "La clase base \"Vuelo\" debe tener un método para verificar si hay asientos disponibles y otro para realizar la reserva de un asiento. La clase derivada \"VueloEconomico\" puede tener métodos adicionales para calcular el precio total de la reserva de acuerdo con la tarifa y la cantidad de asientos reservados."
      ],
      "metadata": {
        "id": "1F0izl5Z2T4a"
      }
    },
    {
      "cell_type": "code",
      "source": [
        "class Vuelo:\n",
        "    def __init__(self, numero_vuelo, origen, destino, capacidad_maxima):\n",
        "        self.numero_vuelo = numero_vuelo\n",
        "        self.origen = origen\n",
        "        self.destino = destino\n",
        "        self.capacidad_maxima = capacidad_maxima\n",
        "        self.asientos_disponibles = capacidad_maxima\n",
        "        self.reservas = []\n",
        "\n",
        "    def verificar_disponibilidad(self):\n",
        "        return self.asientos_disponibles > 0\n",
        "\n",
        "    def realizar_reserva(self, nombre_pasajero):\n",
        "        if self.verificar_disponibilidad():\n",
        "            self.reservas.append(nombre_pasajero)\n",
        "            self.asientos_disponibles -= 1\n",
        "            print(f\"Reserva realizada para {nombre_pasajero} en el vuelo {self.numero_vuelo}\")\n",
        "        else:\n",
        "            print(\"Lo siento, no hay asientos disponibles en este vuelo.\")\n",
        "\n",
        "    def mostrar_informacion_vuelo(self):\n",
        "        print(f\"Vuelo {self.numero_vuelo} de {self.origen} a {self.destino}\")\n",
        "        print(f\"Capacidad máxima de pasajeros: {self.capacidad_maxima}\")\n",
        "        print(f\"Asientos disponibles: {self.asientos_disponibles}\")\n",
        "        print(f\"Pasajeros reservados: {', '.join(self.reservas)}\")\n",
        "\n",
        "class VueloEconomico(Vuelo):\n",
        "    def __init__(self, numero_vuelo, origen, destino, capacidad_maxima, tarifa):\n",
        "        super().__init__(numero_vuelo, origen, destino, capacidad_maxima)\n",
        "        self.tarifa = tarifa\n",
        "\n",
        "    def calcular_precio_reserva(self, num_asientos):\n",
        "        return self.tarifa * num_asientos\n",
        "\n",
        "vuelo1 = VueloEconomico(\"j455\", \"Texas\", \"New York\", 201, 300)\n",
        "vuelo1.mostrar_informacion_vuelo()\n",
        "\n",
        "vuelo1.realizar_reserva(\"Pasajero 1\")\n",
        "vuelo1.realizar_reserva(\"Pasajero 2\")\n",
        "\n",
        "vuelo1.mostrar_informacion_vuelo()\n",
        "\n",
        "precio_total = vuelo1.calcular_precio_reserva(2)\n",
        "print(f\"Precio total de la reserva: ${precio_total}\")\n"
      ],
      "metadata": {
        "colab": {
          "base_uri": "https://localhost:8080/"
        },
        "id": "nxmVFGCE2YW2",
        "outputId": "df2b727f-f272-42e6-cc2a-74cb9f8bc8b8"
      },
      "execution_count": 2,
      "outputs": [
        {
          "output_type": "stream",
          "name": "stdout",
          "text": [
            "Vuelo j455 de Texas a New York\n",
            "Capacidad máxima de pasajeros: 201\n",
            "Asientos disponibles: 201\n",
            "Pasajeros reservados: \n",
            "Reserva realizada para Pasajero 1 en el vuelo j455\n",
            "Reserva realizada para Pasajero 2 en el vuelo j455\n",
            "Vuelo j455 de Texas a New York\n",
            "Capacidad máxima de pasajeros: 201\n",
            "Asientos disponibles: 199\n",
            "Pasajeros reservados: Pasajero 1, Pasajero 2\n",
            "Precio total de la reserva: $600\n"
          ]
        }
      ]
    },
    {
      "cell_type": "code",
      "source": [],
      "metadata": {
        "id": "8N5fZQ5723_A"
      },
      "execution_count": null,
      "outputs": []
    }
  ]
}