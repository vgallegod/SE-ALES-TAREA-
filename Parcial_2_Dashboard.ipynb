{
  "nbformat": 4,
  "nbformat_minor": 0,
  "metadata": {
    "colab": {
      "provenance": [],
      "include_colab_link": true
    },
    "kernelspec": {
      "name": "python3",
      "display_name": "Python 3"
    },
    "language_info": {
      "name": "python"
    }
  },
  "cells": [
    {
      "cell_type": "markdown",
      "metadata": {
        "id": "view-in-github",
        "colab_type": "text"
      },
      "source": [
        "<a href=\"https://colab.research.google.com/github/vgallegod/Senales-y-sistemas/blob/main/Parcial_2_Dashboard.ipynb\" target=\"_parent\"><img src=\"https://colab.research.google.com/assets/colab-badge.svg\" alt=\"Open In Colab\"/></a>"
      ]
    },
    {
      "cell_type": "code",
      "execution_count": null,
      "metadata": {
        "colab": {
          "base_uri": "https://localhost:8080/"
        },
        "id": "Weh01inETPoQ",
        "outputId": "b3347e26-09c8-41a4-b29d-df501e52e4f4"
      },
      "outputs": [
        {
          "output_type": "stream",
          "name": "stdout",
          "text": [
            "\u001b[2K   \u001b[90m━━━━━━━━━━━━━━━━━━━━━━━━━━━━━━━━━━━━━━━━\u001b[0m \u001b[32m8.7/8.7 MB\u001b[0m \u001b[31m14.5 MB/s\u001b[0m eta \u001b[36m0:00:00\u001b[0m\n",
            "\u001b[2K   \u001b[90m━━━━━━━━━━━━━━━━━━━━━━━━━━━━━━━━━━━━━━━━\u001b[0m \u001b[32m207.3/207.3 kB\u001b[0m \u001b[31m6.5 MB/s\u001b[0m eta \u001b[36m0:00:00\u001b[0m\n",
            "\u001b[2K   \u001b[90m━━━━━━━━━━━━━━━━━━━━━━━━━━━━━━━━━━━━━━━━\u001b[0m \u001b[32m6.9/6.9 MB\u001b[0m \u001b[31m27.4 MB/s\u001b[0m eta \u001b[36m0:00:00\u001b[0m\n",
            "\u001b[2K   \u001b[90m━━━━━━━━━━━━━━━━━━━━━━━━━━━━━━━━━━━━━━━━\u001b[0m \u001b[32m82.9/82.9 kB\u001b[0m \u001b[31m4.1 MB/s\u001b[0m eta \u001b[36m0:00:00\u001b[0m\n",
            "\u001b[2K   \u001b[90m━━━━━━━━━━━━━━━━━━━━━━━━━━━━━━━━━━━━━━━━\u001b[0m \u001b[32m62.7/62.7 kB\u001b[0m \u001b[31m1.6 MB/s\u001b[0m eta \u001b[36m0:00:00\u001b[0m\n",
            "\u001b[K\u001b[?25h\n",
            "added 22 packages, and audited 23 packages in 5s\n",
            "\n",
            "3 packages are looking for funding\n",
            "  run `npm fund` for details\n",
            "\n",
            "2 \u001b[33m\u001b[1mmoderate\u001b[22m\u001b[39m severity vulnerabilities\n",
            "\n",
            "To address all issues, run:\n",
            "  npm audit fix\n",
            "\n",
            "Run `npm audit` for details.\n",
            "Collecting https://github.com/yt-dlp/yt-dlp/archive/master.tar.gz\n",
            "  Downloading https://github.com/yt-dlp/yt-dlp/archive/master.tar.gz\n",
            "\u001b[2K     \u001b[32m-\u001b[0m \u001b[32m2.7 MB\u001b[0m \u001b[31m9.0 MB/s\u001b[0m \u001b[33m0:00:00\u001b[0m\n",
            "\u001b[?25h  Installing build dependencies ... \u001b[?25l\u001b[?25hdone\n",
            "  Getting requirements to build wheel ... \u001b[?25l\u001b[?25hdone\n",
            "  Preparing metadata (pyproject.toml) ... \u001b[?25l\u001b[?25hdone\n",
            "Collecting brotli (from yt-dlp==2024.8.6)\n",
            "  Downloading Brotli-1.1.0-cp310-cp310-manylinux_2_5_x86_64.manylinux1_x86_64.manylinux_2_12_x86_64.manylinux2010_x86_64.whl.metadata (5.5 kB)\n",
            "Collecting certifi (from yt-dlp==2024.8.6)\n",
            "  Using cached certifi-2024.8.30-py3-none-any.whl.metadata (2.2 kB)\n",
            "Collecting mutagen (from yt-dlp==2024.8.6)\n",
            "  Downloading mutagen-1.47.0-py3-none-any.whl.metadata (1.7 kB)\n",
            "Collecting pycryptodomex (from yt-dlp==2024.8.6)\n",
            "  Downloading pycryptodomex-3.20.0-cp35-abi3-manylinux_2_17_x86_64.manylinux2014_x86_64.whl.metadata (3.4 kB)\n",
            "Collecting requests<3,>=2.32.2 (from yt-dlp==2024.8.6)\n",
            "  Using cached requests-2.32.3-py3-none-any.whl.metadata (4.6 kB)\n",
            "Collecting urllib3<3,>=1.26.17 (from yt-dlp==2024.8.6)\n",
            "  Downloading urllib3-2.2.2-py3-none-any.whl.metadata (6.4 kB)\n",
            "Collecting websockets>=13.0 (from yt-dlp==2024.8.6)\n",
            "  Downloading websockets-13.0.1-cp310-cp310-manylinux_2_5_x86_64.manylinux1_x86_64.manylinux_2_17_x86_64.manylinux2014_x86_64.whl.metadata (6.7 kB)\n",
            "Collecting charset-normalizer<4,>=2 (from requests<3,>=2.32.2->yt-dlp==2024.8.6)\n",
            "  Using cached charset_normalizer-3.3.2-cp310-cp310-manylinux_2_17_x86_64.manylinux2014_x86_64.whl.metadata (33 kB)\n",
            "Collecting idna<4,>=2.5 (from requests<3,>=2.32.2->yt-dlp==2024.8.6)\n",
            "  Using cached idna-3.8-py3-none-any.whl.metadata (9.9 kB)\n",
            "Using cached requests-2.32.3-py3-none-any.whl (64 kB)\n",
            "Using cached certifi-2024.8.30-py3-none-any.whl (167 kB)\n",
            "Downloading urllib3-2.2.2-py3-none-any.whl (121 kB)\n",
            "\u001b[2K   \u001b[90m━━━━━━━━━━━━━━━━━━━━━━━━━━━━━━━━━━━━━━━━\u001b[0m \u001b[32m121.4/121.4 kB\u001b[0m \u001b[31m9.5 MB/s\u001b[0m eta \u001b[36m0:00:00\u001b[0m\n",
            "\u001b[?25hDownloading websockets-13.0.1-cp310-cp310-manylinux_2_5_x86_64.manylinux1_x86_64.manylinux_2_17_x86_64.manylinux2014_x86_64.whl (157 kB)\n",
            "\u001b[2K   \u001b[90m━━━━━━━━━━━━━━━━━━━━━━━━━━━━━━━━━━━━━━━━\u001b[0m \u001b[32m157.3/157.3 kB\u001b[0m \u001b[31m12.0 MB/s\u001b[0m eta \u001b[36m0:00:00\u001b[0m\n",
            "\u001b[?25hDownloading Brotli-1.1.0-cp310-cp310-manylinux_2_5_x86_64.manylinux1_x86_64.manylinux_2_12_x86_64.manylinux2010_x86_64.whl (3.0 MB)\n",
            "\u001b[2K   \u001b[90m━━━━━━━━━━━━━━━━━━━━━━━━━━━━━━━━━━━━━━━━\u001b[0m \u001b[32m3.0/3.0 MB\u001b[0m \u001b[31m55.9 MB/s\u001b[0m eta \u001b[36m0:00:00\u001b[0m\n",
            "\u001b[?25hDownloading mutagen-1.47.0-py3-none-any.whl (194 kB)\n",
            "\u001b[2K   \u001b[90m━━━━━━━━━━━━━━━━━━━━━━━━━━━━━━━━━━━━━━━━\u001b[0m \u001b[32m194.4/194.4 kB\u001b[0m \u001b[31m13.2 MB/s\u001b[0m eta \u001b[36m0:00:00\u001b[0m\n",
            "\u001b[?25hDownloading pycryptodomex-3.20.0-cp35-abi3-manylinux_2_17_x86_64.manylinux2014_x86_64.whl (2.1 MB)\n",
            "\u001b[2K   \u001b[90m━━━━━━━━━━━━━━━━━━━━━━━━━━━━━━━━━━━━━━━━\u001b[0m \u001b[32m2.1/2.1 MB\u001b[0m \u001b[31m53.9 MB/s\u001b[0m eta \u001b[36m0:00:00\u001b[0m\n",
            "\u001b[?25hUsing cached charset_normalizer-3.3.2-cp310-cp310-manylinux_2_17_x86_64.manylinux2014_x86_64.whl (142 kB)\n",
            "Using cached idna-3.8-py3-none-any.whl (66 kB)\n",
            "Building wheels for collected packages: yt-dlp\n",
            "  Building wheel for yt-dlp (pyproject.toml) ... \u001b[?25l\u001b[?25hdone\n",
            "  Created wheel for yt-dlp: filename=yt_dlp-2024.8.6-py3-none-any.whl size=2883112 sha256=f4b8a5aa523b7ef26fd7bc3b0a6a7050c1871ca1cd3624e3df5e1c19ce64ae89\n",
            "  Stored in directory: /tmp/pip-ephem-wheel-cache-18inlzrk/wheels/4c/91/d1/c5369304e2f7afb660bb6eee093af5a7d3c0ea05a3c1e8c797\n",
            "Successfully built yt-dlp\n",
            "Installing collected packages: brotli, websockets, urllib3, pycryptodomex, mutagen, idna, charset-normalizer, certifi, requests, yt-dlp\n",
            "  Attempting uninstall: urllib3\n",
            "    Found existing installation: urllib3 2.0.7\n",
            "    Uninstalling urllib3-2.0.7:\n",
            "      Successfully uninstalled urllib3-2.0.7\n",
            "  Attempting uninstall: idna\n",
            "    Found existing installation: idna 3.8\n",
            "    Uninstalling idna-3.8:\n",
            "      Successfully uninstalled idna-3.8\n",
            "  Attempting uninstall: charset-normalizer\n",
            "    Found existing installation: charset-normalizer 3.3.2\n",
            "    Uninstalling charset-normalizer-3.3.2:\n",
            "      Successfully uninstalled charset-normalizer-3.3.2\n",
            "  Attempting uninstall: certifi\n",
            "    Found existing installation: certifi 2024.8.30\n",
            "    Uninstalling certifi-2024.8.30:\n",
            "      Successfully uninstalled certifi-2024.8.30\n",
            "  Attempting uninstall: requests\n",
            "    Found existing installation: requests 2.32.3\n",
            "    Uninstalling requests-2.32.3:\n",
            "      Successfully uninstalled requests-2.32.3\n",
            "Successfully installed brotli-1.1.0 certifi-2024.8.30 charset-normalizer-3.3.2 idna-3.8 mutagen-1.47.0 pycryptodomex-3.20.0 requests-2.32.3 urllib3-2.2.2 websockets-13.0.1 yt-dlp-2024.8.6\n"
          ]
        }
      ],
      "source": [
        "!pip install streamlit -q #instalación de librerías\n",
        "!npm install localtunnel\n",
        "!python3 -m pip install --force-reinstall https://github.com/yt-dlp/yt-dlp/archive/master.tar.gz"
      ]
    },
    {
      "cell_type": "code",
      "source": [
        "!pip install streamlit_option_menu"
      ],
      "metadata": {
        "colab": {
          "base_uri": "https://localhost:8080/"
        },
        "id": "gucLsTjzi5y7",
        "outputId": "6f25f587-e172-44e9-8a52-d6da3861cb21"
      },
      "execution_count": null,
      "outputs": [
        {
          "output_type": "stream",
          "name": "stdout",
          "text": [
            "Collecting streamlit_option_menu\n",
            "  Downloading streamlit_option_menu-0.3.13-py3-none-any.whl.metadata (2.5 kB)\n",
            "Requirement already satisfied: streamlit>=0.63 in /usr/local/lib/python3.10/dist-packages (from streamlit_option_menu) (1.38.0)\n",
            "Requirement already satisfied: altair<6,>=4.0 in /usr/local/lib/python3.10/dist-packages (from streamlit>=0.63->streamlit_option_menu) (4.2.2)\n",
            "Requirement already satisfied: blinker<2,>=1.0.0 in /usr/lib/python3/dist-packages (from streamlit>=0.63->streamlit_option_menu) (1.4)\n",
            "Requirement already satisfied: cachetools<6,>=4.0 in /usr/local/lib/python3.10/dist-packages (from streamlit>=0.63->streamlit_option_menu) (5.5.0)\n",
            "Requirement already satisfied: click<9,>=7.0 in /usr/local/lib/python3.10/dist-packages (from streamlit>=0.63->streamlit_option_menu) (8.1.7)\n",
            "Requirement already satisfied: numpy<3,>=1.20 in /usr/local/lib/python3.10/dist-packages (from streamlit>=0.63->streamlit_option_menu) (1.26.4)\n",
            "Requirement already satisfied: packaging<25,>=20 in /usr/local/lib/python3.10/dist-packages (from streamlit>=0.63->streamlit_option_menu) (24.1)\n",
            "Requirement already satisfied: pandas<3,>=1.3.0 in /usr/local/lib/python3.10/dist-packages (from streamlit>=0.63->streamlit_option_menu) (2.1.4)\n",
            "Requirement already satisfied: pillow<11,>=7.1.0 in /usr/local/lib/python3.10/dist-packages (from streamlit>=0.63->streamlit_option_menu) (9.4.0)\n",
            "Requirement already satisfied: protobuf<6,>=3.20 in /usr/local/lib/python3.10/dist-packages (from streamlit>=0.63->streamlit_option_menu) (3.20.3)\n",
            "Requirement already satisfied: pyarrow>=7.0 in /usr/local/lib/python3.10/dist-packages (from streamlit>=0.63->streamlit_option_menu) (14.0.2)\n",
            "Requirement already satisfied: requests<3,>=2.27 in /usr/local/lib/python3.10/dist-packages (from streamlit>=0.63->streamlit_option_menu) (2.32.3)\n",
            "Requirement already satisfied: rich<14,>=10.14.0 in /usr/local/lib/python3.10/dist-packages (from streamlit>=0.63->streamlit_option_menu) (13.8.0)\n",
            "Requirement already satisfied: tenacity<9,>=8.1.0 in /usr/local/lib/python3.10/dist-packages (from streamlit>=0.63->streamlit_option_menu) (8.5.0)\n",
            "Requirement already satisfied: toml<2,>=0.10.1 in /usr/local/lib/python3.10/dist-packages (from streamlit>=0.63->streamlit_option_menu) (0.10.2)\n",
            "Requirement already satisfied: typing-extensions<5,>=4.3.0 in /usr/local/lib/python3.10/dist-packages (from streamlit>=0.63->streamlit_option_menu) (4.12.2)\n",
            "Requirement already satisfied: gitpython!=3.1.19,<4,>=3.0.7 in /usr/local/lib/python3.10/dist-packages (from streamlit>=0.63->streamlit_option_menu) (3.1.43)\n",
            "Requirement already satisfied: pydeck<1,>=0.8.0b4 in /usr/local/lib/python3.10/dist-packages (from streamlit>=0.63->streamlit_option_menu) (0.9.1)\n",
            "Requirement already satisfied: tornado<7,>=6.0.3 in /usr/local/lib/python3.10/dist-packages (from streamlit>=0.63->streamlit_option_menu) (6.3.3)\n",
            "Requirement already satisfied: watchdog<5,>=2.1.5 in /usr/local/lib/python3.10/dist-packages (from streamlit>=0.63->streamlit_option_menu) (4.0.2)\n",
            "Requirement already satisfied: entrypoints in /usr/local/lib/python3.10/dist-packages (from altair<6,>=4.0->streamlit>=0.63->streamlit_option_menu) (0.4)\n",
            "Requirement already satisfied: jinja2 in /usr/local/lib/python3.10/dist-packages (from altair<6,>=4.0->streamlit>=0.63->streamlit_option_menu) (3.1.4)\n",
            "Requirement already satisfied: jsonschema>=3.0 in /usr/local/lib/python3.10/dist-packages (from altair<6,>=4.0->streamlit>=0.63->streamlit_option_menu) (4.23.0)\n",
            "Requirement already satisfied: toolz in /usr/local/lib/python3.10/dist-packages (from altair<6,>=4.0->streamlit>=0.63->streamlit_option_menu) (0.12.1)\n",
            "Requirement already satisfied: gitdb<5,>=4.0.1 in /usr/local/lib/python3.10/dist-packages (from gitpython!=3.1.19,<4,>=3.0.7->streamlit>=0.63->streamlit_option_menu) (4.0.11)\n",
            "Requirement already satisfied: python-dateutil>=2.8.2 in /usr/local/lib/python3.10/dist-packages (from pandas<3,>=1.3.0->streamlit>=0.63->streamlit_option_menu) (2.8.2)\n",
            "Requirement already satisfied: pytz>=2020.1 in /usr/local/lib/python3.10/dist-packages (from pandas<3,>=1.3.0->streamlit>=0.63->streamlit_option_menu) (2024.1)\n",
            "Requirement already satisfied: tzdata>=2022.1 in /usr/local/lib/python3.10/dist-packages (from pandas<3,>=1.3.0->streamlit>=0.63->streamlit_option_menu) (2024.1)\n",
            "Requirement already satisfied: charset-normalizer<4,>=2 in /usr/local/lib/python3.10/dist-packages (from requests<3,>=2.27->streamlit>=0.63->streamlit_option_menu) (3.3.2)\n",
            "Requirement already satisfied: idna<4,>=2.5 in /usr/local/lib/python3.10/dist-packages (from requests<3,>=2.27->streamlit>=0.63->streamlit_option_menu) (3.8)\n",
            "Requirement already satisfied: urllib3<3,>=1.21.1 in /usr/local/lib/python3.10/dist-packages (from requests<3,>=2.27->streamlit>=0.63->streamlit_option_menu) (2.2.2)\n",
            "Requirement already satisfied: certifi>=2017.4.17 in /usr/local/lib/python3.10/dist-packages (from requests<3,>=2.27->streamlit>=0.63->streamlit_option_menu) (2024.8.30)\n",
            "Requirement already satisfied: markdown-it-py>=2.2.0 in /usr/local/lib/python3.10/dist-packages (from rich<14,>=10.14.0->streamlit>=0.63->streamlit_option_menu) (3.0.0)\n",
            "Requirement already satisfied: pygments<3.0.0,>=2.13.0 in /usr/local/lib/python3.10/dist-packages (from rich<14,>=10.14.0->streamlit>=0.63->streamlit_option_menu) (2.16.1)\n",
            "Requirement already satisfied: smmap<6,>=3.0.1 in /usr/local/lib/python3.10/dist-packages (from gitdb<5,>=4.0.1->gitpython!=3.1.19,<4,>=3.0.7->streamlit>=0.63->streamlit_option_menu) (5.0.1)\n",
            "Requirement already satisfied: MarkupSafe>=2.0 in /usr/local/lib/python3.10/dist-packages (from jinja2->altair<6,>=4.0->streamlit>=0.63->streamlit_option_menu) (2.1.5)\n",
            "Requirement already satisfied: attrs>=22.2.0 in /usr/local/lib/python3.10/dist-packages (from jsonschema>=3.0->altair<6,>=4.0->streamlit>=0.63->streamlit_option_menu) (24.2.0)\n",
            "Requirement already satisfied: jsonschema-specifications>=2023.03.6 in /usr/local/lib/python3.10/dist-packages (from jsonschema>=3.0->altair<6,>=4.0->streamlit>=0.63->streamlit_option_menu) (2023.12.1)\n",
            "Requirement already satisfied: referencing>=0.28.4 in /usr/local/lib/python3.10/dist-packages (from jsonschema>=3.0->altair<6,>=4.0->streamlit>=0.63->streamlit_option_menu) (0.35.1)\n",
            "Requirement already satisfied: rpds-py>=0.7.1 in /usr/local/lib/python3.10/dist-packages (from jsonschema>=3.0->altair<6,>=4.0->streamlit>=0.63->streamlit_option_menu) (0.20.0)\n",
            "Requirement already satisfied: mdurl~=0.1 in /usr/local/lib/python3.10/dist-packages (from markdown-it-py>=2.2.0->rich<14,>=10.14.0->streamlit>=0.63->streamlit_option_menu) (0.1.2)\n",
            "Requirement already satisfied: six>=1.5 in /usr/local/lib/python3.10/dist-packages (from python-dateutil>=2.8.2->pandas<3,>=1.3.0->streamlit>=0.63->streamlit_option_menu) (1.16.0)\n",
            "Downloading streamlit_option_menu-0.3.13-py3-none-any.whl (823 kB)\n",
            "\u001b[2K   \u001b[90m━━━━━━━━━━━━━━━━━━━━━━━━━━━━━━━━━━━━━━━━\u001b[0m \u001b[32m823.4/823.4 kB\u001b[0m \u001b[31m19.0 MB/s\u001b[0m eta \u001b[36m0:00:00\u001b[0m\n",
            "\u001b[?25hInstalling collected packages: streamlit_option_menu\n",
            "Successfully installed streamlit_option_menu-0.3.13\n"
          ]
        }
      ]
    },
    {
      "cell_type": "code",
      "source": [
        "import os\n",
        "\n",
        "folder_name = \"pages\"\n",
        "if not os.path.exists(folder_name):\n",
        "    os.makedirs(folder_name)"
      ],
      "metadata": {
        "id": "0vXDyEqTXMSA"
      },
      "execution_count": null,
      "outputs": []
    },
    {
      "cell_type": "markdown",
      "source": [
        "#Punto 2\n"
      ],
      "metadata": {
        "id": "q70ElMdBXd-G"
      }
    },
    {
      "cell_type": "code",
      "source": [
        "# Para graficar\n",
        "%%writefile /content/pages/Punto_2.py\n",
        "\n",
        "#%matplotlib inline\n",
        "import streamlit as st  #librería para streamlit\n",
        "import matplotlib as mpl\n",
        "import matplotlib.pyplot as plt\n",
        "import numpy as np\n",
        "import warnings\n",
        "warnings.filterwarnings(\"ignore\")\n",
        "\n",
        "st.set_page_config(\n",
        "    page_title=\"Punto2\",\n",
        "    page_icon=\"2️⃣\",\n",
        ")\n",
        "\n",
        "st.title(\"PUNTO 2\")\n",
        "st.header(\"Simulacion y grafica espectro de Fourier\")\n",
        "\n",
        "mpl.rc('axes', labelsize=14)\n",
        "mpl.rc('xtick', labelsize=12)\n",
        "mpl.rc('ytick', labelsize=12)\n",
        "\n",
        "# Parámetros de la señal\n",
        "A = 1.0  # Amplitud\n",
        "Fo = 5   # Frecuencia de la señal (Hz)\n",
        "T = 1/Fo  # Periodo\n",
        "Fs = 1000  # Frecuencia de muestreo definida\n",
        "t = np.arange(-T/2, T/2, 1/Fs)  # Vector de tiempo generado\n",
        "Nm = len(t)  # Número de muestras requeridas\n",
        "\n",
        "# Definir la señal x(t) = |A * sin(2 * pi * Fo * t)|^2\n",
        "x_t = (A * np.sin(2 * np.pi * Fo * t))**2\n",
        "\n",
        "# Graficar la señal original\n",
        "plt.plot(t, x_t, 'r', linewidth=2)\n",
        "plt.grid()\n",
        "plt.xlabel(\"t [s]\", fontsize=14)\n",
        "plt.ylabel(\"x(t)\", fontsize=14)\n",
        "plt.title(\"Señal x(t) = |A * sin(2 * pi * Fo * t)|^2\")\n",
        "st.pyplot()\n",
        "\n",
        "# 1. Transformada de Fourier\n",
        "X_f = np.fft.fft(x_t)  # FFT de la señal\n",
        "freqs = np.fft.fftfreq(len(t), d=t[1]-t[0])  # Frecuencias asociadas\n",
        "X_f = np.fft.fftshift(X_f)  # Centramos el espectro en torno a 0\n",
        "freqs = np.fft.fftshift(freqs)  # Lo mismo para las frecuencias\n",
        "\n",
        "# Magnitud y fase del espectro\n",
        "magnitude = np.abs(X_f)  # Magnitud\n",
        "phase = np.angle(X_f)    # Fase\n",
        "\n",
        "# Graficar espectro de magnitud y fase\n",
        "plt.figure(figsize=(12, 6))\n",
        "\n",
        "# Gráfica de la magnitud del espectro\n",
        "plt.subplot(2, 1, 1)\n",
        "plt.plot(freqs, 20 * np.log10(magnitude + 1e-12))  # Evitar log(0)\n",
        "plt.title('Espectro de Magnitud (Decibelios)')\n",
        "plt.xlabel('Frecuencia (Hz)')\n",
        "plt.ylabel('Magnitud (dB)')\n",
        "plt.grid(True)\n",
        "\n",
        "# Gráfica de la fase del espectro\n",
        "plt.subplot(2, 1, 2)\n",
        "plt.plot(freqs, phase)\n",
        "plt.title('Espectro de Fase')\n",
        "plt.xlabel('Frecuencia (Hz)')\n",
        "plt.ylabel('Fase (radianes)')\n",
        "plt.grid(True)\n",
        "\n",
        "plt.tight_layout()\n",
        "st.pyplot()\n",
        "\n",
        "# 2. Reconstrucción de la señal con diferentes N\n",
        "N_max = 50  # Número máximo de términos en la serie de Fourier\n",
        "error_relativo = []\n",
        "\n",
        "# Loop para diferentes valores de N\n",
        "for N in range(1, N_max + 1):\n",
        "    # Filtrar las componentes de la FFT: Mantener solo las primeras N componentes\n",
        "    X_f_filtered = np.copy(X_f)\n",
        "    X_f_filtered[N:] = 0  # Mantener solo las primeras N componentes\n",
        "\n",
        "    # Reconstrucción de la señal usando la serie de Fourier inversa\n",
        "    x_reconstructed = np.fft.ifft(np.fft.ifftshift(X_f_filtered))\n",
        "\n",
        "    # Calcular el error relativo entre la señal original y la reconstruida\n",
        "    error = np.linalg.norm(x_t - x_reconstructed) / np.linalg.norm(x_t)\n",
        "    error_relativo.append(error)\n",
        "\n",
        "    # Graficar la señal reconstruida para algunos valores de N\n",
        "    if N in [1, 5, 10, 20, 50]:  # Graficamos para N = 1, 5, 10, 20, 50\n",
        "        plt.figure()\n",
        "        plt.plot(t, x_t, label='Señal Original')\n",
        "        plt.plot(t, x_reconstructed, label=f'Señal Reconstruida (N={N})', linestyle='--')\n",
        "        plt.title(f'Reconstrucción de la Señal con N={N}')\n",
        "        plt.xlabel('Tiempo (s)')\n",
        "        plt.ylabel('Amplitud')\n",
        "        plt.legend()\n",
        "        plt.grid(True)\n",
        "        st.pyplot()\n",
        "\n",
        "# 3. Graficar el error relativo\n",
        "plt.figure()\n",
        "plt.plot(range(1, N_max + 1), error_relativo)\n",
        "plt.title('Error Relativo de Reconstrucción')\n",
        "plt.xlabel('Número de Términos (N)')\n",
        "plt.ylabel('Error Relativo')\n",
        "plt.grid(True)\n",
        "st.pyplot()"
      ],
      "metadata": {
        "colab": {
          "base_uri": "https://localhost:8080/"
        },
        "id": "xvffR1puXcY_",
        "outputId": "21ecaa36-204a-4d10-ad46-dbf9aea7984e"
      },
      "execution_count": null,
      "outputs": [
        {
          "output_type": "stream",
          "name": "stdout",
          "text": [
            "Overwriting /content/pages/Punto_2.py\n"
          ]
        }
      ]
    },
    {
      "cell_type": "markdown",
      "source": [
        "#Punto 3"
      ],
      "metadata": {
        "id": "WTG9A0UpnfOp"
      }
    },
    {
      "cell_type": "code",
      "source": [
        "!pip install soundfile"
      ],
      "metadata": {
        "colab": {
          "base_uri": "https://localhost:8080/"
        },
        "id": "QmTD6ZaHnmdp",
        "outputId": "d75e8afd-a800-4e43-98ba-a03a1ea62eb7"
      },
      "execution_count": null,
      "outputs": [
        {
          "output_type": "stream",
          "name": "stdout",
          "text": [
            "Requirement already satisfied: soundfile in /usr/local/lib/python3.10/dist-packages (0.12.1)\n",
            "Requirement already satisfied: cffi>=1.0 in /usr/local/lib/python3.10/dist-packages (from soundfile) (1.17.0)\n",
            "Requirement already satisfied: pycparser in /usr/local/lib/python3.10/dist-packages (from cffi>=1.0->soundfile) (2.22)\n"
          ]
        }
      ]
    },
    {
      "cell_type": "code",
      "source": [
        "#Instalacion del download de youtube\n",
        "import os\n",
        "import yt_dlp as youtube_dl\n",
        "def download_ytvid_as_mp3(video_url,name):\n",
        "    #video_url = input(\"enter url of youtube video:\")\n",
        "    video_info = youtube_dl.YoutubeDL().extract_info(url = video_url,download=False)\n",
        "    filename = f\"{name}.mp3\"\n",
        "    options={\n",
        "        'format':'bestaudio/best',\n",
        "        'keepvideo':False,\n",
        "        'outtmpl':filename,\n",
        "    }\n",
        "\n",
        "    with youtube_dl.YoutubeDL(options) as ydl:\n",
        "        ydl.download([video_info['webpage_url']])\n",
        "\n",
        "    print(\"Download complete... {}\".format(filename))"
      ],
      "metadata": {
        "id": "ouq7zoULnw_B"
      },
      "execution_count": null,
      "outputs": []
    },
    {
      "cell_type": "code",
      "source": [
        "link_= [\"https://youtu.be/_fwyrbmaiAI?si=9L6e4-V8OGo3Jalp\"] #Se selecciona el link de youtube de la canciòn deseada\n",
        "name_ = [\"Ilegales\"]                                        #Nombre de la banda/artista\n",
        "for name,link in zip(name_,link_):\n",
        "    print(name)\n",
        "    download_ytvid_as_mp3(link,name)                        #Se descarga el audio mp3 de la cancion"
      ],
      "metadata": {
        "colab": {
          "base_uri": "https://localhost:8080/"
        },
        "id": "FE8YMj_MnzRB",
        "outputId": "8cb0bf7b-554e-485f-b901-561d8cf49a77"
      },
      "execution_count": null,
      "outputs": [
        {
          "output_type": "stream",
          "name": "stdout",
          "text": [
            "Ilegales\n",
            "[youtube] Extracting URL: https://youtu.be/_fwyrbmaiAI?si=9L6e4-V8OGo3Jalp\n",
            "[youtube] _fwyrbmaiAI: Downloading webpage\n",
            "[youtube] _fwyrbmaiAI: Downloading ios player API JSON\n",
            "[youtube] _fwyrbmaiAI: Downloading web creator player API JSON\n",
            "[youtube] _fwyrbmaiAI: Downloading player 5f8f5b0f\n",
            "[youtube] _fwyrbmaiAI: Downloading m3u8 information\n",
            "[youtube] Extracting URL: https://www.youtube.com/watch?v=_fwyrbmaiAI\n",
            "[youtube] _fwyrbmaiAI: Downloading webpage\n",
            "[youtube] _fwyrbmaiAI: Downloading ios player API JSON\n",
            "[youtube] _fwyrbmaiAI: Downloading web creator player API JSON\n",
            "[youtube] _fwyrbmaiAI: Downloading m3u8 information\n",
            "[info] _fwyrbmaiAI: Downloading 1 format(s): 251\n",
            "[download] Destination: Ilegales.mp3\n",
            "[download] 100% of    2.33MiB in 00:00:00 at 11.17MiB/s  \n",
            "Download complete... Ilegales.mp3\n"
          ]
        }
      ]
    },
    {
      "cell_type": "code",
      "source": [
        "!ffmpeg -y -i Ilegales.mp3 output.wav"
      ],
      "metadata": {
        "colab": {
          "base_uri": "https://localhost:8080/"
        },
        "id": "RY8biUtfn2OR",
        "outputId": "bf4e790e-d315-4113-f8b6-7193dde0adc8"
      },
      "execution_count": null,
      "outputs": [
        {
          "output_type": "stream",
          "name": "stdout",
          "text": [
            "ffmpeg version 4.4.2-0ubuntu0.22.04.1 Copyright (c) 2000-2021 the FFmpeg developers\n",
            "  built with gcc 11 (Ubuntu 11.2.0-19ubuntu1)\n",
            "  configuration: --prefix=/usr --extra-version=0ubuntu0.22.04.1 --toolchain=hardened --libdir=/usr/lib/x86_64-linux-gnu --incdir=/usr/include/x86_64-linux-gnu --arch=amd64 --enable-gpl --disable-stripping --enable-gnutls --enable-ladspa --enable-libaom --enable-libass --enable-libbluray --enable-libbs2b --enable-libcaca --enable-libcdio --enable-libcodec2 --enable-libdav1d --enable-libflite --enable-libfontconfig --enable-libfreetype --enable-libfribidi --enable-libgme --enable-libgsm --enable-libjack --enable-libmp3lame --enable-libmysofa --enable-libopenjpeg --enable-libopenmpt --enable-libopus --enable-libpulse --enable-librabbitmq --enable-librubberband --enable-libshine --enable-libsnappy --enable-libsoxr --enable-libspeex --enable-libsrt --enable-libssh --enable-libtheora --enable-libtwolame --enable-libvidstab --enable-libvorbis --enable-libvpx --enable-libwebp --enable-libx265 --enable-libxml2 --enable-libxvid --enable-libzimg --enable-libzmq --enable-libzvbi --enable-lv2 --enable-omx --enable-openal --enable-opencl --enable-opengl --enable-sdl2 --enable-pocketsphinx --enable-librsvg --enable-libmfx --enable-libdc1394 --enable-libdrm --enable-libiec61883 --enable-chromaprint --enable-frei0r --enable-libx264 --enable-shared\n",
            "  libavutil      56. 70.100 / 56. 70.100\n",
            "  libavcodec     58.134.100 / 58.134.100\n",
            "  libavformat    58. 76.100 / 58. 76.100\n",
            "  libavdevice    58. 13.100 / 58. 13.100\n",
            "  libavfilter     7.110.100 /  7.110.100\n",
            "  libswscale      5.  9.100 /  5.  9.100\n",
            "  libswresample   3.  9.100 /  3.  9.100\n",
            "  libpostproc    55.  9.100 / 55.  9.100\n",
            "Input #0, matroska,webm, from 'Ilegales.mp3':\n",
            "  Metadata:\n",
            "    encoder         : google/video-file\n",
            "  Duration: 00:02:26.72, start: -0.007000, bitrate: 133 kb/s\n",
            "  Stream #0:0(eng): Audio: opus, 48000 Hz, stereo, fltp (default)\n",
            "Stream mapping:\n",
            "  Stream #0:0 -> #0:0 (opus (native) -> pcm_s16le (native))\n",
            "Press [q] to stop, [?] for help\n",
            "Output #0, wav, to 'output.wav':\n",
            "  Metadata:\n",
            "    ISFT            : Lavf58.76.100\n",
            "  Stream #0:0(eng): Audio: pcm_s16le ([1][0][0][0] / 0x0001), 48000 Hz, stereo, s16, 1536 kb/s (default)\n",
            "    Metadata:\n",
            "      encoder         : Lavc58.134.100 pcm_s16le\n",
            "size=   27508kB time=00:02:26.70 bitrate=1536.1kbits/s speed=60.5x    \n",
            "video:0kB audio:27508kB subtitle:0kB other streams:0kB global headers:0kB muxing overhead: 0.000277%\n"
          ]
        }
      ]
    },
    {
      "cell_type": "code",
      "source": [
        "%%writefile /content/pages/Punto_3.py\n",
        "#Codigo del Dashboard\n",
        "import streamlit as st\n",
        "import pandas as pd\n",
        "import numpy as np\n",
        "import os\n",
        "import subprocess\n",
        "import soundfile as sf\n",
        "import matplotlib.pyplot as plt\n",
        "from sklearn.preprocessing import MinMaxScaler\n",
        "from sklearn.manifold import TSNE\n",
        "import yt_dlp as youtube_dl\n",
        "import joblib\n",
        "import matplotlib.pyplot as plt\n",
        "from scipy.fft import fft, fftfreq\n",
        "\n",
        "st.set_page_config(\n",
        "    page_title=\"Punto3\",\n",
        "    page_icon=\"3️⃣\",\n",
        ")\n",
        "\n",
        "st.title(\"Punto 3\")\n",
        "st.header(\"Frecuencia de la señal modelada en amplitud\")\n",
        "\n",
        "nombre_out = \"output.wav\"\n",
        "audio = \"/content/output.wav\"\n",
        "song_duration = st.slider('Segundos de duración:')\n",
        "st.audio(audio, format='audio/wav', start_time=0, end_time=song_duration)\n",
        "x, fs = sf.read(nombre_out)\n",
        "# read speech signal from file\n",
        "print('Frecuencia de muestreo %.2f[Hz]\\naudio %s' % (fs,nombre_out))\n",
        "\n",
        "# Cargar el archivo de audio\n",
        "audio_signal, sampling_rate = sf.read(nombre_out)\n",
        "\n",
        "# Verificar cuántos canales tiene el archivo\n",
        "print(f\"Forma del audio: {audio_signal.shape}\")\n",
        "\n",
        "# Si es estéreo (2 canales), lo convertimos en mono promediando los canales\n",
        "if len(audio_signal.shape) > 1 and audio_signal.shape[1] == 2:\n",
        "    audio_mono = np.mean(audio_signal, axis=1)\n",
        "else:\n",
        "    audio_mono = audio_signal  # Si ya es mono, no hacemos nada\n",
        "\n",
        "# Guardar el archivo de audio en mono\n",
        "sf.write('audio_mono.wav', audio_mono, sampling_rate)\n",
        "\n",
        "audio_mono.shape\n",
        "\n",
        "ti, tf = st.slider('Seleccione el rango de procesamiento',max_value=120,value=(20, 25))\n",
        "\n",
        "xpro = audio_mono.copy() #copiar archivos para procesar\n",
        "#ti = 20 #tiempo incio a procesar seg\n",
        "#tf = 25 #tiempo final a procesar seg\n",
        "xs = xpro[int(ti*fs):int((tf*fs))]\n",
        "\n",
        "from IPython.display import Audio\n",
        "ns = 120 #se reproducen los primeros ns segundos\n",
        "Audio(xs[:int(fs*ns)].T,rate=fs)\n",
        "\n",
        "audio_mono = audio_mono / np.max(np.abs(audio_mono))\n",
        "xs= xs/np.max(np.abs(xs))\n",
        "\n",
        "# Simulación de modulación por amplitud (AM)\n",
        "def am_modulate(audio_signal, carrier_freq, sampling_rate, mod_index):\n",
        "    t = np.arange(len(audio_signal)) / sampling_rate\n",
        "    carrier = np.sin(2 * np.pi * carrier_freq * t)\n",
        "    am_signal = (1 + mod_index * audio_signal) * carrier\n",
        "    return t, carrier, am_signal\n",
        "\n",
        "#Simulación de la modulación AM\n",
        "carrier_freq = 100  #Frecuencia de la portadora\n",
        "mod_index = float(st.number_input(\"Ingrese el indice de modulacion:\",value=10.1))   # Índice de modulación\n",
        "t, carrier, am_signal = am_modulate(audio_mono, carrier_freq, sampling_rate, mod_index)\n",
        "\n",
        "def plot_signal(time, signal, title):\n",
        "    plt.figure(num=1, figsize=(10, 4))\n",
        "    plt.plot(time, signal)\n",
        "    plt.title(title)\n",
        "    plt.xlabel('Tiempo [s]')\n",
        "    plt.ylabel('Amplitud')\n",
        "    plt.grid()\n",
        "    st.pyplot()\n",
        "\n",
        "def plot_frequency(signal, sampling_rate, title):\n",
        "    N = len(signal)\n",
        "    yf = fft(signal)\n",
        "    xf = fftfreq(N, 1 / sampling_rate)[:N // 2]\n",
        "    plt.figure(num=2, figsize=(10, 4))\n",
        "    plt.plot(xf, 2.0 / N * np.abs(yf[:N // 2]))\n",
        "    plt.title(title)\n",
        "    plt.grid()\n",
        "    st.pyplot()\n",
        "\n",
        "st.subheader(\"Graficas de la señal\")\n",
        "\n",
        "plot_signal(t, audio_mono, \"Señal de Mensaje (Tiempo)\")\n",
        "plot_signal(t, carrier, \"Señal Portadora (Tiempo)\")\n",
        "plot_signal(t, am_signal, \"Señal Modulada AM (Tiempo)\")\n",
        "\n",
        "#Transformada de Fourier para mostrar en frecuencia\n",
        "plot_frequency(audio_mono, sampling_rate, 'Señal de Mensaje (Frecuencia)')\n",
        "plot_frequency(carrier, sampling_rate, 'Señal Portadora (Frecuencia)')\n",
        "plot_frequency(am_signal, sampling_rate, 'Señal Modulada AM (Frecuencia)')\n",
        "\n",
        " #Reproducir los audios\n",
        "st.header(\"Señales resultantes\")\n",
        "play, fin = st.slider('Seleccione el rango de Reproduccion',max_value=120,value=(20, 25))\n",
        "\n",
        "#Señal En Mono\n",
        "st.audio(xs, sample_rate=fs)\n",
        "\n",
        "#Señal Portadora\n",
        "xpro_1 = carrier.copy() #copiar archivos para procesar\n",
        "#ti = 20 #tiempo incio a procesar seg\n",
        "#tf = 25 #tiempo final a procesar seg\n",
        "xs_1 = xpro_1[int(play*fs):int((fin*fs))]\n",
        "st.audio(xs_1, sample_rate=fs)\n",
        "\n",
        "#Señal Modulada\n",
        "xpro_2= am_signal.copy() #copiar archivos para procesar\n",
        "#ti = 20 #tiempo incio a procesar seg\n",
        "#tf = 25 #tiempo final a procesar seg\n",
        "xs_2 = xpro_2[int(play*fs):int((fin*fs))]\n",
        "st.audio(xs_2, sample_rate=fs)\n"
      ],
      "metadata": {
        "colab": {
          "base_uri": "https://localhost:8080/"
        },
        "id": "put4PRmon4fx",
        "outputId": "5f6fbfe7-7d6b-4bf1-9235-a0db94f63eb2"
      },
      "execution_count": null,
      "outputs": [
        {
          "output_type": "stream",
          "name": "stdout",
          "text": [
            "Overwriting /content/pages/Punto_3.py\n"
          ]
        }
      ]
    },
    {
      "cell_type": "markdown",
      "source": [
        "#Punto 4"
      ],
      "metadata": {
        "id": "8ARcMct_Xqmv"
      }
    },
    {
      "cell_type": "code",
      "source": [
        "%%writefile /content/pages/Punto_4.py\n",
        "\n",
        "import streamlit as st\n",
        "import pandas as pd\n",
        "import numpy as np\n",
        "import os\n",
        "import subprocess\n",
        "import soundfile as sf\n",
        "import matplotlib.pyplot as plt\n",
        "from sklearn.preprocessing import MinMaxScaler\n",
        "from sklearn.manifold import TSNE\n",
        "import joblib\n",
        "import matplotlib.pyplot as plt\n",
        "from scipy.fft import fft, fftfreq\n",
        "\n",
        "st.set_page_config(\n",
        "    page_title=\"Punto4\",\n",
        "    page_icon=\"4️⃣\",\n",
        ")\n",
        "st.title(\"PUNTO 4\")\n",
        "st.header(\"Calculo de Distorsion total de armonicos\")\n",
        "# Parámetros del sistema\n",
        "sampling_rate = 10000  # Frecuencia de muestreo\n",
        "T = 1.0 / sampling_rate  # Intervalo de tiempo\n",
        "t = np.linspace(0, 1.0, sampling_rate)\n",
        "\n",
        "# Generar señal del rectificador de onda completa\n",
        "def rectificador_onda_completa(t, f, R, C=None):\n",
        "    # Onda senoidal fundamental\n",
        "    signal = np.abs(np.sin(2 * np.pi * f * t))\n",
        "\n",
        "    if C is not None:\n",
        "        # Respuesta para carga RC\n",
        "        tau = R * C\n",
        "        signal = signal * np.exp(-t / tau)\n",
        "\n",
        "    return signal\n",
        "\n",
        "# Calcular la FFT y los armónicos\n",
        "def calcular_fft(signal, sampling_rate):\n",
        "    N = len(signal)\n",
        "    yf = fft(signal)\n",
        "    xf = fftfreq(N, 1 / sampling_rate)[:N // 2]\n",
        "    return xf, np.abs(yf[:N // 2])\n",
        "\n",
        "# Calcular THD\n",
        "def calcular_thd(yf):\n",
        "    V1 = yf[1]  # El primer armónico\n",
        "    harmonics = np.sqrt(np.sum(yf[2:]**2))\n",
        "    thd = harmonics / V1\n",
        "    return thd\n",
        "\n",
        "# Parámetros de la simulación\n",
        "st.subheader(\"Parámetros de la simulación\")\n",
        "f = 60  # Frecuencia de la señal de entrada (50 Hz)\n",
        "R = float(st.number_input(\"Ingrese el valor de R deseado:\", value=10.1))  # Valor de la resistencia (ohmios)\n",
        "C = float(st.number_input(\"Ingrese el valor de C deseado:\", value=1.1))  # Valor del condensador (faradios)\n",
        "\n",
        "# Simulación para carga resistiva pura\n",
        "signal_resistiva = rectificador_onda_completa(t, f, R)\n",
        "\n",
        "# Simulación para carga RC en serie\n",
        "signal_rc = rectificador_onda_completa(t, f, R, C)\n",
        "\n",
        "# FFT de ambas señales\n",
        "xf_res, yf_res = calcular_fft(signal_resistiva, sampling_rate)\n",
        "xf_rc, yf_rc = calcular_fft(signal_rc, sampling_rate)\n",
        "\n",
        "# Calcular THD\n",
        "thd_resistiva = calcular_thd(yf_res)\n",
        "thd_rc = calcular_thd(yf_rc)\n",
        "\n",
        "st.write(f\"THD para carga resistiva pura: {thd_resistiva:.4f}\")\n",
        "st.write(f\"THD para carga RC: {thd_rc:.4f}\")\n",
        "\n",
        "# Graficar señales y su espectro\n",
        "plt.figure(figsize=(12, 6))\n",
        "\n",
        "# Señal en el dominio del tiempo\n",
        "plt.subplot(2, 2, 1)\n",
        "plt.plot(t[:500], signal_resistiva[:500])\n",
        "plt.title(\"Señal con carga resistiva pura\")\n",
        "plt.xlabel(\"Tiempo [s]\")\n",
        "plt.ylabel(\"Amplitud\")\n",
        "\n",
        "plt.subplot(2, 2, 2)\n",
        "plt.plot(t[:500], signal_rc[:500])\n",
        "plt.title(\"Señal con carga RC\")\n",
        "plt.xlabel(\"Tiempo [s]\")\n",
        "plt.ylabel(\"Amplitud\")\n",
        "\n",
        "# FFT de las señales\n",
        "plt.subplot(2, 2, 3)\n",
        "plt.plot(xf_res, yf_res)\n",
        "plt.title(\"FFT - Carga resistiva pura\")\n",
        "plt.xlabel(\"Frecuencia [Hz]\")\n",
        "plt.ylabel(\"Amplitud\")\n",
        "\n",
        "plt.subplot(2, 2, 4)\n",
        "plt.plot(xf_rc, yf_rc)\n",
        "plt.title(\"FFT - Carga RC\")\n",
        "plt.xlabel(\"Frecuencia [Hz]\")\n",
        "plt.ylabel(\"Amplitud\")\n",
        "\n",
        "plt.tight_layout()\n",
        "st.pyplot()\n"
      ],
      "metadata": {
        "colab": {
          "base_uri": "https://localhost:8080/"
        },
        "id": "UaCaorK9XuNP",
        "outputId": "ee1cd535-7f49-4574-99bf-c3799e40eb69"
      },
      "execution_count": null,
      "outputs": [
        {
          "output_type": "stream",
          "name": "stdout",
          "text": [
            "Overwriting /content/pages/Punto_4.py\n"
          ]
        }
      ]
    },
    {
      "cell_type": "code",
      "source": [
        "%%writefile Parcial_2.py\n",
        "import os\n",
        "import streamlit as st\n",
        "from streamlit_option_menu import option_menu\n",
        "#import Punto_2, Punto_4\n",
        "\n",
        "st.set_page_config(\n",
        "    page_title=\"Parcial2\",\n",
        "    page_icon=\"💻\",\n",
        ")\n",
        "st.write(\"# PARCIAL 2 \")\n",
        "\n",
        "st.sidebar.success(\"Seleccione el ejercicio\")\n",
        "\n",
        "st.markdown(\n",
        "    \"\"\"\n",
        "    ### Presentado por:\n",
        "    - Valeria Gallego Duque\n",
        "    - Juan Diego Garcia Quintero\n",
        "    - Alejandro Bernal Valencia\n",
        "\"\"\"\n",
        ")"
      ],
      "metadata": {
        "colab": {
          "base_uri": "https://localhost:8080/"
        },
        "id": "9r814c8-TprR",
        "outputId": "cc8c1be2-a06c-4a90-91fb-0e4eea526e20"
      },
      "execution_count": null,
      "outputs": [
        {
          "output_type": "stream",
          "name": "stdout",
          "text": [
            "Overwriting Parcial_2.py\n"
          ]
        }
      ]
    },
    {
      "cell_type": "code",
      "source": [
        "!streamlit run Parcial_2.py &>/content/logs.txt & curl ipv4.icanhazip.com"
      ],
      "metadata": {
        "colab": {
          "base_uri": "https://localhost:8080/"
        },
        "id": "i0sOjkGlcDZF",
        "outputId": "f102f8d1-9837-44eb-8606-ee6a141733be"
      },
      "execution_count": null,
      "outputs": [
        {
          "output_type": "stream",
          "name": "stdout",
          "text": [
            "34.86.224.157\n"
          ]
        }
      ]
    },
    {
      "cell_type": "code",
      "source": [
        "!npx localtunnel --port 8501"
      ],
      "metadata": {
        "colab": {
          "base_uri": "https://localhost:8080/"
        },
        "id": "_DQ9sbNIcDrF",
        "outputId": "4b9aaac2-ff82-4012-a67d-0fca1e84944b"
      },
      "execution_count": null,
      "outputs": [
        {
          "output_type": "stream",
          "name": "stdout",
          "text": [
            "your url is: https://free-donkeys-draw.loca.lt\n",
            "^C\n"
          ]
        }
      ]
    }
  ]
}