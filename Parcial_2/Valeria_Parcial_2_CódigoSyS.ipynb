{
  "nbformat": 4,
  "nbformat_minor": 0,
  "metadata": {
    "colab": {
      "private_outputs": true,
      "provenance": []
    },
    "kernelspec": {
      "name": "python3",
      "display_name": "Python 3"
    },
    "language_info": {
      "name": "python"
    }
  },
  "cells": [
    {
      "cell_type": "markdown",
      "source": [
        "#PUNTO 2"
      ],
      "metadata": {
        "id": "Wfz-0oGRA_xz"
      }
    },
    {
      "cell_type": "code",
      "source": [
        "# Para graficar\n",
        "%matplotlib inline\n",
        "import matplotlib as mpl\n",
        "import matplotlib.pyplot as plt\n",
        "import numpy as np\n",
        "import warnings\n",
        "warnings.filterwarnings(\"ignore\")\n",
        "\n",
        "mpl.rc('axes', labelsize=14)\n",
        "mpl.rc('xtick', labelsize=12)\n",
        "mpl.rc('ytick', labelsize=12)\n",
        "\n",
        "# Parámetros de la señal\n",
        "A = 1.0  # Amplitud\n",
        "Fo = 5   # Frecuencia de la señal (Hz)\n",
        "T = 1/Fo  # Periodo\n",
        "Fs = 1000  # Frecuencia de muestreo definida\n",
        "t = np.arange(-T/2, T/2, 1/Fs)  # Vector de tiempo generado\n",
        "Nm = len(t)  # Número de muestras requeridas\n",
        "\n",
        "# Definir la señal x(t) = |A * sin(2 * pi * Fo * t)|^2\n",
        "x_t = (A * np.sin(2 * np.pi * Fo * t))**2\n",
        "\n",
        "# Graficar la señal original\n",
        "plt.plot(t, x_t, 'r', linewidth=2)\n",
        "plt.grid()\n",
        "plt.xlabel(\"t [s]\", fontsize=14)\n",
        "plt.ylabel(\"x(t)\", fontsize=14)\n",
        "plt.title(\"Señal x(t) = |A * sin(2 * pi * Fo * t)|^2\")\n",
        "plt.show()\n",
        "\n",
        "# 1. Transformada de Fourier\n",
        "X_f = np.fft.fft(x_t)  # FFT de la señal\n",
        "freqs = np.fft.fftfreq(len(t), d=t[1]-t[0])  # Frecuencias asociadas\n",
        "X_f = np.fft.fftshift(X_f)  # Centramos el espectro en torno a 0\n",
        "freqs = np.fft.fftshift(freqs)  # Lo mismo para las frecuencias\n",
        "\n",
        "# Magnitud y fase del espectro\n",
        "magnitude = np.abs(X_f)  # Magnitud\n",
        "phase = np.angle(X_f)    # Fase\n",
        "\n",
        "# Graficar espectro de magnitud y fase\n",
        "plt.figure(figsize=(12, 6))\n",
        "\n",
        "# Gráfica de la magnitud del espectro\n",
        "plt.subplot(2, 1, 1)\n",
        "plt.plot(freqs, 20 * np.log10(magnitude + 1e-12))  # Evitar log(0)\n",
        "plt.title('Espectro de Magnitud (Decibelios)')\n",
        "plt.xlabel('Frecuencia (Hz)')\n",
        "plt.ylabel('Magnitud (dB)')\n",
        "plt.grid(True)\n",
        "\n",
        "# Gráfica de la fase del espectro\n",
        "plt.subplot(2, 1, 2)\n",
        "plt.plot(freqs, phase)\n",
        "plt.title('Espectro de Fase')\n",
        "plt.xlabel('Frecuencia (Hz)')\n",
        "plt.ylabel('Fase (radianes)')\n",
        "plt.grid(True)\n",
        "\n",
        "plt.tight_layout()\n",
        "plt.show()\n",
        "\n",
        "# 2. Reconstrucción de la señal con diferentes N\n",
        "N_max = 50  # Número máximo de términos en la serie de Fourier\n",
        "error_relativo = []\n",
        "\n",
        "# Loop para diferentes valores de N\n",
        "for N in range(1, N_max + 1):\n",
        "    # Filtrar las componentes de la FFT: Mantener solo las primeras N componentes\n",
        "    X_f_filtered = np.copy(X_f)\n",
        "    X_f_filtered[N:] = 0  # Mantener solo las primeras N componentes\n",
        "\n",
        "    # Reconstrucción de la señal usando la serie de Fourier inversa\n",
        "    x_reconstructed = np.fft.ifft(np.fft.ifftshift(X_f_filtered))\n",
        "\n",
        "    # Calcular el error relativo entre la señal original y la reconstruida\n",
        "    error = np.linalg.norm(x_t - x_reconstructed) / np.linalg.norm(x_t)\n",
        "    error_relativo.append(error)\n",
        "\n",
        "    # Graficar la señal reconstruida para algunos valores de N\n",
        "    if N in [1, 5, 10, 20, 50]:  # Graficamos para N = 1, 5, 10, 20, 50\n",
        "        plt.figure()\n",
        "        plt.plot(t, x_t, label='Señal Original')\n",
        "        plt.plot(t, x_reconstructed, label=f'Señal Reconstruida (N={N})', linestyle='--')\n",
        "        plt.title(f'Reconstrucción de la Señal con N={N}')\n",
        "        plt.xlabel('Tiempo (s)')\n",
        "        plt.ylabel('Amplitud')\n",
        "        plt.legend()\n",
        "        plt.grid(True)\n",
        "        plt.show()\n",
        "\n",
        "# 3. Graficar el error relativo\n",
        "plt.figure()\n",
        "plt.plot(range(1, N_max + 1), error_relativo)\n",
        "plt.title('Error Relativo de Reconstrucción')\n",
        "plt.xlabel('Número de Términos (N)')\n",
        "plt.ylabel('Error Relativo')\n",
        "plt.grid(True)\n",
        "plt.show()"
      ],
      "metadata": {
        "id": "JdVG5rn4C-or"
      },
      "execution_count": null,
      "outputs": []
    },
    {
      "cell_type": "markdown",
      "source": [
        "#PUNTO 3"
      ],
      "metadata": {
        "id": "wmHj8s39YM1a"
      }
    },
    {
      "cell_type": "markdown",
      "source": [
        "Se importa el download de videos de youtube\n"
      ],
      "metadata": {
        "id": "Drrcgxoft6X2"
      }
    },
    {
      "cell_type": "code",
      "source": [
        "!python3 -m pip install --force-reinstall https://github.com/yt-dlp/yt-dlp/archive/master.tar.gz"
      ],
      "metadata": {
        "id": "EyDSWTw-YJyZ"
      },
      "execution_count": null,
      "outputs": []
    },
    {
      "cell_type": "code",
      "source": [
        "import os\n",
        "import yt_dlp as youtube_dl\n",
        "def download_ytvid_as_mp3(video_url,name):\n",
        "    #video_url = input(\"enter url of youtube video:\")\n",
        "    video_info = youtube_dl.YoutubeDL().extract_info(url = video_url,download=False)\n",
        "    filename = f\"{name}.mp3\"\n",
        "    options={\n",
        "        'format':'bestaudio/best',\n",
        "        'keepvideo':False,\n",
        "        'outtmpl':filename,\n",
        "    }\n",
        "\n",
        "    with youtube_dl.YoutubeDL(options) as ydl:\n",
        "        ydl.download([video_info['webpage_url']])\n",
        "\n",
        "    print(\"Download complete... {}\".format(filename))"
      ],
      "metadata": {
        "id": "IBfrjvQHYWrO"
      },
      "execution_count": null,
      "outputs": []
    },
    {
      "cell_type": "code",
      "source": [
        "link_= [\"https://youtu.be/_fwyrbmaiAI?si=9L6e4-V8OGo3Jalp\"] #Se selecciona el link de youtube de la canciòn deseada\n",
        "name_ = [\"Ilegales\"]                                        #Nombre de la banda/artista\n",
        "for name,link in zip(name_,link_):\n",
        "    print(name)\n",
        "    download_ytvid_as_mp3(link,name)                        #Se descarga el audio mp3 de la cancion"
      ],
      "metadata": {
        "id": "I3WeCcgcYaPZ"
      },
      "execution_count": null,
      "outputs": []
    },
    {
      "cell_type": "markdown",
      "source": [
        "Convertir mp3 a wav"
      ],
      "metadata": {
        "id": "d7N4y3TDYqR_"
      }
    },
    {
      "cell_type": "code",
      "source": [
        "!ffmpeg -y -i Ilegales.mp3 output.wav"
      ],
      "metadata": {
        "id": "iU18eMTYYrj_"
      },
      "execution_count": null,
      "outputs": []
    },
    {
      "cell_type": "code",
      "source": [
        "!pip install soundfile #instalar sondfile"
      ],
      "metadata": {
        "id": "rYfmNwVVzpF-"
      },
      "execution_count": null,
      "outputs": []
    },
    {
      "cell_type": "code",
      "source": [
        "import soundfile as sf # para instalar pip install soundfile\n",
        "import numpy as np\n",
        "import matplotlib.pyplot as plt\n",
        "#lee archivos wav\n",
        "nombre_out = \"output.wav\"\n",
        "x, fs = sf.read(nombre_out)\n",
        "# read speech signal from file\n",
        "print('Frecuencia de muestreo %.2f[Hz]\\naudio %s' % (fs,nombre_out))\n",
        "\n",
        "# Cargar el archivo de audio\n",
        "audio_signal, sampling_rate = sf.read(nombre_out)\n",
        "\n",
        "# Verificar cuántos canales tiene el archivo\n",
        "print(f\"Forma del audio: {audio_signal.shape}\")\n",
        "\n",
        "# Si es estéreo (2 canales), lo convertimos en mono promediando los canales\n",
        "if len(audio_signal.shape) > 1 and audio_signal.shape[1] == 2:\n",
        "    audio_mono = np.mean(audio_signal, axis=1)\n",
        "else:\n",
        "    audio_mono = audio_signal  # Si ya es mono, no hacemos nada\n",
        "\n",
        "# Guardar el archivo de audio en mono\n",
        "sf.write('audio_mono.wav', audio_mono, sampling_rate)\n",
        "\n",
        "audio_mono.shape\n"
      ],
      "metadata": {
        "id": "nOn4GrOkzZvk"
      },
      "execution_count": null,
      "outputs": []
    },
    {
      "cell_type": "code",
      "source": [
        "xpro = audio_mono.copy() #copiar archivos para procesar\n",
        "ti = 20 #tiempo incio a procesar seg\n",
        "tf = 25 #tiempo final a procesar seg\n",
        "xs = xpro[int(ti*fs):int((tf*fs))]"
      ],
      "metadata": {
        "id": "VIHQBUMW_yG5"
      },
      "execution_count": null,
      "outputs": []
    },
    {
      "cell_type": "code",
      "source": [
        "from IPython.display import Audio\n",
        "ns = 120 #se reproducen los primeros ns segundos\n",
        "Audio(xs[:int(fs*ns)].T,rate=fs)"
      ],
      "metadata": {
        "id": "AzS6JqyGAY4a"
      },
      "execution_count": null,
      "outputs": []
    },
    {
      "cell_type": "markdown",
      "source": [
        "Normalizar la señal"
      ],
      "metadata": {
        "id": "5x-LMO-pB_xx"
      }
    },
    {
      "cell_type": "code",
      "source": [
        " audio_mono = audio_mono / np.max(np.abs(audio_mono))\n",
        " xs= xs/np.max(np.abs(xs))"
      ],
      "metadata": {
        "id": "pFIhE37OCD-B"
      },
      "execution_count": null,
      "outputs": []
    },
    {
      "cell_type": "code",
      "source": [
        "# Simulación de modulación por amplitud (AM)\n",
        "def am_modulate(audio_signal, carrier_freq, sampling_rate, mod_index):\n",
        "    t = np.arange(len(audio_signal)) / sampling_rate\n",
        "    carrier = np.sin(2 * np.pi * carrier_freq * t)\n",
        "    am_signal = (1 + mod_index * audio_signal) * carrier\n",
        "    return t, carrier, am_signal"
      ],
      "metadata": {
        "id": "0Vf5YFLwC30h"
      },
      "execution_count": null,
      "outputs": []
    },
    {
      "cell_type": "code",
      "source": [
        "#Simulación de la modulación AM\n",
        "carrier_freq = 100  #Frecuencia de la portadora\n",
        "mod_index = float(input(\"Ingrese el indice de modulacion:\"))   # Índice de modulación\n",
        "t, carrier, am_signal = am_modulate(audio_mono, carrier_freq, sampling_rate, mod_index)"
      ],
      "metadata": {
        "id": "PFm3lPk3GVcL"
      },
      "execution_count": null,
      "outputs": []
    },
    {
      "cell_type": "markdown",
      "source": [
        "Grafico de las señales:"
      ],
      "metadata": {
        "id": "kYgd8O9aHfYq"
      }
    },
    {
      "cell_type": "code",
      "source": [
        "def plot_signal(time, signal, title):\n",
        "    plt.figure(figsize=(10, 4))\n",
        "    plt.plot(time, signal)\n",
        "    plt.title(title)\n",
        "    plt.xlabel('Tiempo [s]')\n",
        "    plt.ylabel('Amplitud')\n",
        "    plt.grid()\n",
        "    plt.show()\n",
        "\n",
        "def plot_frequency(signal, sampling_rate, title):\n",
        "    N = len(signal)\n",
        "    yf = fft(signal)\n",
        "    xf = fftfreq(N, 1 / sampling_rate)[:N // 2]\n",
        "    plt.figure(figsize=(10, 4))\n",
        "    plt.plot(xf, 2.0 / N * np.abs(yf[:N // 2]))\n",
        "    plt.title(title)\n",
        "    plt.grid()\n",
        "    plt.show()"
      ],
      "metadata": {
        "id": "m9QwEMSBMz79"
      },
      "execution_count": null,
      "outputs": []
    },
    {
      "cell_type": "code",
      "source": [
        "import matplotlib.pyplot as plt\n",
        "from scipy.fft import fft, fftfreq\n",
        "plot_signal(t, audio_mono, \"Señal de Mensaje (Tiempo)\")\n",
        "plot_signal(t, carrier, \"Señal Portadora (Tiempo)\")\n",
        "plot_signal(t, am_signal, \"Señal Modulada AM (Tiempo)\")\n"
      ],
      "metadata": {
        "id": "0FIywCd9HhKq"
      },
      "execution_count": null,
      "outputs": []
    },
    {
      "cell_type": "markdown",
      "source": [
        "Calculo de Fourier"
      ],
      "metadata": {
        "id": "cgrWFwoOMlZF"
      }
    },
    {
      "cell_type": "code",
      "source": [
        "#Transformada de Fourier para mostrar en frecuencia\n",
        "plot_frequency(audio_mono, sampling_rate, 'Señal de Mensaje (Frecuencia)')\n",
        "plot_frequency(carrier, sampling_rate, 'Señal Portadora (Frecuencia)')\n",
        "plot_frequency(am_signal, sampling_rate, 'Señal Modulada AM (Frecuencia)')"
      ],
      "metadata": {
        "id": "CNW88SlhMn61"
      },
      "execution_count": null,
      "outputs": []
    },
    {
      "cell_type": "code",
      "source": [
        " #Reproducir los audios\n",
        " #Señal En Mono\n",
        "Audio(xs, rate=fs )"
      ],
      "metadata": {
        "id": "a18rCQRXQSnR"
      },
      "execution_count": null,
      "outputs": []
    },
    {
      "cell_type": "code",
      "source": [
        "#Señal Portadora\n",
        "xpro_1 = carrier.copy() #copiar archivos para procesar\n",
        "ti = 20 #tiempo incio a procesar seg\n",
        "tf = 25 #tiempo final a procesar seg\n",
        "xs_1 = xpro_1[int(ti*fs):int((tf*fs))]\n",
        "Audio(xs_1, rate=fs)"
      ],
      "metadata": {
        "id": "IF8yEhJKRPCl"
      },
      "execution_count": null,
      "outputs": []
    },
    {
      "cell_type": "code",
      "source": [
        "#Señal Modulada\n",
        "xpro_2= am_signal.copy() #copiar archivos para procesar\n",
        "ti = 20 #tiempo incio a procesar seg\n",
        "tf = 25 #tiempo final a procesar seg\n",
        "xs_2 = xpro_2[int(ti*fs):int((tf*fs))]\n",
        "Audio(xs_2, rate=fs)"
      ],
      "metadata": {
        "id": "e9pOzryGRQSt"
      },
      "execution_count": null,
      "outputs": []
    },
    {
      "cell_type": "markdown",
      "source": [
        "#PUNTO 4:\n",
        "\n",
        "\n",
        "\n"
      ],
      "metadata": {
        "id": "6V3mr6b7S5IW"
      }
    },
    {
      "cell_type": "markdown",
      "source": [
        "### Distorsión Armónica Total (THD) y Factor de Potencia (FP) en Circuitos Eléctricos\n",
        "\n",
        "La **Distorsión Armónica Total (THD)** se refiere a la desviación de un sistema ideal donde la respuesta sería completamente lineal y constante en el tiempo. Cuando una señal sinusoidal de frecuencia \\( \\omega \\) pasa por un dispositivo no lineal, se generan armónicos, es decir, componentes en frecuencias múltiples de la frecuencia original (\\( n\\omega \\)). La THD mide la cantidad de estas señales adicionales que no estaban presentes en la señal de entrada.\n",
        "\n",
        "Puede expresarse tanto en términos de voltaje (\\( THD_v \\)) como de corriente (\\( THD_i \\)).\n",
        "\n",
        "**FP (Factor de Potencia)**: Representa la relación entre la potencia activa (real) y la potencia aparente en un circuito. La potencia activa se mide en W o kW y corresponde al trabajo útil realizado por los dispositivos, como motores o luces. La potencia aparente se mide en VA o kVA, siendo la suma de la potencia real, la potencia reactiva (almacenada y liberada por inductores y capacitores) y la potencia armónica (pérdida debida a la distorsión armónica).\n",
        "\n",
        "\n",
        "\n",
        "### Cálculo de THD usando la FFT\n",
        "\n",
        "Para calcular el **THD** a partir de la Transformada Rápida de Fourier (FFT), se siguen los siguientes pasos:\n",
        "\n",
        "1. **Realizar la FFT**: Se transforma la señal del dominio del tiempo al dominio de la frecuencia.\n",
        "2. **Identificar la frecuencia fundamental**: Esta es la frecuencia más baja, denominada \\( V_1 \\), que representa la señal principal.\n",
        "3. **Calcular las amplitudes de los armónicos**: A partir del espectro de la FFT, se obtienen las amplitudes de los armónicos \\( V_n \\), donde \\( n \\) es el número del armónico, comenzando desde el segundo armónico.\n",
        "4. **Aplicar la fórmula del THD**:\n",
        "\n",
        "$\n",
        "THD = \\frac{\\sqrt{V_2 + V_3 + \\dots + V_n}}{V_1}\n",
        "$\n",
        "\n",
        "### Factor de Potencia (FP) basado en THD\n",
        "\n",
        "El **Factor de Potencia (FP)** es la relación entre la potencia activa (real) y la potencia aparente. En presencia de distorsión armónica, el factor de potencia se puede calcular utilizando la siguiente fórmula:\n",
        "\n",
        "$\n",
        "FP_{dist} = \\frac{1}{\\sqrt{1 + THD^2}}\n",
        "$\n",
        "\n",
        "Donde \\( THD \\) es el valor de la distorsión armónica total.\n",
        "\n"
      ],
      "metadata": {
        "id": "pfCpfT2B-WGT"
      }
    },
    {
      "cell_type": "code",
      "source": [
        "from scipy.fft import fft, fftfreq\n",
        "\n",
        "# Parámetros del sistema\n",
        "sampling_rate = 10000  # Frecuencia de muestreo\n",
        "T = 1.0 / sampling_rate  # Intervalo de tiempo\n",
        "t = np.linspace(0, 1.0, sampling_rate)"
      ],
      "metadata": {
        "id": "O0961IYuVZlm"
      },
      "execution_count": null,
      "outputs": []
    },
    {
      "cell_type": "code",
      "source": [
        "# Generar señal del rectificador de onda completa\n",
        "def rectificador_onda_completa(t, f, R, C=None):\n",
        "    # Onda senoidal fundamental\n",
        "    signal = np.abs(np.sin(2 * np.pi * f * t))\n",
        "\n",
        "    if C is not None:\n",
        "        # Respuesta para carga RC\n",
        "        tau = R * C\n",
        "        signal = signal * np.exp(-t / tau)\n",
        "\n",
        "    return signal"
      ],
      "metadata": {
        "id": "nTBWuSX2VcTR"
      },
      "execution_count": null,
      "outputs": []
    },
    {
      "cell_type": "code",
      "source": [
        "# Calcular la FFT y los armónicos\n",
        "def calcular_fft(signal, sampling_rate):\n",
        "    N = len(signal)\n",
        "    yf = fft(signal)\n",
        "    xf = fftfreq(N, 1 / sampling_rate)[:N // 2]\n",
        "    return xf, np.abs(yf[:N // 2])\n",
        "\n",
        "# Calcular THD\n",
        "def calcular_thd(yf):\n",
        "    V1 = yf[1]  # El primer armónico\n",
        "    harmonics = np.sqrt(np.sum(yf[2:]**2))\n",
        "    thd = harmonics / V1\n",
        "    return thd"
      ],
      "metadata": {
        "id": "x7-a_8vuVgCG"
      },
      "execution_count": null,
      "outputs": []
    },
    {
      "cell_type": "code",
      "source": [
        "# Parámetros de la simulación\n",
        "f = 60  # Frecuencia de la señal de entrada (50 Hz)\n",
        "R = float(input(\"Ingrese el valor de R deseado:\"))  # Valor de la resistencia (ohmios)\n",
        "C = float(input(\"Ingrese el valor de C deseado:\"))  # Valor del condensador (faradios)\n",
        "\n",
        "# Simulación para carga resistiva pura\n",
        "signal_resistiva = rectificador_onda_completa(t, f, R)\n",
        "\n",
        "# Simulación para carga RC en serie\n",
        "signal_rc = rectificador_onda_completa(t, f, R, C)\n",
        "\n",
        "# FFT de ambas señales\n",
        "xf_res, yf_res = calcular_fft(signal_resistiva, sampling_rate)\n",
        "xf_rc, yf_rc = calcular_fft(signal_rc, sampling_rate)\n",
        "\n",
        "# Calcular THD\n",
        "thd_resistiva = calcular_thd(yf_res)\n",
        "thd_rc = calcular_thd(yf_rc)\n",
        "\n",
        "print(f\"THD para carga resistiva pura: {thd_resistiva:.4f}\")\n",
        "print(f\"THD para carga RC: {thd_rc:.4f}\")"
      ],
      "metadata": {
        "id": "PTsnqIhlVkam"
      },
      "execution_count": null,
      "outputs": []
    },
    {
      "cell_type": "code",
      "source": [
        "\n",
        "# Graficar señales y su espectro\n",
        "plt.figure(figsize=(12, 6))\n",
        "\n",
        "# Señal en el dominio del tiempo\n",
        "plt.subplot(2, 2, 1)\n",
        "plt.plot(t[:500], signal_resistiva[:500])\n",
        "plt.title(\"Señal con carga resistiva pura\")\n",
        "plt.xlabel(\"Tiempo [s]\")\n",
        "plt.ylabel(\"Amplitud\")\n",
        "\n",
        "plt.subplot(2, 2, 2)\n",
        "plt.plot(t[:500], signal_rc[:500])\n",
        "plt.title(\"Señal con carga RC\")\n",
        "plt.xlabel(\"Tiempo [s]\")\n",
        "plt.ylabel(\"Amplitud\")\n",
        "\n",
        "# FFT de las señales\n",
        "plt.subplot(2, 2, 3)\n",
        "plt.plot(xf_res, yf_res)\n",
        "plt.title(\"FFT - Carga resistiva pura\")\n",
        "plt.xlabel(\"Frecuencia [Hz]\")\n",
        "plt.ylabel(\"Amplitud\")\n",
        "\n",
        "plt.subplot(2, 2, 4)\n",
        "plt.plot(xf_rc, yf_rc)\n",
        "plt.title(\"FFT - Carga RC\")\n",
        "plt.xlabel(\"Frecuencia [Hz]\")\n",
        "plt.ylabel(\"Amplitud\")\n",
        "\n",
        "plt.tight_layout()\n",
        "plt.show()\n"
      ],
      "metadata": {
        "id": "6c43kBzzS6wG"
      },
      "execution_count": null,
      "outputs": []
    }
  ]
}