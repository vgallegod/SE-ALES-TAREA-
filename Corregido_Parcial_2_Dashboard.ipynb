{
  "cells": [
    {
      "cell_type": "markdown",
      "metadata": {
        "id": "view-in-github",
        "colab_type": "text"
      },
      "source": [
        "<a href=\"https://colab.research.google.com/github/vgallegod/Senales-y-sistemas/blob/main/Corregido_Parcial_2_Dashboard.ipynb\" target=\"_parent\"><img src=\"https://colab.research.google.com/assets/colab-badge.svg\" alt=\"Open In Colab\"/></a>"
      ]
    },
    {
      "cell_type": "code",
      "execution_count": null,
      "metadata": {
        "id": "Weh01inETPoQ"
      },
      "outputs": [],
      "source": [
        "!pip install streamlit -q #instalación de librerías\n",
        "!npm install localtunnel\n",
        "!python3 -m pip install --force-reinstall https://github.com/yt-dlp/yt-dlp/archive/master.tar.gz"
      ]
    },
    {
      "cell_type": "code",
      "execution_count": null,
      "metadata": {
        "id": "gucLsTjzi5y7"
      },
      "outputs": [],
      "source": [
        "!pip install streamlit_option_menu"
      ]
    },
    {
      "cell_type": "code",
      "execution_count": null,
      "metadata": {
        "id": "0vXDyEqTXMSA"
      },
      "outputs": [],
      "source": [
        "import os\n",
        "\n",
        "folder_name = \"pages\"\n",
        "if not os.path.exists(folder_name):\n",
        "    os.makedirs(folder_name)"
      ]
    },
    {
      "cell_type": "markdown",
      "metadata": {
        "id": "q70ElMdBXd-G"
      },
      "source": [
        "#Punto 2\n"
      ]
    },
    {
      "cell_type": "code",
      "execution_count": null,
      "metadata": {
        "colab": {
          "base_uri": "https://localhost:8080/"
        },
        "id": "xvffR1puXcY_",
        "outputId": "ec1991fd-f6ce-4c46-d2e5-3b3c63d86b13"
      },
      "outputs": [
        {
          "output_type": "stream",
          "name": "stdout",
          "text": [
            "Writing /content/pages/Punto_2.py\n"
          ]
        }
      ],
      "source": [
        "# Para graficar\n",
        "%%writefile /content/pages/Punto_2.py\n",
        "\n",
        "#%matplotlib inline\n",
        "import streamlit as st  #librería para streamlit\n",
        "import matplotlib as mpl\n",
        "import matplotlib.pyplot as plt\n",
        "import numpy as np\n",
        "import warnings\n",
        "warnings.filterwarnings(\"ignore\")\n",
        "\n",
        "st.set_page_config(\n",
        "    page_title=\"Punto2\",\n",
        "    page_icon=\"2️⃣\",\n",
        ")\n",
        "\n",
        "st.title(\"PUNTO 2\")\n",
        "st.header(\"Simulacion y grafica espectro de Fourier\")\n",
        "\n",
        "mpl.rc('axes', labelsize=14)\n",
        "mpl.rc('xtick', labelsize=12)\n",
        "mpl.rc('ytick', labelsize=12)\n",
        "\n",
        "# Parámetros de la señal\n",
        "A = 1.0  # Amplitud\n",
        "Fo = 5   # Frecuencia de la señal (Hz)\n",
        "T = 1/Fo  # Periodo\n",
        "Fs = 1000  # Frecuencia de muestreo definida\n",
        "t = np.arange(-T/2, T/2, 1/Fs)  # Vector de tiempo generado\n",
        "Nm = len(t)  # Número de muestras requeridas\n",
        "\n",
        "# Definir la señal x(t) = |A * sin(2 * pi * Fo * t)|^2\n",
        "x_t = (A * np.sin(2 * np.pi * Fo * t))**2\n",
        "\n",
        "# Graficar la señal original\n",
        "plt.plot(t, x_t, 'r', linewidth=2)\n",
        "plt.grid()\n",
        "plt.xlabel(\"t [s]\", fontsize=14)\n",
        "plt.ylabel(\"x(t)\", fontsize=14)\n",
        "plt.title(\"Señal x(t) = |A * sin(2 * pi * Fo * t)|^2\")\n",
        "st.pyplot()\n",
        "\n",
        "# 1. Transformada de Fourier\n",
        "X_f = np.fft.fft(x_t)  # FFT de la señal\n",
        "freqs = np.fft.fftfreq(len(t), d=t[1]-t[0])  # Frecuencias asociadas\n",
        "X_f = np.fft.fftshift(X_f)  # Centramos el espectro en torno a 0\n",
        "freqs = np.fft.fftshift(freqs)  # Lo mismo para las frecuencias\n",
        "\n",
        "# Magnitud y fase del espectro\n",
        "magnitude = np.abs(X_f)  # Magnitud\n",
        "phase = np.angle(X_f)    # Fase\n",
        "\n",
        "# Graficar espectro de magnitud y fase\n",
        "plt.figure(figsize=(12, 6))\n",
        "\n",
        "# Gráfica de la magnitud del espectro\n",
        "plt.subplot(2, 1, 1)\n",
        "plt.plot(freqs, 20 * np.log10(magnitude + 1e-12))  # Evitar log(0)\n",
        "plt.title('Espectro de Magnitud (Decibelios)')\n",
        "plt.xlabel('Frecuencia (Hz)')\n",
        "plt.ylabel('Magnitud (dB)')\n",
        "plt.grid(True)\n",
        "\n",
        "# Gráfica de la fase del espectro\n",
        "plt.subplot(2, 1, 2)\n",
        "plt.plot(freqs, phase)\n",
        "plt.title('Espectro de Fase')\n",
        "plt.xlabel('Frecuencia (Hz)')\n",
        "plt.ylabel('Fase (radianes)')\n",
        "plt.grid(True)\n",
        "\n",
        "plt.tight_layout()\n",
        "st.pyplot()\n",
        "\n",
        "# 2. Reconstrucción de la señal con diferentes N\n",
        "N_max = 50  # Número máximo de términos en la serie de Fourier\n",
        "error_relativo = []\n",
        "\n",
        "# Loop para diferentes valores de N\n",
        "for N in range(1, N_max + 1):\n",
        "    # Filtrar las componentes de la FFT: Mantener solo las primeras N componentes\n",
        "    X_f_filtered = np.copy(X_f)\n",
        "    X_f_filtered[N:] = 0  # Mantener solo las primeras N componentes\n",
        "\n",
        "    # Reconstrucción de la señal usando la serie de Fourier inversa\n",
        "    x_reconstructed = np.fft.ifft(np.fft.ifftshift(X_f_filtered))\n",
        "\n",
        "    # Calcular el error relativo entre la señal original y la reconstruida\n",
        "    error = np.linalg.norm(x_t - x_reconstructed) / np.linalg.norm(x_t)\n",
        "    error_relativo.append(error)\n",
        "\n",
        "    # Graficar la señal reconstruida para algunos valores de N\n",
        "    if N in [1, 5, 10, 20, 50]:  # Graficamos para N = 1, 5, 10, 20, 50\n",
        "        plt.figure()\n",
        "        plt.plot(t, x_t, label='Señal Original')\n",
        "        plt.plot(t, x_reconstructed, label=f'Señal Reconstruida (N={N})', linestyle='--')\n",
        "        plt.title(f'Reconstrucción de la Señal con N={N}')\n",
        "        plt.xlabel('Tiempo (s)')\n",
        "        plt.ylabel('Amplitud')\n",
        "        plt.legend()\n",
        "        plt.grid(True)\n",
        "        st.pyplot()\n",
        "\n",
        "# 3. Graficar el error relativo\n",
        "plt.figure()\n",
        "plt.plot(range(1, N_max + 1), error_relativo)\n",
        "plt.title('Error Relativo de Reconstrucción')\n",
        "plt.xlabel('Número de Términos (N)')\n",
        "plt.ylabel('Error Relativo')\n",
        "plt.grid(True)\n",
        "st.pyplot()"
      ]
    },
    {
      "cell_type": "markdown",
      "metadata": {
        "id": "WTG9A0UpnfOp"
      },
      "source": [
        "#Punto 3"
      ]
    },
    {
      "cell_type": "code",
      "execution_count": null,
      "metadata": {
        "colab": {
          "base_uri": "https://localhost:8080/"
        },
        "id": "QmTD6ZaHnmdp",
        "outputId": "e3aee809-8e0e-43f9-daa0-3c492eceb2aa"
      },
      "outputs": [
        {
          "output_type": "stream",
          "name": "stdout",
          "text": [
            "Requirement already satisfied: soundfile in /usr/local/lib/python3.10/dist-packages (0.12.1)\n",
            "Requirement already satisfied: cffi>=1.0 in /usr/local/lib/python3.10/dist-packages (from soundfile) (1.17.1)\n",
            "Requirement already satisfied: pycparser in /usr/local/lib/python3.10/dist-packages (from cffi>=1.0->soundfile) (2.22)\n"
          ]
        }
      ],
      "source": [
        "!pip install soundfile"
      ]
    },
    {
      "cell_type": "code",
      "execution_count": null,
      "metadata": {
        "id": "ouq7zoULnw_B"
      },
      "outputs": [],
      "source": [
        "#Instalacion del download de youtube\n",
        "import os\n",
        "import yt_dlp as youtube_dl\n",
        "def download_ytvid_as_mp3(video_url,name):\n",
        "    #video_url = input(\"enter url of youtube video:\")\n",
        "    video_info = youtube_dl.YoutubeDL().extract_info(url = video_url,download=False)\n",
        "    filename = f\"{name}.mp3\"\n",
        "    options={\n",
        "        'format':'bestaudio/best',\n",
        "        'keepvideo':False,\n",
        "        'outtmpl':filename,\n",
        "    }\n",
        "\n",
        "    with youtube_dl.YoutubeDL(options) as ydl:\n",
        "        ydl.download([video_info['webpage_url']])\n",
        "\n",
        "    print(\"Download complete... {}\".format(filename))"
      ]
    },
    {
      "cell_type": "code",
      "execution_count": null,
      "metadata": {
        "colab": {
          "base_uri": "https://localhost:8080/"
        },
        "id": "FE8YMj_MnzRB",
        "outputId": "7e542046-dbd9-42d2-b4d9-22ca7a1d4397"
      },
      "outputs": [
        {
          "output_type": "stream",
          "name": "stdout",
          "text": [
            "Ilegales\n",
            "[youtube] Extracting URL: https://youtu.be/_fwyrbmaiAI?si=9L6e4-V8OGo3Jalp\n",
            "[youtube] _fwyrbmaiAI: Downloading webpage\n",
            "[youtube] _fwyrbmaiAI: Downloading ios player API JSON\n",
            "[youtube] _fwyrbmaiAI: Downloading web creator player API JSON\n",
            "[youtube] _fwyrbmaiAI: Downloading player 26636eff\n",
            "[youtube] _fwyrbmaiAI: Downloading m3u8 information\n",
            "[youtube] Extracting URL: https://www.youtube.com/watch?v=_fwyrbmaiAI\n",
            "[youtube] _fwyrbmaiAI: Downloading webpage\n",
            "[youtube] _fwyrbmaiAI: Downloading ios player API JSON\n",
            "[youtube] _fwyrbmaiAI: Downloading web creator player API JSON\n",
            "[youtube] _fwyrbmaiAI: Downloading player 26636eff\n",
            "[youtube] _fwyrbmaiAI: Downloading m3u8 information\n",
            "[info] _fwyrbmaiAI: Downloading 1 format(s): 251\n",
            "[download] Destination: Ilegales.mp3\n",
            "[download] 100% of    2.33MiB in 00:00:00 at 11.45MiB/s  \n",
            "Download complete... Ilegales.mp3\n"
          ]
        }
      ],
      "source": [
        "link_= [\"https://youtu.be/_fwyrbmaiAI?si=9L6e4-V8OGo3Jalp\"] #Se selecciona el link de youtube de la canciòn deseada\n",
        "name_ = [\"Ilegales\"]                                        #Nombre de la banda/artista\n",
        "for name,link in zip(name_,link_):\n",
        "    print(name)\n",
        "    download_ytvid_as_mp3(link,name)                        #Se descarga el audio mp3 de la cancion"
      ]
    },
    {
      "cell_type": "code",
      "execution_count": null,
      "metadata": {
        "colab": {
          "base_uri": "https://localhost:8080/"
        },
        "id": "RY8biUtfn2OR",
        "outputId": "741375fb-54bf-4787-ad3c-44d99484a832"
      },
      "outputs": [
        {
          "output_type": "stream",
          "name": "stdout",
          "text": [
            "ffmpeg version 4.4.2-0ubuntu0.22.04.1 Copyright (c) 2000-2021 the FFmpeg developers\n",
            "  built with gcc 11 (Ubuntu 11.2.0-19ubuntu1)\n",
            "  configuration: --prefix=/usr --extra-version=0ubuntu0.22.04.1 --toolchain=hardened --libdir=/usr/lib/x86_64-linux-gnu --incdir=/usr/include/x86_64-linux-gnu --arch=amd64 --enable-gpl --disable-stripping --enable-gnutls --enable-ladspa --enable-libaom --enable-libass --enable-libbluray --enable-libbs2b --enable-libcaca --enable-libcdio --enable-libcodec2 --enable-libdav1d --enable-libflite --enable-libfontconfig --enable-libfreetype --enable-libfribidi --enable-libgme --enable-libgsm --enable-libjack --enable-libmp3lame --enable-libmysofa --enable-libopenjpeg --enable-libopenmpt --enable-libopus --enable-libpulse --enable-librabbitmq --enable-librubberband --enable-libshine --enable-libsnappy --enable-libsoxr --enable-libspeex --enable-libsrt --enable-libssh --enable-libtheora --enable-libtwolame --enable-libvidstab --enable-libvorbis --enable-libvpx --enable-libwebp --enable-libx265 --enable-libxml2 --enable-libxvid --enable-libzimg --enable-libzmq --enable-libzvbi --enable-lv2 --enable-omx --enable-openal --enable-opencl --enable-opengl --enable-sdl2 --enable-pocketsphinx --enable-librsvg --enable-libmfx --enable-libdc1394 --enable-libdrm --enable-libiec61883 --enable-chromaprint --enable-frei0r --enable-libx264 --enable-shared\n",
            "  libavutil      56. 70.100 / 56. 70.100\n",
            "  libavcodec     58.134.100 / 58.134.100\n",
            "  libavformat    58. 76.100 / 58. 76.100\n",
            "  libavdevice    58. 13.100 / 58. 13.100\n",
            "  libavfilter     7.110.100 /  7.110.100\n",
            "  libswscale      5.  9.100 /  5.  9.100\n",
            "  libswresample   3.  9.100 /  3.  9.100\n",
            "  libpostproc    55.  9.100 / 55.  9.100\n",
            "Input #0, matroska,webm, from 'Ilegales.mp3':\n",
            "  Metadata:\n",
            "    encoder         : google/video-file\n",
            "  Duration: 00:02:26.72, start: -0.007000, bitrate: 133 kb/s\n",
            "  Stream #0:0(eng): Audio: opus, 48000 Hz, stereo, fltp (default)\n",
            "Stream mapping:\n",
            "  Stream #0:0 -> #0:0 (opus (native) -> pcm_s16le (native))\n",
            "Press [q] to stop, [?] for help\n",
            "Output #0, wav, to 'output.wav':\n",
            "  Metadata:\n",
            "    ISFT            : Lavf58.76.100\n",
            "  Stream #0:0(eng): Audio: pcm_s16le ([1][0][0][0] / 0x0001), 48000 Hz, stereo, s16, 1536 kb/s (default)\n",
            "    Metadata:\n",
            "      encoder         : Lavc58.134.100 pcm_s16le\n",
            "size=   27508kB time=00:02:26.70 bitrate=1536.1kbits/s speed= 130x    \n",
            "video:0kB audio:27508kB subtitle:0kB other streams:0kB global headers:0kB muxing overhead: 0.000277%\n"
          ]
        }
      ],
      "source": [
        "!ffmpeg -y -i Ilegales.mp3 output.wav"
      ]
    },
    {
      "cell_type": "code",
      "execution_count": null,
      "metadata": {
        "colab": {
          "base_uri": "https://localhost:8080/"
        },
        "id": "put4PRmon4fx",
        "outputId": "e821d66c-a88c-46a7-c99f-5a78468aaee3"
      },
      "outputs": [
        {
          "output_type": "stream",
          "name": "stdout",
          "text": [
            "Writing /content/pages/Punto_3.py\n"
          ]
        }
      ],
      "source": [
        "%%writefile /content/pages/Punto_3.py\n",
        "#Codigo del Dashboard\n",
        "import streamlit as st\n",
        "import pandas as pd\n",
        "import numpy as np\n",
        "import os\n",
        "import subprocess\n",
        "import soundfile as sf\n",
        "import matplotlib.pyplot as plt\n",
        "from sklearn.preprocessing import MinMaxScaler\n",
        "from sklearn.manifold import TSNE\n",
        "import yt_dlp as youtube_dl\n",
        "import joblib\n",
        "import matplotlib.pyplot as plt\n",
        "from scipy.fft import fft, rfftfreq\n",
        "\n",
        "st.set_page_config(\n",
        "    page_title=\"Punto3\",\n",
        "    page_icon=\"3️⃣\",\n",
        ")\n",
        "\n",
        "st.title(\"Punto 3\")\n",
        "st.header(\"Frecuencia de la señal modelada en amplitud\")\n",
        "\n",
        "nombre_out = \"output.wav\"\n",
        "audio = \"/content/output.wav\"\n",
        "song_duration = st.slider('Segundos de duración:')\n",
        "st.audio(audio, format='audio/wav', start_time=0, end_time=song_duration)\n",
        "x, fs = sf.read(nombre_out)\n",
        "# read speech signal from file\n",
        "print('Frecuencia de muestreo %.2f[Hz]\\naudio %s' % (fs,nombre_out))\n",
        "\n",
        "# Cargar el archivo de audio\n",
        "audio_signal, sampling_rate = sf.read(nombre_out)\n",
        "\n",
        "# Verificar cuántos canales tiene el archivo\n",
        "print(f\"Forma del audio: {audio_signal.shape}\")\n",
        "\n",
        "# Si es estéreo (2 canales), lo convertimos en mono promediando los canales\n",
        "if len(audio_signal.shape) > 1 and audio_signal.shape[1] == 2:\n",
        "    audio_mono = np.mean(audio_signal, axis=1)\n",
        "else:\n",
        "    audio_mono = audio_signal  # Si ya es mono, no hacemos nada\n",
        "\n",
        "# Guardar el archivo de audio en mono\n",
        "sf.write('audio_mono.wav', audio_mono, sampling_rate)\n",
        "\n",
        "audio_mono.shape\n",
        "\n",
        "ti, tf = st.slider('Seleccione el rango de procesamiento',max_value=120,value=(20, 25))\n",
        "\n",
        "xpro = audio_mono.copy() #copiar archivos para procesar\n",
        "#ti = 20 #tiempo incio a procesar seg\n",
        "#tf = 25 #tiempo final a procesar seg\n",
        "xs = xpro[int(ti*fs):int((tf*fs))]\n",
        "\n",
        "from IPython.display import Audio\n",
        "ns = 120 #se reproducen los primeros ns segundos\n",
        "Audio(xs[:int(fs*ns)].T,rate=fs)\n",
        "\n",
        "audio_mono = audio_mono / np.max(np.abs(audio_mono))\n",
        "xs= xs/np.max(np.abs(xs))\n",
        "\n",
        "# Simulación de modulación por amplitud (AM)\n",
        "def am_modulate(audio_signal, carrier_freq, sampling_rate, mod_index):\n",
        "    t = np.arange(len(audio_signal)) / sampling_rate\n",
        "    carrier = np.sin(2 * np.pi * carrier_freq * t)\n",
        "    am_signal = (1 + mod_index * audio_signal) * carrier\n",
        "    return t, carrier, am_signal\n",
        "\n",
        "#Simulación de la modulación AM\n",
        "carrier_freq = 120000  #Frecuencia de la portadora\n",
        "mod_index = float(st.number_input(\"Ingrese el indice de modulacion:\",value=10.1))   # Índice de modulación\n",
        "t, carrier, am_signal = am_modulate(audio_mono, carrier_freq, sampling_rate, mod_index)\n",
        "\n",
        "def plot_signal(time, signal, title):\n",
        "    plt.figure(num=1, figsize=(10, 4))\n",
        "    plt.plot(time, signal)\n",
        "    plt.title(title)\n",
        "    plt.xlabel('Tiempo [s]')\n",
        "    plt.ylabel('Amplitud')\n",
        "    plt.grid()\n",
        "    st.pyplot()\n",
        "\n",
        "def plot_frequency(signal, sampling_rate, title):\n",
        "    N = len(signal)\n",
        "    yf = np.fft.rfft(signal)\n",
        "    xf = rfftfreq(N, 1 / sampling_rate)[:N // 2]\n",
        "    plt.figure(num=2, figsize=(10, 4))\n",
        "    plt.plot(xf, 2.0 / N * np.abs(yf[:N // 2]))\n",
        "    plt.title(title)\n",
        "    plt.grid()\n",
        "    st.pyplot()\n",
        "    plt.xlabel('Frecuencia [Hz]')\n",
        "    plt.ylabel('Amplitud')\n",
        "st.subheader(\"Graficas de la señal\")\n",
        "\n",
        "plot_signal(t, audio_mono, \"Señal de Mensaje (Tiempo)\")\n",
        "plot_signal(t, carrier, \"Señal Portadora (Tiempo)\")\n",
        "plot_signal(t, am_signal, \"Señal Modulada AM (Tiempo)\")\n",
        "\n",
        "#Transformada de Fourier para mostrar en frecuencia\n",
        "plot_frequency(audio_mono, sampling_rate, \"Señal de Mensaje (Frecuencia)\")\n",
        "plot_frequency(carrier, sampling_rate, \"Señal Portadora (Frecuencia)\")\n",
        "plot_frequency(am_signal, sampling_rate, \"Señal Modulada AM (Frecuencia)\")\n",
        "\n",
        " #Reproducir los audios\n",
        "st.header(\"Señales resultantes\")\n",
        "play, fin = st.slider('Seleccione el rango de Reproduccion',max_value=120,value=(20, 25))\n",
        "\n",
        "#Señal En Mono\n",
        "st.audio(xs, sample_rate=fs)\n",
        "\n",
        "#Señal Portadora\n",
        "xpro_1 = carrier.copy() #copiar archivos para procesar\n",
        "#ti = 20 #tiempo incio a procesar seg\n",
        "#tf = 25 #tiempo final a procesar seg\n",
        "xs_1 = xpro_1[int(play*fs):int((fin*fs))]\n",
        "st.audio(xs_1, sample_rate=fs)\n",
        "\n",
        "#Señal Modulada\n",
        "xpro_2= am_signal.copy() #copiar archivos para procesar\n",
        "#ti = 20 #tiempo incio a procesar seg\n",
        "#tf = 25 #tiempo final a procesar seg\n",
        "xs_2 = xpro_2[int(play*fs):int((fin*fs))]\n",
        "st.audio(xs_2, sample_rate=fs)\n"
      ]
    },
    {
      "cell_type": "markdown",
      "metadata": {
        "id": "8ARcMct_Xqmv"
      },
      "source": [
        "#Punto 4"
      ]
    },
    {
      "cell_type": "code",
      "execution_count": null,
      "metadata": {
        "colab": {
          "base_uri": "https://localhost:8080/"
        },
        "id": "UaCaorK9XuNP",
        "outputId": "b1860c8a-9b25-4305-9c0a-1e7b2b143860"
      },
      "outputs": [
        {
          "output_type": "stream",
          "name": "stdout",
          "text": [
            "Writing /content/pages/Punto_4.py\n"
          ]
        }
      ],
      "source": [
        "%%writefile /content/pages/Punto_4.py\n",
        "\n",
        "import streamlit as st\n",
        "import pandas as pd\n",
        "import numpy as np\n",
        "import os\n",
        "import subprocess\n",
        "import soundfile as sf\n",
        "import matplotlib.pyplot as plt\n",
        "from sklearn.preprocessing import MinMaxScaler\n",
        "from sklearn.manifold import TSNE\n",
        "import joblib\n",
        "import matplotlib.pyplot as plt\n",
        "from scipy.fft import fft, fftfreq\n",
        "\n",
        "st.set_page_config(\n",
        "    page_title=\"Punto4\",\n",
        "    page_icon=\"4️⃣\",\n",
        ")\n",
        "st.title(\"PUNTO 4\")\n",
        "st.header(\"Calculo de Distorsion total de armonicos\")\n",
        "# Parámetros del sistema\n",
        "sampling_rate = 10000  # Frecuencia de muestreo\n",
        "T = 1.0 / sampling_rate  # Intervalo de tiempo\n",
        "t = np.linspace(0, 1.0, sampling_rate)\n",
        "\n",
        "# Generar señal del rectificador de onda completa\n",
        "def rectificador_onda_completa(t, f, R, C=None):\n",
        "    # Onda senoidal fundamental\n",
        "    signal = np.abs(np.sin(2 * np.pi * f * t))\n",
        "\n",
        "    if C is not None:\n",
        "        # Respuesta para carga RC\n",
        "        tau = R * C\n",
        "        signal = signal * np.exp(-t / tau)\n",
        "\n",
        "    return signal\n",
        "\n",
        "# Calcular la FFT y los armónicos\n",
        "def calcular_fft(signal, sampling_rate):\n",
        "    N = len(signal)\n",
        "    yf = fft(signal)\n",
        "    xf = fftfreq(N, 1 / sampling_rate)[:N // 2]\n",
        "    return xf, np.abs(yf[:N // 2])\n",
        "\n",
        "# Calcular THD\n",
        "def calcular_thd(yf):\n",
        "    V1 = yf[1]  # El primer armónico\n",
        "    harmonics = np.sqrt(np.sum(yf[2:]**2))\n",
        "    thd = harmonics / V1\n",
        "    return thd\n",
        "\n",
        "# Parámetros de la simulación\n",
        "st.subheader(\"Parámetros de la simulación\")\n",
        "f = 60  # Frecuencia de la señal de entrada (50 Hz)\n",
        "R = float(st.number_input(\"Ingrese el valor de R deseado:\", value=10.1))  # Valor de la resistencia (ohmios)\n",
        "C = float(st.number_input(\"Ingrese el valor de C deseado:\", value=1.1))  # Valor del condensador (faradios)\n",
        "\n",
        "# Simulación para carga resistiva pura\n",
        "signal_resistiva = rectificador_onda_completa(t, f, R)\n",
        "\n",
        "# Simulación para carga RC en serie\n",
        "signal_rc = rectificador_onda_completa(t, f, R, C)\n",
        "\n",
        "# FFT de ambas señales\n",
        "xf_res, yf_res = calcular_fft(signal_resistiva, sampling_rate)\n",
        "xf_rc, yf_rc = calcular_fft(signal_rc, sampling_rate)\n",
        "\n",
        "# Calcular THD\n",
        "thd_resistiva = calcular_thd(yf_res)\n",
        "thd_rc = calcular_thd(yf_rc)\n",
        "\n",
        "st.write(f\"THD para carga resistiva pura: {thd_resistiva:.4f}\")\n",
        "st.write(f\"THD para carga RC: {thd_rc:.4f}\")\n",
        "\n",
        "# Graficar señales y su espectro\n",
        "plt.figure(figsize=(12, 6))\n",
        "\n",
        "# Señal en el dominio del tiempo\n",
        "plt.subplot(2, 2, 1)\n",
        "plt.plot(t[:500], signal_resistiva[:500])\n",
        "plt.title(\"Señal con carga resistiva pura\")\n",
        "plt.xlabel(\"Tiempo [s]\")\n",
        "plt.ylabel(\"Amplitud\")\n",
        "\n",
        "plt.subplot(2, 2, 2)\n",
        "plt.plot(t[:500], signal_rc[:500])\n",
        "plt.title(\"Señal con carga RC\")\n",
        "plt.xlabel(\"Tiempo [s]\")\n",
        "plt.ylabel(\"Amplitud\")\n",
        "\n",
        "# FFT de las señales\n",
        "plt.subplot(2, 2, 3)\n",
        "plt.plot(xf_res, yf_res)\n",
        "plt.title(\"FFT - Carga resistiva pura\")\n",
        "plt.xlabel(\"Frecuencia [Hz]\")\n",
        "plt.ylabel(\"Amplitud\")\n",
        "\n",
        "plt.subplot(2, 2, 4)\n",
        "plt.plot(xf_rc, yf_rc)\n",
        "plt.title(\"FFT - Carga RC\")\n",
        "plt.xlabel(\"Frecuencia [Hz]\")\n",
        "plt.ylabel(\"Amplitud\")\n",
        "\n",
        "plt.tight_layout()\n",
        "st.pyplot()\n"
      ]
    },
    {
      "cell_type": "code",
      "execution_count": null,
      "metadata": {
        "id": "9r814c8-TprR"
      },
      "outputs": [],
      "source": [
        "%%writefile Parcial_2.py\n",
        "import os\n",
        "import streamlit as st\n",
        "from streamlit_option_menu import option_menu\n",
        "#import Punto_2, Punto_4\n",
        "\n",
        "st.set_page_config(\n",
        "    page_title=\"Parcial2\",\n",
        "    page_icon=\"💻\",\n",
        ")\n",
        "st.write(\"# PARCIAL 2 \")\n",
        "\n",
        "st.sidebar.success(\"Seleccione el ejercicio\")\n",
        "\n",
        "st.markdown(\n",
        "    \"\"\"\n",
        "    ### Presentado por:\n",
        "    - Valeria Gallego Duque\n",
        "    - Juan Diego Garcia Quintero\n",
        "    - Alejandro Bernal Valencia\n",
        "\"\"\"\n",
        ")"
      ]
    },
    {
      "cell_type": "code",
      "execution_count": null,
      "metadata": {
        "id": "i0sOjkGlcDZF"
      },
      "outputs": [],
      "source": [
        "!streamlit run Parcial_2.py &>/content/logs.txt & curl ipv4.icanhazip.com"
      ]
    },
    {
      "cell_type": "code",
      "execution_count": null,
      "metadata": {
        "colab": {
          "base_uri": "https://localhost:8080/"
        },
        "id": "_DQ9sbNIcDrF",
        "outputId": "70023c82-d8d8-45a3-ff1d-494c47afbf15"
      },
      "outputs": [
        {
          "metadata": {
            "tags": null
          },
          "name": "stdout",
          "output_type": "stream",
          "text": [
            "your url is: https://itchy-beans-wait.loca.lt\n"
          ]
        }
      ],
      "source": [
        "!npx localtunnel --port 8501"
      ]
    }
  ],
  "metadata": {
    "colab": {
      "provenance": [],
      "include_colab_link": true
    },
    "kernelspec": {
      "display_name": "Python 3",
      "name": "python3"
    },
    "language_info": {
      "name": "python"
    }
  },
  "nbformat": 4,
  "nbformat_minor": 0
}