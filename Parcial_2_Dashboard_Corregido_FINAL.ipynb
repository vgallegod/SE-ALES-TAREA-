{
  "cells": [
    {
      "cell_type": "markdown",
      "metadata": {
        "id": "view-in-github",
        "colab_type": "text"
      },
      "source": [
        "<a href=\"https://colab.research.google.com/github/vgallegod/Senales-y-sistemas/blob/main/Parcial_2_Dashboard_Corregido_FINAL.ipynb\" target=\"_parent\"><img src=\"https://colab.research.google.com/assets/colab-badge.svg\" alt=\"Open In Colab\"/></a>"
      ]
    },
    {
      "cell_type": "code",
      "execution_count": null,
      "metadata": {
        "colab": {
          "base_uri": "https://localhost:8080/"
        },
        "id": "Weh01inETPoQ",
        "outputId": "4beced32-bfdf-4e8a-b2ab-10667187c2c9"
      },
      "outputs": [
        {
          "output_type": "stream",
          "name": "stdout",
          "text": [
            "\u001b[2K     \u001b[90m━━━━━━━━━━━━━━━━━━━━━━━━━━━━━━━━━━━━━━━━\u001b[0m \u001b[32m41.9/41.9 kB\u001b[0m \u001b[31m2.7 MB/s\u001b[0m eta \u001b[36m0:00:00\u001b[0m\n",
            "\u001b[2K   \u001b[90m━━━━━━━━━━━━━━━━━━━━━━━━━━━━━━━━━━━━━━━━\u001b[0m \u001b[32m8.7/8.7 MB\u001b[0m \u001b[31m76.4 MB/s\u001b[0m eta \u001b[36m0:00:00\u001b[0m\n",
            "\u001b[2K   \u001b[90m━━━━━━━━━━━━━━━━━━━━━━━━━━━━━━━━━━━━━━━━\u001b[0m \u001b[32m207.3/207.3 kB\u001b[0m \u001b[31m13.3 MB/s\u001b[0m eta \u001b[36m0:00:00\u001b[0m\n",
            "\u001b[2K   \u001b[90m━━━━━━━━━━━━━━━━━━━━━━━━━━━━━━━━━━━━━━━━\u001b[0m \u001b[32m6.9/6.9 MB\u001b[0m \u001b[31m85.6 MB/s\u001b[0m eta \u001b[36m0:00:00\u001b[0m\n",
            "\u001b[2K   \u001b[90m━━━━━━━━━━━━━━━━━━━━━━━━━━━━━━━━━━━━━━━━\u001b[0m \u001b[32m79.3/79.3 kB\u001b[0m \u001b[31m5.9 MB/s\u001b[0m eta \u001b[36m0:00:00\u001b[0m\n",
            "\u001b[2K   \u001b[90m━━━━━━━━━━━━━━━━━━━━━━━━━━━━━━━━━━━━━━━━\u001b[0m \u001b[32m62.7/62.7 kB\u001b[0m \u001b[31m3.9 MB/s\u001b[0m eta \u001b[36m0:00:00\u001b[0m\n",
            "\u001b[K\u001b[?25h\n",
            "added 22 packages, and audited 23 packages in 1s\n",
            "\n",
            "3 packages are looking for funding\n",
            "  run `npm fund` for details\n",
            "\n",
            "2 \u001b[33m\u001b[1mmoderate\u001b[22m\u001b[39m severity vulnerabilities\n",
            "\n",
            "To address all issues, run:\n",
            "  npm audit fix\n",
            "\n",
            "Run `npm audit` for details.\n",
            "Collecting https://github.com/yt-dlp/yt-dlp/archive/master.tar.gz\n",
            "  Downloading https://github.com/yt-dlp/yt-dlp/archive/master.tar.gz\n",
            "\u001b[2K     \u001b[32m|\u001b[0m \u001b[32m2.7 MB\u001b[0m \u001b[31m8.8 MB/s\u001b[0m \u001b[33m0:00:00\u001b[0m\n",
            "\u001b[?25h  Installing build dependencies ... \u001b[?25l\u001b[?25hdone\n",
            "  Getting requirements to build wheel ... \u001b[?25l\u001b[?25hdone\n",
            "  Preparing metadata (pyproject.toml) ... \u001b[?25l\u001b[?25hdone\n",
            "Collecting brotli (from yt-dlp==2024.9.27)\n",
            "  Downloading Brotli-1.1.0-cp310-cp310-manylinux_2_5_x86_64.manylinux1_x86_64.manylinux_2_12_x86_64.manylinux2010_x86_64.whl.metadata (5.5 kB)\n",
            "Collecting certifi (from yt-dlp==2024.9.27)\n",
            "  Using cached certifi-2024.8.30-py3-none-any.whl.metadata (2.2 kB)\n",
            "Collecting mutagen (from yt-dlp==2024.9.27)\n",
            "  Downloading mutagen-1.47.0-py3-none-any.whl.metadata (1.7 kB)\n",
            "Collecting pycryptodomex (from yt-dlp==2024.9.27)\n",
            "  Downloading pycryptodomex-3.20.0-cp35-abi3-manylinux_2_17_x86_64.manylinux2014_x86_64.whl.metadata (3.4 kB)\n",
            "Collecting requests<3,>=2.32.2 (from yt-dlp==2024.9.27)\n",
            "  Using cached requests-2.32.3-py3-none-any.whl.metadata (4.6 kB)\n",
            "Collecting urllib3<3,>=1.26.17 (from yt-dlp==2024.9.27)\n",
            "  Using cached urllib3-2.2.3-py3-none-any.whl.metadata (6.5 kB)\n",
            "Collecting websockets>=13.0 (from yt-dlp==2024.9.27)\n",
            "  Downloading websockets-13.1-cp310-cp310-manylinux_2_5_x86_64.manylinux1_x86_64.manylinux_2_17_x86_64.manylinux2014_x86_64.whl.metadata (6.8 kB)\n",
            "Collecting charset-normalizer<4,>=2 (from requests<3,>=2.32.2->yt-dlp==2024.9.27)\n",
            "  Using cached charset_normalizer-3.3.2-cp310-cp310-manylinux_2_17_x86_64.manylinux2014_x86_64.whl.metadata (33 kB)\n",
            "Collecting idna<4,>=2.5 (from requests<3,>=2.32.2->yt-dlp==2024.9.27)\n",
            "  Using cached idna-3.10-py3-none-any.whl.metadata (10 kB)\n",
            "Using cached requests-2.32.3-py3-none-any.whl (64 kB)\n",
            "Using cached certifi-2024.8.30-py3-none-any.whl (167 kB)\n",
            "Using cached urllib3-2.2.3-py3-none-any.whl (126 kB)\n",
            "Downloading websockets-13.1-cp310-cp310-manylinux_2_5_x86_64.manylinux1_x86_64.manylinux_2_17_x86_64.manylinux2014_x86_64.whl (164 kB)\n",
            "\u001b[2K   \u001b[90m━━━━━━━━━━━━━━━━━━━━━━━━━━━━━━━━━━━━━━━━\u001b[0m \u001b[32m164.1/164.1 kB\u001b[0m \u001b[31m6.7 MB/s\u001b[0m eta \u001b[36m0:00:00\u001b[0m\n",
            "\u001b[?25hDownloading Brotli-1.1.0-cp310-cp310-manylinux_2_5_x86_64.manylinux1_x86_64.manylinux_2_12_x86_64.manylinux2010_x86_64.whl (3.0 MB)\n",
            "\u001b[2K   \u001b[90m━━━━━━━━━━━━━━━━━━━━━━━━━━━━━━━━━━━━━━━━\u001b[0m \u001b[32m3.0/3.0 MB\u001b[0m \u001b[31m53.2 MB/s\u001b[0m eta \u001b[36m0:00:00\u001b[0m\n",
            "\u001b[?25hDownloading mutagen-1.47.0-py3-none-any.whl (194 kB)\n",
            "\u001b[2K   \u001b[90m━━━━━━━━━━━━━━━━━━━━━━━━━━━━━━━━━━━━━━━━\u001b[0m \u001b[32m194.4/194.4 kB\u001b[0m \u001b[31m13.0 MB/s\u001b[0m eta \u001b[36m0:00:00\u001b[0m\n",
            "\u001b[?25hDownloading pycryptodomex-3.20.0-cp35-abi3-manylinux_2_17_x86_64.manylinux2014_x86_64.whl (2.1 MB)\n",
            "\u001b[2K   \u001b[90m━━━━━━━━━━━━━━━━━━━━━━━━━━━━━━━━━━━━━━━━\u001b[0m \u001b[32m2.1/2.1 MB\u001b[0m \u001b[31m56.3 MB/s\u001b[0m eta \u001b[36m0:00:00\u001b[0m\n",
            "\u001b[?25hUsing cached charset_normalizer-3.3.2-cp310-cp310-manylinux_2_17_x86_64.manylinux2014_x86_64.whl (142 kB)\n",
            "Using cached idna-3.10-py3-none-any.whl (70 kB)\n",
            "Building wheels for collected packages: yt-dlp\n",
            "  Building wheel for yt-dlp (pyproject.toml) ... \u001b[?25l\u001b[?25hdone\n",
            "  Created wheel for yt-dlp: filename=yt_dlp-2024.9.27-py3-none-any.whl size=2896547 sha256=ea8b69b14e0245d9a9050f27992c1fba75b6042d90f1000e532892e8e910d374\n",
            "  Stored in directory: /tmp/pip-ephem-wheel-cache-14q7us_g/wheels/4c/91/d1/c5369304e2f7afb660bb6eee093af5a7d3c0ea05a3c1e8c797\n",
            "Successfully built yt-dlp\n",
            "Installing collected packages: brotli, websockets, urllib3, pycryptodomex, mutagen, idna, charset-normalizer, certifi, requests, yt-dlp\n",
            "  Attempting uninstall: urllib3\n",
            "    Found existing installation: urllib3 2.2.3\n",
            "    Uninstalling urllib3-2.2.3:\n",
            "      Successfully uninstalled urllib3-2.2.3\n",
            "  Attempting uninstall: idna\n",
            "    Found existing installation: idna 3.10\n",
            "    Uninstalling idna-3.10:\n",
            "      Successfully uninstalled idna-3.10\n",
            "  Attempting uninstall: charset-normalizer\n",
            "    Found existing installation: charset-normalizer 3.3.2\n",
            "    Uninstalling charset-normalizer-3.3.2:\n",
            "      Successfully uninstalled charset-normalizer-3.3.2\n",
            "  Attempting uninstall: certifi\n",
            "    Found existing installation: certifi 2024.8.30\n",
            "    Uninstalling certifi-2024.8.30:\n",
            "      Successfully uninstalled certifi-2024.8.30\n",
            "  Attempting uninstall: requests\n",
            "    Found existing installation: requests 2.32.3\n",
            "    Uninstalling requests-2.32.3:\n",
            "      Successfully uninstalled requests-2.32.3\n",
            "Successfully installed brotli-1.1.0 certifi-2024.8.30 charset-normalizer-3.3.2 idna-3.10 mutagen-1.47.0 pycryptodomex-3.20.0 requests-2.32.3 urllib3-2.2.3 websockets-13.1 yt-dlp-2024.9.27\n"
          ]
        }
      ],
      "source": [
        "!pip install streamlit -q #instalación de librerías\n",
        "!npm install localtunnel\n",
        "!python3 -m pip install --force-reinstall https://github.com/yt-dlp/yt-dlp/archive/master.tar.gz"
      ]
    },
    {
      "cell_type": "code",
      "execution_count": null,
      "metadata": {
        "colab": {
          "base_uri": "https://localhost:8080/"
        },
        "id": "gucLsTjzi5y7",
        "outputId": "b701b1af-37e6-444c-d9a4-0f06eff767fe"
      },
      "outputs": [
        {
          "output_type": "stream",
          "name": "stdout",
          "text": [
            "Collecting streamlit_option_menu\n",
            "  Downloading streamlit_option_menu-0.3.13-py3-none-any.whl.metadata (2.5 kB)\n",
            "Requirement already satisfied: streamlit>=0.63 in /usr/local/lib/python3.10/dist-packages (from streamlit_option_menu) (1.39.0)\n",
            "Requirement already satisfied: altair<6,>=4.0 in /usr/local/lib/python3.10/dist-packages (from streamlit>=0.63->streamlit_option_menu) (4.2.2)\n",
            "Requirement already satisfied: blinker<2,>=1.0.0 in /usr/lib/python3/dist-packages (from streamlit>=0.63->streamlit_option_menu) (1.4)\n",
            "Requirement already satisfied: cachetools<6,>=4.0 in /usr/local/lib/python3.10/dist-packages (from streamlit>=0.63->streamlit_option_menu) (5.5.0)\n",
            "Requirement already satisfied: click<9,>=7.0 in /usr/local/lib/python3.10/dist-packages (from streamlit>=0.63->streamlit_option_menu) (8.1.7)\n",
            "Requirement already satisfied: numpy<3,>=1.20 in /usr/local/lib/python3.10/dist-packages (from streamlit>=0.63->streamlit_option_menu) (1.26.4)\n",
            "Requirement already satisfied: packaging<25,>=20 in /usr/local/lib/python3.10/dist-packages (from streamlit>=0.63->streamlit_option_menu) (24.1)\n",
            "Requirement already satisfied: pandas<3,>=1.4.0 in /usr/local/lib/python3.10/dist-packages (from streamlit>=0.63->streamlit_option_menu) (2.2.2)\n",
            "Requirement already satisfied: pillow<11,>=7.1.0 in /usr/local/lib/python3.10/dist-packages (from streamlit>=0.63->streamlit_option_menu) (10.4.0)\n",
            "Requirement already satisfied: protobuf<6,>=3.20 in /usr/local/lib/python3.10/dist-packages (from streamlit>=0.63->streamlit_option_menu) (3.20.3)\n",
            "Requirement already satisfied: pyarrow>=7.0 in /usr/local/lib/python3.10/dist-packages (from streamlit>=0.63->streamlit_option_menu) (16.1.0)\n",
            "Requirement already satisfied: requests<3,>=2.27 in /usr/local/lib/python3.10/dist-packages (from streamlit>=0.63->streamlit_option_menu) (2.32.3)\n",
            "Requirement already satisfied: rich<14,>=10.14.0 in /usr/local/lib/python3.10/dist-packages (from streamlit>=0.63->streamlit_option_menu) (13.8.1)\n",
            "Requirement already satisfied: tenacity<10,>=8.1.0 in /usr/local/lib/python3.10/dist-packages (from streamlit>=0.63->streamlit_option_menu) (9.0.0)\n",
            "Requirement already satisfied: toml<2,>=0.10.1 in /usr/local/lib/python3.10/dist-packages (from streamlit>=0.63->streamlit_option_menu) (0.10.2)\n",
            "Requirement already satisfied: typing-extensions<5,>=4.3.0 in /usr/local/lib/python3.10/dist-packages (from streamlit>=0.63->streamlit_option_menu) (4.12.2)\n",
            "Requirement already satisfied: gitpython!=3.1.19,<4,>=3.0.7 in /usr/local/lib/python3.10/dist-packages (from streamlit>=0.63->streamlit_option_menu) (3.1.43)\n",
            "Requirement already satisfied: pydeck<1,>=0.8.0b4 in /usr/local/lib/python3.10/dist-packages (from streamlit>=0.63->streamlit_option_menu) (0.9.1)\n",
            "Requirement already satisfied: tornado<7,>=6.0.3 in /usr/local/lib/python3.10/dist-packages (from streamlit>=0.63->streamlit_option_menu) (6.3.3)\n",
            "Requirement already satisfied: watchdog<6,>=2.1.5 in /usr/local/lib/python3.10/dist-packages (from streamlit>=0.63->streamlit_option_menu) (5.0.3)\n",
            "Requirement already satisfied: entrypoints in /usr/local/lib/python3.10/dist-packages (from altair<6,>=4.0->streamlit>=0.63->streamlit_option_menu) (0.4)\n",
            "Requirement already satisfied: jinja2 in /usr/local/lib/python3.10/dist-packages (from altair<6,>=4.0->streamlit>=0.63->streamlit_option_menu) (3.1.4)\n",
            "Requirement already satisfied: jsonschema>=3.0 in /usr/local/lib/python3.10/dist-packages (from altair<6,>=4.0->streamlit>=0.63->streamlit_option_menu) (4.23.0)\n",
            "Requirement already satisfied: toolz in /usr/local/lib/python3.10/dist-packages (from altair<6,>=4.0->streamlit>=0.63->streamlit_option_menu) (0.12.1)\n",
            "Requirement already satisfied: gitdb<5,>=4.0.1 in /usr/local/lib/python3.10/dist-packages (from gitpython!=3.1.19,<4,>=3.0.7->streamlit>=0.63->streamlit_option_menu) (4.0.11)\n",
            "Requirement already satisfied: python-dateutil>=2.8.2 in /usr/local/lib/python3.10/dist-packages (from pandas<3,>=1.4.0->streamlit>=0.63->streamlit_option_menu) (2.8.2)\n",
            "Requirement already satisfied: pytz>=2020.1 in /usr/local/lib/python3.10/dist-packages (from pandas<3,>=1.4.0->streamlit>=0.63->streamlit_option_menu) (2024.2)\n",
            "Requirement already satisfied: tzdata>=2022.7 in /usr/local/lib/python3.10/dist-packages (from pandas<3,>=1.4.0->streamlit>=0.63->streamlit_option_menu) (2024.2)\n",
            "Requirement already satisfied: charset-normalizer<4,>=2 in /usr/local/lib/python3.10/dist-packages (from requests<3,>=2.27->streamlit>=0.63->streamlit_option_menu) (3.3.2)\n",
            "Requirement already satisfied: idna<4,>=2.5 in /usr/local/lib/python3.10/dist-packages (from requests<3,>=2.27->streamlit>=0.63->streamlit_option_menu) (3.10)\n",
            "Requirement already satisfied: urllib3<3,>=1.21.1 in /usr/local/lib/python3.10/dist-packages (from requests<3,>=2.27->streamlit>=0.63->streamlit_option_menu) (2.2.3)\n",
            "Requirement already satisfied: certifi>=2017.4.17 in /usr/local/lib/python3.10/dist-packages (from requests<3,>=2.27->streamlit>=0.63->streamlit_option_menu) (2024.8.30)\n",
            "Requirement already satisfied: markdown-it-py>=2.2.0 in /usr/local/lib/python3.10/dist-packages (from rich<14,>=10.14.0->streamlit>=0.63->streamlit_option_menu) (3.0.0)\n",
            "Requirement already satisfied: pygments<3.0.0,>=2.13.0 in /usr/local/lib/python3.10/dist-packages (from rich<14,>=10.14.0->streamlit>=0.63->streamlit_option_menu) (2.18.0)\n",
            "Requirement already satisfied: smmap<6,>=3.0.1 in /usr/local/lib/python3.10/dist-packages (from gitdb<5,>=4.0.1->gitpython!=3.1.19,<4,>=3.0.7->streamlit>=0.63->streamlit_option_menu) (5.0.1)\n",
            "Requirement already satisfied: MarkupSafe>=2.0 in /usr/local/lib/python3.10/dist-packages (from jinja2->altair<6,>=4.0->streamlit>=0.63->streamlit_option_menu) (2.1.5)\n",
            "Requirement already satisfied: attrs>=22.2.0 in /usr/local/lib/python3.10/dist-packages (from jsonschema>=3.0->altair<6,>=4.0->streamlit>=0.63->streamlit_option_menu) (24.2.0)\n",
            "Requirement already satisfied: jsonschema-specifications>=2023.03.6 in /usr/local/lib/python3.10/dist-packages (from jsonschema>=3.0->altair<6,>=4.0->streamlit>=0.63->streamlit_option_menu) (2023.12.1)\n",
            "Requirement already satisfied: referencing>=0.28.4 in /usr/local/lib/python3.10/dist-packages (from jsonschema>=3.0->altair<6,>=4.0->streamlit>=0.63->streamlit_option_menu) (0.35.1)\n",
            "Requirement already satisfied: rpds-py>=0.7.1 in /usr/local/lib/python3.10/dist-packages (from jsonschema>=3.0->altair<6,>=4.0->streamlit>=0.63->streamlit_option_menu) (0.20.0)\n",
            "Requirement already satisfied: mdurl~=0.1 in /usr/local/lib/python3.10/dist-packages (from markdown-it-py>=2.2.0->rich<14,>=10.14.0->streamlit>=0.63->streamlit_option_menu) (0.1.2)\n",
            "Requirement already satisfied: six>=1.5 in /usr/local/lib/python3.10/dist-packages (from python-dateutil>=2.8.2->pandas<3,>=1.4.0->streamlit>=0.63->streamlit_option_menu) (1.16.0)\n",
            "Downloading streamlit_option_menu-0.3.13-py3-none-any.whl (823 kB)\n",
            "\u001b[2K   \u001b[90m━━━━━━━━━━━━━━━━━━━━━━━━━━━━━━━━━━━━━━━━\u001b[0m \u001b[32m823.4/823.4 kB\u001b[0m \u001b[31m17.5 MB/s\u001b[0m eta \u001b[36m0:00:00\u001b[0m\n",
            "\u001b[?25hInstalling collected packages: streamlit_option_menu\n",
            "Successfully installed streamlit_option_menu-0.3.13\n"
          ]
        }
      ],
      "source": [
        "!pip install streamlit_option_menu"
      ]
    },
    {
      "cell_type": "code",
      "source": [
        "import os\n",
        "\n",
        "folder_name = \"pages\"\n",
        "if not os.path.exists(folder_name):\n",
        "    os.makedirs(folder_name)"
      ],
      "metadata": {
        "id": "qxWb-sSwOm4r"
      },
      "execution_count": null,
      "outputs": []
    },
    {
      "cell_type": "markdown",
      "source": [
        "###PUNTO 2"
      ],
      "metadata": {
        "id": "qeF0FhIMOngi"
      }
    },
    {
      "cell_type": "code",
      "source": [
        "%%writefile punto1.py\n",
        "import streamlit as st\n",
        "import matplotlib.pyplot as plt\n",
        "import numpy as np\n",
        "\n",
        "st.set_page_config(page_title=\"Espectro de Fourier\")\n",
        "\n",
        "st.markdown(\"# Espectro de Fourier\")\n",
        "st.sidebar.header(\"Espectro de Fourier\")\n",
        "\n",
        "# Parámetros\n",
        "A = 1\n",
        "Fo = 100\n",
        "\n",
        "# Cálculo de tiempos y frecuencias\n",
        "ti = -1 / (2 * Fo)  # tiempo inicial\n",
        "tf = 1 / (2 * Fo)   # tiempo final\n",
        "T = tf - ti\n",
        "wo = 2 * np.pi / T  # frecuencia angular\n",
        "Fo = wo / (2 * np.pi)  # frecuencia fundamental\n",
        "\n",
        "# Frecuencia de muestreo\n",
        "Fs = 30 * Fo  # frecuencia de muestreo -> debe respetar Nyquist Fs >= 2 * Fo\n",
        "tv = np.arange(ti, tf, 1 / Fs)  # vector de tiempo\n",
        "Nm = len(tv)  # número de muestras en el tiempo\n",
        "\n",
        "# Señal de entrada\n",
        "xo = (abs(A * np.sin(wo * tv))) ** 2  # señal de entrada\n",
        "\n",
        "# Crear la gráfica\n",
        "fig, ax = plt.subplots()\n",
        "ax.plot(tv, xo)\n",
        "ax.set_title('Gráfica de la Señal de Entrada')\n",
        "ax.set_xlabel('Tiempo (s)')\n",
        "ax.set_ylabel('Amplitud')\n",
        "\n",
        "# Mostrar la gráfica en Streamlit\n",
        "st.pyplot(fig)\n",
        "\n",
        "###################\n",
        "st.markdown(\"## Gráficas Magnitud y Fase en dB\")\n",
        "\n",
        "# Explicación inicial\n",
        "st.write(r\"\"\"\n",
        "Dado que la señal presenta simetría **PAR**, es decir $x(t) = x(-t)$, su espectro de Fourier solo tendrá componente $\\mathbb{R}$. De los cálculos presentados en el PDF, se tiene que:\n",
        "\"\"\")\n",
        "\n",
        "# Mostrar la primera ecuación en un recuadro\n",
        "st.latex(r\"\\boxed{b_n = 0 \\quad \\forall \\ n \\in \\{1,\\dots,N\\}}\")\n",
        "\n",
        "# Continuación de la explicación\n",
        "st.write(\"Por lo tanto, el espectro de Fourier en su forma trigonométrica es:\")\n",
        "\n",
        "# Mostrar la segunda ecuación en un recuadro\n",
        "st.latex(r\"\"\"\n",
        "\\boxed{a_n = \\left\\{\\begin{align}\n",
        "0 & \\quad \\forall \\ n \\setminus \\{0, 2\\}\\\\\n",
        "\\frac{A^2}{2} & \\quad n = 0\\\\\n",
        "-\\frac{A^2}{2} & \\quad n = 2\\\\\n",
        "\\end{align}\\right.}\n",
        "\"\"\")\n",
        "\n",
        "# Mostrar la tercera ecuación en un recuadro\n",
        "st.latex(r\"\"\"\n",
        "\\boxed{x(t)= a_0 + \\sum_{n=1}^N{a_n\\cos(n\\omega_0 t)} = a_0 + a_2 \\cos(n\\omega_0 t) =  \\frac{A^2}{2} - \\frac{A^2}{2} \\cos(2 \\cdot 2\\pi F_0 t)}\n",
        "\"\"\")\n",
        "\n",
        "# Explicación sobre la forma exponencial compleja\n",
        "st.write(\"Para el caso de la exponencial compleja se tiene que:\")\n",
        "\n",
        "# Mostrar la cuarta ecuación\n",
        "st.latex(r\"c_0 = a_0 = \\frac{A^2}{2}\")\n",
        "\n",
        "st.write(r\"\"\"\n",
        "Y haciendo uso de la igualdad entre los coeficientes \\(c_n \\) y \\( a_n, \\ b_n\\), se obtiene lo siguiente:\n",
        "\"\"\")\n",
        "\n",
        "# Mostrar la quinta ecuación\n",
        "st.latex(r\"c_n = \\frac{a_n - j b_n}{2}\")\n",
        "\n",
        "st.write(\"Por lo tanto:\")\n",
        "\n",
        "# Mostrar la sexta ecuación en un recuadro\n",
        "st.latex(r\"\"\"\n",
        "\\boxed{c_n = \\left\\{\\begin{align}\n",
        "- \\frac{A^2}{4} & \\quad n = -2\\\\\n",
        "\\frac{A^2}{2} & \\quad n = 0\\\\\n",
        "-\\frac{A^2}{4} & \\quad n = 2\\\\\n",
        "0 & \\quad \\forall \\ n \\setminus \\{-2,0,2\\}\n",
        "\\end{align}\\right.}\n",
        "\"\"\")\n",
        "\n",
        "# Explicación sobre el espectro en forma exponencial compleja\n",
        "st.write(r'Por lo tanto el espectro de Fourier en su forma exponencial compleja es:')\n",
        "\n",
        "st.latex(r'\\boxed{x(t) = \\sum_{n=-N}^{N}{c_n e^{j n \\omega_0 t}}}')\n",
        "\n",
        "st.latex(r'x(t) = c_{-2}e^{-j2 \\cdot 2\\pi F_0t} + c_{0}e^{0} + c_{2}e^{j2\\cdot 2\\pi F_0t}')\n",
        "\n",
        "st.latex(r'\\boxed{x(t) = -\\frac{A^2}{4} [\\cos(2 \\cdot 2\\pi F_0 t) - j \\sin(2 \\cdot 2\\pi F_0 t)] + \\frac{A^2}{2} -\\frac{A^2}{4} [\\cos(2 \\cdot 2\\pi F_0 t) + j \\sin(2 \\cdot 2\\pi F_0 t)]}')\n",
        "\n",
        "\n",
        "st.write(r'Teniendo las series definidas se procede a realizar las simulaciones respectivas para mostrar su magnitud, fase, error relativo y la señal reconstruida para $N = \\{ 1,2,...,50 \\}$')\n",
        "\n",
        "#se presenta la simulación del espectro y la reconstrucción\n",
        "#construir bases serie exponencial\n",
        "N = 50 #numero armonicos\n",
        "wo = 2*np.pi/T # frecuencia fundamental\n",
        "\n",
        "# definir bases\n",
        "phin = np.zeros((len(tv),2*N+1),dtype=np.complex_)#crear matriz para guardar bases\n",
        "for n in range(-N,N+1,1):\n",
        "    phin[:,n+N] = np.exp(1j*n*wo*tv)#base de fourier en el intervalo de interés\n",
        "\n",
        "#espectro de la señal - serie exponencial\n",
        "#calcular espectro -> cambiar según la señal estudiada\n",
        "Cn = np.zeros(2*N+1,dtype=np.complex_)\n",
        "nv = np.linspace(-N, N, 2*N+1) #vector num armónicos\n",
        "Cn[N] = (A**2) / 2 # nivel dc C_0\n",
        "Cn[N-2] = -(A**2) /4\n",
        "Cn[N+2] = -(A**2) /4\n",
        "\n",
        "\n",
        "#graficar espectro\n",
        "fig = plt.figure(figsize=(8,8))\n",
        "plt.subplot(2,2,1)\n",
        "plt.stem(nv, np.real(Cn), 'r')\n",
        "plt.xlabel(r'$nw_o$[rad/s]',fontsize = 14)\n",
        "plt.ylabel(r'$Re\\{C_n\\}$',fontsize = 14)\n",
        "plt.axis('tight')\n",
        "plt.grid()\n",
        "\n",
        "plt.subplot(2,2,2)\n",
        "plt.stem(nv, np.imag(Cn), 'r')\n",
        "plt.xlabel(r'$nw_o$[rad/s]',fontsize = 14)\n",
        "plt.ylabel(r'$Im\\{C_n\\}$',fontsize = 14)\n",
        "plt.axis('tight')\n",
        "plt.grid()\n",
        "\n",
        "plt.subplot(2,2,3)\n",
        "plt.stem(nv, 20*np.log10(abs(Cn)), 'r')#magnitud del espectro\n",
        "plt.xlabel(r'$nw_o$[rad/s]',fontsize = 14)\n",
        "plt.ylabel(r'$|C_n| \\ [dB]$',fontsize = 14)\n",
        "plt.axis('tight')\n",
        "plt.grid()\n",
        "\n",
        "plt.subplot(2,2,4)\n",
        "plt.stem(nv, np.angle(Cn), 'r')#fase del espectro\n",
        "plt.xlabel(r'$nw_o$[rad/s]',fontsize = 14)\n",
        "plt.ylabel(r'$\\langle C_n$',fontsize = 14)\n",
        "plt.axis('tight')\n",
        "plt.grid()\n",
        "\n",
        "fig.tight_layout()\n",
        "\n",
        "# Mostrar la figura en Streamlit\n",
        "st.pyplot(fig)\n",
        "\n",
        "st.title('Reconstrucción de la señal y Error relativo')\n",
        "\n",
        "# Reconstructing\n",
        "Px = (3 * (A**4)) / 8\n",
        "\n",
        "# Streamlit Slider\n",
        "n = st.slider(\"Selecciona el número de armónicos (n)\", 0, N, 1)\n",
        "\n",
        "# Crear una figura para Streamlit\n",
        "fig, ax = plt.subplots(2, 3, figsize=(12, 5))\n",
        "\n",
        "# Función para actualizar gráficos\n",
        "def update(n):\n",
        "    # Limpiar las subplots\n",
        "    ax[0, 0].clear()\n",
        "    ax[0, 1].clear()\n",
        "    ax[0, 2].clear()\n",
        "    ax[1, 0].clear()\n",
        "    ax[1, 1].clear()\n",
        "    ax[1, 2].clear()\n",
        "\n",
        "    # Espectro\n",
        "    ind = np.arange(N - n, N + n + 1)  # Armónicos a considerar\n",
        "    ax[0, 0].stem(nv, abs(Cn), 'b')  # Magnitud del espectro\n",
        "    ax[0, 0].stem(nv[ind], abs(Cn[ind]), 'r')  # Magnitud del espectro\n",
        "    ax[0, 0].set_xlabel(r'$nw_o$[rad/s]')\n",
        "    ax[0, 0].set_ylabel(r'$|C_n|$')\n",
        "\n",
        "    # Componentes espectrales\n",
        "    ce = (phin[:, ind]).dot(np.diag(Cn[ind]))\n",
        "    ax[0, 1].plot(np.real(ce))  # Componente real\n",
        "    ax[0, 1].set_xlabel('t[s]')\n",
        "    ax[0, 1].set_ylabel('$Re\\{c_n\\phi_n(t)\\}$')\n",
        "\n",
        "    ax[0, 2].plot(np.imag(ce))  # Componente imaginario\n",
        "    ax[0, 2].set_xlabel('t[s]')\n",
        "    ax[0, 2].set_ylabel('$Im\\{c_n\\phi_n(t)\\}$')\n",
        "\n",
        "    # Reconstrucción\n",
        "    er = 1 - ((np.sum(abs(Cn[ind])**2)) / Px)\n",
        "    # Señal reconstruida\n",
        "    xe = (phin[:, ind]).dot(Cn[ind])\n",
        "    # Error en t\n",
        "    et = xo - xe\n",
        "\n",
        "    ax[1, 1].plot(tv, xo, 'r', linewidth=4, label='$x(t)$')\n",
        "    ax[1, 1].plot(tv, xe, color='b', label='$x_e(t)$')  # Señal estimada o filtrada\n",
        "    ax[1, 1].plot(tv, et, color='g', label='$e(t)$')  # Señal estimada o filtrada\n",
        "    ax[1, 1].set_title(f'$n={n}. E_r$={100*er:.2f}[%%]')\n",
        "    ax[1, 1].set_xlabel('t[s]')\n",
        "    ax[1, 1].set_ylabel('x(t)')\n",
        "    ax[1, 1].legend(loc='center left', bbox_to_anchor=(1, 0.5))\n",
        "    ax[1, 0].axis('off')\n",
        "    ax[1, 2].axis('off')\n",
        "    plt.subplots_adjust(wspace=0.5, hspace=0.7)\n",
        "\n",
        "# Actualizar la figura con el valor del slider\n",
        "update(n)\n",
        "\n",
        "# Mostrar la figura en Streamlit\n",
        "st.pyplot(fig)"
      ],
      "metadata": {
        "colab": {
          "base_uri": "https://localhost:8080/"
        },
        "id": "GprHaAT0OPRy",
        "outputId": "57e4dcac-a1f4-4ad8-e0e6-ce6bee73132f"
      },
      "execution_count": null,
      "outputs": [
        {
          "output_type": "stream",
          "name": "stdout",
          "text": [
            "Writing punto1.py\n"
          ]
        }
      ]
    },
    {
      "cell_type": "code",
      "source": [
        "!mv punto1.py pages/"
      ],
      "metadata": {
        "id": "ERBqDIIyOeHU"
      },
      "execution_count": null,
      "outputs": []
    },
    {
      "cell_type": "markdown",
      "metadata": {
        "id": "WTG9A0UpnfOp"
      },
      "source": [
        "#Punto 3"
      ]
    },
    {
      "cell_type": "code",
      "execution_count": null,
      "metadata": {
        "colab": {
          "base_uri": "https://localhost:8080/"
        },
        "id": "QmTD6ZaHnmdp",
        "outputId": "506b55fa-abd2-466e-83e3-440d6cdecb3b"
      },
      "outputs": [
        {
          "output_type": "stream",
          "name": "stdout",
          "text": [
            "Requirement already satisfied: soundfile in /usr/local/lib/python3.10/dist-packages (0.12.1)\n",
            "Requirement already satisfied: cffi>=1.0 in /usr/local/lib/python3.10/dist-packages (from soundfile) (1.17.1)\n",
            "Requirement already satisfied: pycparser in /usr/local/lib/python3.10/dist-packages (from cffi>=1.0->soundfile) (2.22)\n"
          ]
        }
      ],
      "source": [
        "!pip install soundfile"
      ]
    },
    {
      "cell_type": "code",
      "execution_count": null,
      "metadata": {
        "id": "ouq7zoULnw_B"
      },
      "outputs": [],
      "source": [
        "#Instalacion del download de youtube\n",
        "import os\n",
        "import yt_dlp as youtube_dl\n",
        "def download_ytvid_as_mp3(video_url,name):\n",
        "    #video_url = input(\"enter url of youtube video:\")\n",
        "    video_info = youtube_dl.YoutubeDL().extract_info(url = video_url,download=False)\n",
        "    filename = f\"{name}.mp3\"\n",
        "    options={\n",
        "        'format':'bestaudio/best',\n",
        "        'keepvideo':False,\n",
        "        'outtmpl':filename,\n",
        "    }\n",
        "\n",
        "    with youtube_dl.YoutubeDL(options) as ydl:\n",
        "        ydl.download([video_info['webpage_url']])\n",
        "\n",
        "    print(\"Download complete... {}\".format(filename))"
      ]
    },
    {
      "cell_type": "code",
      "execution_count": null,
      "metadata": {
        "colab": {
          "base_uri": "https://localhost:8080/"
        },
        "id": "FE8YMj_MnzRB",
        "outputId": "606f40ca-ff3d-4418-a969-a293296c2a5d"
      },
      "outputs": [
        {
          "output_type": "stream",
          "name": "stdout",
          "text": [
            "Ilegales\n",
            "[youtube] Extracting URL: https://youtu.be/_fwyrbmaiAI?si=9L6e4-V8OGo3Jalp\n",
            "[youtube] _fwyrbmaiAI: Downloading webpage\n",
            "[youtube] _fwyrbmaiAI: Downloading ios player API JSON\n",
            "[youtube] _fwyrbmaiAI: Downloading web creator player API JSON\n",
            "[youtube] _fwyrbmaiAI: Downloading player d9418494\n",
            "[youtube] _fwyrbmaiAI: Downloading m3u8 information\n",
            "[youtube] Extracting URL: https://www.youtube.com/watch?v=_fwyrbmaiAI\n",
            "[youtube] _fwyrbmaiAI: Downloading webpage\n",
            "[youtube] _fwyrbmaiAI: Downloading ios player API JSON\n",
            "[youtube] _fwyrbmaiAI: Downloading web creator player API JSON\n",
            "[youtube] _fwyrbmaiAI: Downloading player d9418494\n",
            "[youtube] _fwyrbmaiAI: Downloading m3u8 information\n",
            "[info] _fwyrbmaiAI: Downloading 1 format(s): 251\n",
            "[download] Destination: Ilegales.mp3\n",
            "[download] 100% of    2.33MiB in 00:00:00 at 6.67MiB/s   \n",
            "Download complete... Ilegales.mp3\n"
          ]
        }
      ],
      "source": [
        "link_= [\"https://youtu.be/_fwyrbmaiAI?si=9L6e4-V8OGo3Jalp\"] #Se selecciona el link de youtube de la canciòn deseada\n",
        "name_ = [\"Ilegales\"]                                        #Nombre de la banda/artista\n",
        "for name,link in zip(name_,link_):\n",
        "    print(name)\n",
        "    download_ytvid_as_mp3(link,name)                        #Se descarga el audio mp3 de la cancion"
      ]
    },
    {
      "cell_type": "code",
      "execution_count": null,
      "metadata": {
        "colab": {
          "base_uri": "https://localhost:8080/"
        },
        "id": "RY8biUtfn2OR",
        "outputId": "6037e923-74e2-401f-c09a-7725f5900922"
      },
      "outputs": [
        {
          "output_type": "stream",
          "name": "stdout",
          "text": [
            "ffmpeg version 4.4.2-0ubuntu0.22.04.1 Copyright (c) 2000-2021 the FFmpeg developers\n",
            "  built with gcc 11 (Ubuntu 11.2.0-19ubuntu1)\n",
            "  configuration: --prefix=/usr --extra-version=0ubuntu0.22.04.1 --toolchain=hardened --libdir=/usr/lib/x86_64-linux-gnu --incdir=/usr/include/x86_64-linux-gnu --arch=amd64 --enable-gpl --disable-stripping --enable-gnutls --enable-ladspa --enable-libaom --enable-libass --enable-libbluray --enable-libbs2b --enable-libcaca --enable-libcdio --enable-libcodec2 --enable-libdav1d --enable-libflite --enable-libfontconfig --enable-libfreetype --enable-libfribidi --enable-libgme --enable-libgsm --enable-libjack --enable-libmp3lame --enable-libmysofa --enable-libopenjpeg --enable-libopenmpt --enable-libopus --enable-libpulse --enable-librabbitmq --enable-librubberband --enable-libshine --enable-libsnappy --enable-libsoxr --enable-libspeex --enable-libsrt --enable-libssh --enable-libtheora --enable-libtwolame --enable-libvidstab --enable-libvorbis --enable-libvpx --enable-libwebp --enable-libx265 --enable-libxml2 --enable-libxvid --enable-libzimg --enable-libzmq --enable-libzvbi --enable-lv2 --enable-omx --enable-openal --enable-opencl --enable-opengl --enable-sdl2 --enable-pocketsphinx --enable-librsvg --enable-libmfx --enable-libdc1394 --enable-libdrm --enable-libiec61883 --enable-chromaprint --enable-frei0r --enable-libx264 --enable-shared\n",
            "  libavutil      56. 70.100 / 56. 70.100\n",
            "  libavcodec     58.134.100 / 58.134.100\n",
            "  libavformat    58. 76.100 / 58. 76.100\n",
            "  libavdevice    58. 13.100 / 58. 13.100\n",
            "  libavfilter     7.110.100 /  7.110.100\n",
            "  libswscale      5.  9.100 /  5.  9.100\n",
            "  libswresample   3.  9.100 /  3.  9.100\n",
            "  libpostproc    55.  9.100 / 55.  9.100\n",
            "Input #0, matroska,webm, from 'Ilegales.mp3':\n",
            "  Metadata:\n",
            "    encoder         : google/video-file\n",
            "  Duration: 00:02:26.72, start: -0.007000, bitrate: 133 kb/s\n",
            "  Stream #0:0(eng): Audio: opus, 48000 Hz, stereo, fltp (default)\n",
            "Stream mapping:\n",
            "  Stream #0:0 -> #0:0 (opus (native) -> pcm_s16le (native))\n",
            "Press [q] to stop, [?] for help\n",
            "Output #0, wav, to 'output.wav':\n",
            "  Metadata:\n",
            "    ISFT            : Lavf58.76.100\n",
            "  Stream #0:0(eng): Audio: pcm_s16le ([1][0][0][0] / 0x0001), 48000 Hz, stereo, s16, 1536 kb/s (default)\n",
            "    Metadata:\n",
            "      encoder         : Lavc58.134.100 pcm_s16le\n",
            "size=   27508kB time=00:02:26.70 bitrate=1536.1kbits/s speed= 194x    \n",
            "video:0kB audio:27508kB subtitle:0kB other streams:0kB global headers:0kB muxing overhead: 0.000277%\n"
          ]
        }
      ],
      "source": [
        "!ffmpeg -y -i Ilegales.mp3 output.wav"
      ]
    },
    {
      "cell_type": "code",
      "execution_count": null,
      "metadata": {
        "colab": {
          "base_uri": "https://localhost:8080/"
        },
        "id": "put4PRmon4fx",
        "outputId": "c8c389d8-70c1-44ec-fd43-be8200896cde"
      },
      "outputs": [
        {
          "output_type": "stream",
          "name": "stdout",
          "text": [
            "Writing /content/pages/Punto_3.py\n"
          ]
        }
      ],
      "source": [
        "%%writefile /content/pages/Punto_3.py\n",
        "#Codigo del Dashboard\n",
        "import streamlit as st\n",
        "import pandas as pd\n",
        "import numpy as np\n",
        "import os\n",
        "import subprocess\n",
        "import soundfile as sf\n",
        "import matplotlib.pyplot as plt\n",
        "from sklearn.preprocessing import MinMaxScaler\n",
        "from sklearn.manifold import TSNE\n",
        "import yt_dlp as youtube_dl\n",
        "import joblib\n",
        "import matplotlib.pyplot as plt\n",
        "from scipy.fft import fft, rfftfreq\n",
        "\n",
        "st.set_page_config(\n",
        "    page_title=\"Punto3\",\n",
        "    page_icon=\"3️⃣\",\n",
        ")\n",
        "\n",
        "st.title(\"Punto 3\")\n",
        "st.header(\"Frecuencia de la señal modelada en amplitud\")\n",
        "\n",
        "nombre_out = \"output.wav\"\n",
        "audio = \"/content/output.wav\"\n",
        "song_duration = st.slider('Segundos de duración:')\n",
        "st.audio(audio, format='audio/wav', start_time=0, end_time=song_duration)\n",
        "x, fs = sf.read(nombre_out)\n",
        "# read speech signal from file\n",
        "print('Frecuencia de muestreo %.2f[Hz]\\naudio %s' % (fs,nombre_out))\n",
        "\n",
        "# Cargar el archivo de audio\n",
        "audio_signal, sampling_rate = sf.read(nombre_out)\n",
        "\n",
        "# Verificar cuántos canales tiene el archivo\n",
        "print(f\"Forma del audio: {audio_signal.shape}\")\n",
        "\n",
        "# Si es estéreo (2 canales), lo convertimos en mono promediando los canales\n",
        "if len(audio_signal.shape) > 1 and audio_signal.shape[1] == 2:\n",
        "    audio_mono = np.mean(audio_signal, axis=1)\n",
        "else:\n",
        "    audio_mono = audio_signal  # Si ya es mono, no hacemos nada\n",
        "\n",
        "# Guardar el archivo de audio en mono\n",
        "sf.write('audio_mono.wav', audio_mono, sampling_rate)\n",
        "\n",
        "audio_mono.shape\n",
        "\n",
        "ti, tf = st.slider('Seleccione el rango de procesamiento',max_value=120,value=(20, 25))\n",
        "\n",
        "xpro = audio_mono.copy() #copiar archivos para procesar\n",
        "#ti = 20 #tiempo incio a procesar seg\n",
        "#tf = 25 #tiempo final a procesar seg\n",
        "xs = xpro[int(ti*fs):int((tf*fs))]\n",
        "\n",
        "from IPython.display import Audio\n",
        "ns = 120 #se reproducen los primeros ns segundos\n",
        "Audio(xs[:int(fs*ns)].T,rate=fs)\n",
        "\n",
        "audio_mono = audio_mono / np.max(np.abs(audio_mono))\n",
        "xs= xs/np.max(np.abs(xs))\n",
        "\n",
        "# Simulación de modulación por amplitud (AM)\n",
        "def am_modulate(audio_signal, carrier_freq, sampling_rate, mod_index):\n",
        "    t = np.arange(len(audio_signal)) / sampling_rate\n",
        "    carrier = np.sin(2 * np.pi * carrier_freq * t)\n",
        "    am_signal = (1 + mod_index * audio_signal) * carrier\n",
        "    return t, carrier, am_signal\n",
        "\n",
        "#Simulación de la modulación AM\n",
        "carrier_freq = 120000  #Frecuencia de la portadora\n",
        "mod_index = float(st.number_input(\"Ingrese el indice de modulacion:\",value=100.1))   # Índice de modulación\n",
        "t, carrier, am_signal = am_modulate(audio_mono, carrier_freq, sampling_rate, mod_index)\n",
        "\n",
        "def plot_signal(time, signal, title):\n",
        "    plt.figure(num=1, figsize=(10, 4))\n",
        "    plt.plot(time, signal)\n",
        "    plt.title(title)\n",
        "    plt.xlabel('Tiempo [s]')\n",
        "    plt.ylabel('Amplitud')\n",
        "    plt.grid()\n",
        "    st.pyplot()\n",
        "\n",
        "def plot_frequency(signal, sampling_rate, title):\n",
        "    N = len(signal)\n",
        "    yf = np.fft.rfft(signal)\n",
        "    xf = np.fft.rfftfreq(N, 1 / sampling_rate)[:N // 2]\n",
        "    plt.figure(num=2, figsize=(10, 4))\n",
        "    plt.plot(xf, 2.0 / N * np.abs(yf[:N // 2]))\n",
        "    plt.title(title)\n",
        "    plt.grid()\n",
        "    st.pyplot()\n",
        "    plt.xlabel('Frecuencia [Hz]')\n",
        "    plt.ylabel('Amplitud')\n",
        "st.subheader(\"Graficas de la señal\")\n",
        "\n",
        "plot_signal(t, audio_mono, \"Señal de Mensaje (Tiempo)\")\n",
        "plot_signal(t, carrier, \"Señal Portadora (Tiempo)\")\n",
        "plot_signal(t, am_signal, \"Señal Modulada AM (Tiempo)\")\n",
        "\n",
        "#Transformada de Fourier para mostrar en frecuencia\n",
        "plot_frequency(audio_mono, sampling_rate, \"Señal de Mensaje (Frecuencia)\")\n",
        "plot_frequency(carrier, sampling_rate, \"Señal Portadora (Frecuencia)\")\n",
        "plot_frequency(am_signal, sampling_rate, \"Señal Modulada AM (Frecuencia)\")\n",
        "\n",
        " #Reproducir los audios\n",
        "st.header(\"Señales resultantes\")\n",
        "play, fin = st.slider('Seleccione el rango de Reproduccion',max_value=120,value=(20, 25))\n",
        "\n",
        "#Señal En Mono\n",
        "st.audio(xs, sample_rate=fs)\n",
        "\n",
        "#Señal Portadora\n",
        "xpro_1 = carrier.copy() #copiar archivos para procesar\n",
        "#ti = 20 #tiempo incio a procesar seg\n",
        "#tf = 25 #tiempo final a procesar seg\n",
        "xs_1 = xpro_1[int(play*fs):int((fin*fs))]\n",
        "st.audio(xs_1, sample_rate=fs)\n",
        "\n",
        "#Señal Modulada\n",
        "xpro_2= am_signal.copy() #copiar archivos para procesar\n",
        "#ti = 20 #tiempo incio a procesar seg\n",
        "#tf = 25 #tiempo final a procesar seg\n",
        "xs_2 = xpro_2[int(play*fs):int((fin*fs))]\n",
        "st.audio(xs_2, sample_rate=fs)\n"
      ]
    },
    {
      "cell_type": "markdown",
      "metadata": {
        "id": "8ARcMct_Xqmv"
      },
      "source": [
        "#Punto 4"
      ]
    },
    {
      "cell_type": "code",
      "execution_count": null,
      "metadata": {
        "colab": {
          "base_uri": "https://localhost:8080/"
        },
        "id": "UaCaorK9XuNP",
        "outputId": "93a39cd5-64c2-4a96-ae23-09ce40d4b326"
      },
      "outputs": [
        {
          "output_type": "stream",
          "name": "stdout",
          "text": [
            "Writing /content/pages/Punto_4.py\n"
          ]
        }
      ],
      "source": [
        "%%writefile /content/pages/Punto_4.py\n",
        "\n",
        "import streamlit as st\n",
        "import pandas as pd\n",
        "import numpy as np\n",
        "import os\n",
        "import subprocess\n",
        "import soundfile as sf\n",
        "import matplotlib.pyplot as plt\n",
        "from sklearn.preprocessing import MinMaxScaler\n",
        "from sklearn.manifold import TSNE\n",
        "import joblib\n",
        "import matplotlib.pyplot as plt\n",
        "from scipy.fft import fft, fftfreq\n",
        "\n",
        "st.set_page_config(\n",
        "    page_title=\"Punto4\",\n",
        "    page_icon=\"4️⃣\",\n",
        ")\n",
        "st.title(\"PUNTO 4\")\n",
        "st.header(\"Calculo de Distorsion total de armonicos\")\n",
        "# Parámetros del sistema\n",
        "sampling_rate = 10000  # Frecuencia de muestreo\n",
        "T = 1.0 / sampling_rate  # Intervalo de tiempo\n",
        "t = np.linspace(0, 1.0, sampling_rate)\n",
        "\n",
        "# Generar señal del rectificador de onda completa\n",
        "def rectificador_onda_completa(t, f, R, C=None):\n",
        "    # Onda senoidal fundamental\n",
        "    signal = np.abs(np.sin(2 * np.pi * f * t))\n",
        "\n",
        "    if C is not None:\n",
        "        # Respuesta para carga RC\n",
        "        tau = R * C\n",
        "        signal = signal * np.exp(-t / tau)\n",
        "\n",
        "    return signal\n",
        "\n",
        "# Calcular la FFT y los armónicos\n",
        "def calcular_fft(signal, sampling_rate):\n",
        "    N = len(signal)\n",
        "    yf = fft(signal)\n",
        "    xf = fftfreq(N, 1 / sampling_rate)[:N // 2]\n",
        "    return xf, np.abs(yf[:N // 2])\n",
        "\n",
        "# Calcular THD\n",
        "def calcular_thd(yf):\n",
        "    V1 = yf[1]  # El primer armónico\n",
        "    harmonics = np.sqrt(np.sum(yf[2:]**2))\n",
        "    thd = harmonics / V1\n",
        "    return thd\n",
        "\n",
        "# Parámetros de la simulación\n",
        "st.subheader(\"Parámetros de la simulación\")\n",
        "f = 60  # Frecuencia de la señal de entrada (50 Hz)\n",
        "R = float(st.number_input(\"Ingrese el valor de R deseado:\", value=10.1))  # Valor de la resistencia (ohmios)\n",
        "C = float(st.number_input(\"Ingrese el valor de C deseado:\", value=1.1))  # Valor del condensador (faradios)\n",
        "\n",
        "# Simulación para carga resistiva pura\n",
        "signal_resistiva = rectificador_onda_completa(t, f, R)\n",
        "\n",
        "# Simulación para carga RC en serie\n",
        "signal_rc = rectificador_onda_completa(t, f, R, C)\n",
        "\n",
        "# FFT de ambas señales\n",
        "xf_res, yf_res = calcular_fft(signal_resistiva, sampling_rate)\n",
        "xf_rc, yf_rc = calcular_fft(signal_rc, sampling_rate)\n",
        "\n",
        "# Calcular THD\n",
        "thd_resistiva = calcular_thd(yf_res)\n",
        "thd_rc = calcular_thd(yf_rc)\n",
        "\n",
        "st.write(f\"THD para carga resistiva pura: {thd_resistiva:.4f}\")\n",
        "st.write(f\"THD para carga RC: {thd_rc:.4f}\")\n",
        "\n",
        "# Graficar señales y su espectro\n",
        "plt.figure(figsize=(12, 6))\n",
        "\n",
        "# Señal en el dominio del tiempo\n",
        "plt.subplot(2, 2, 1)\n",
        "plt.plot(t[:500], signal_resistiva[:500])\n",
        "plt.title(\"Señal con carga resistiva pura\")\n",
        "plt.xlabel(\"Tiempo [s]\")\n",
        "plt.ylabel(\"Amplitud\")\n",
        "\n",
        "plt.subplot(2, 2, 2)\n",
        "plt.plot(t[:500], signal_rc[:500])\n",
        "plt.title(\"Señal con carga RC\")\n",
        "plt.xlabel(\"Tiempo [s]\")\n",
        "plt.ylabel(\"Amplitud\")\n",
        "\n",
        "# FFT de las señales\n",
        "plt.subplot(2, 2, 3)\n",
        "plt.plot(xf_res, yf_res)\n",
        "plt.title(\"FFT - Carga resistiva pura\")\n",
        "plt.xlabel(\"Frecuencia [Hz]\")\n",
        "plt.ylabel(\"Amplitud\")\n",
        "\n",
        "plt.subplot(2, 2, 4)\n",
        "plt.plot(xf_rc, yf_rc)\n",
        "plt.title(\"FFT - Carga RC\")\n",
        "plt.xlabel(\"Frecuencia [Hz]\")\n",
        "plt.ylabel(\"Amplitud\")\n",
        "\n",
        "plt.tight_layout()\n",
        "st.pyplot()\n"
      ]
    },
    {
      "cell_type": "code",
      "execution_count": null,
      "metadata": {
        "colab": {
          "base_uri": "https://localhost:8080/"
        },
        "id": "9r814c8-TprR",
        "outputId": "eadfe550-42c7-4160-a9e5-fe47d33e7856"
      },
      "outputs": [
        {
          "output_type": "stream",
          "name": "stdout",
          "text": [
            "Writing Parcial_2.py\n"
          ]
        }
      ],
      "source": [
        "%%writefile Parcial_2.py\n",
        "import os\n",
        "import streamlit as st\n",
        "from streamlit_option_menu import option_menu\n",
        "#import Punto_2, Punto_4\n",
        "\n",
        "st.set_page_config(\n",
        "    page_title=\"Parcial2\",\n",
        "    page_icon=\"💻\",\n",
        ")\n",
        "st.write(\"# PARCIAL 2 \")\n",
        "\n",
        "st.sidebar.success(\"Seleccione el ejercicio\")\n",
        "\n",
        "st.markdown(\n",
        "    \"\"\"\n",
        "    ### Presentado por:\n",
        "    - Valeria Gallego Duque\n",
        "    - Juan Diego Garcia Quintero\n",
        "    - Alejandro Bernal Valencia\n",
        "\"\"\"\n",
        ")"
      ]
    },
    {
      "cell_type": "code",
      "execution_count": null,
      "metadata": {
        "colab": {
          "base_uri": "https://localhost:8080/"
        },
        "id": "i0sOjkGlcDZF",
        "outputId": "3c13d288-411c-4cdd-979e-efbe8f5d8ee0"
      },
      "outputs": [
        {
          "output_type": "stream",
          "name": "stdout",
          "text": [
            "34.147.31.2\n"
          ]
        }
      ],
      "source": [
        "!streamlit run Parcial_2.py &>/content/logs.txt & curl ipv4.icanhazip.com"
      ]
    },
    {
      "cell_type": "code",
      "execution_count": null,
      "metadata": {
        "colab": {
          "base_uri": "https://localhost:8080/"
        },
        "id": "_DQ9sbNIcDrF",
        "outputId": "b4590e13-7075-4add-f11c-be08c8ed5d23"
      },
      "outputs": [
        {
          "output_type": "stream",
          "name": "stdout",
          "text": [
            "your url is: https://common-bats-see.loca.lt\n",
            "^C\n"
          ]
        }
      ],
      "source": [
        "!npx localtunnel --port 8501"
      ]
    }
  ],
  "metadata": {
    "colab": {
      "provenance": [],
      "include_colab_link": true
    },
    "kernelspec": {
      "display_name": "Python 3",
      "name": "python3"
    },
    "language_info": {
      "name": "python"
    }
  },
  "nbformat": 4,
  "nbformat_minor": 0
}